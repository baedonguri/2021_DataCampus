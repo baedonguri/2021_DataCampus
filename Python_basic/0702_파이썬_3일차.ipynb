{
 "cells": [
  {
   "cell_type": "markdown",
   "metadata": {},
   "source": [
    "### 문제5"
   ]
  },
  {
   "cell_type": "code",
   "execution_count": 6,
   "metadata": {},
   "outputs": [
    {
     "name": "stdin",
     "output_type": "stream",
     "text": [
      "meter 입력 : 5\n"
     ]
    },
    {
     "name": "stdout",
     "output_type": "stream",
     "text": [
      "5.0  meter는 5.468 yard,  16.39344262295082  feet입니다.\n"
     ]
    }
   ],
   "source": [
    "def change_meter(meter):\n",
    "    feet = float(meter / 0.305)\n",
    "    yard = float(meter * 1.0936)\n",
    "    return print(meter,' meter는', yard,'yard, ', feet,' feet입니다.')\n",
    "\n",
    "meter = float(input('meter 입력 :'))\n",
    "change_meter(meter)"
   ]
  },
  {
   "cell_type": "markdown",
   "metadata": {},
   "source": [
    "### 문제6"
   ]
  },
  {
   "cell_type": "code",
   "execution_count": 8,
   "metadata": {},
   "outputs": [
    {
     "name": "stdin",
     "output_type": "stream",
     "text": [
      "비밀번호 입력: myPassword\n"
     ]
    },
    {
     "data": {
      "text/plain": [
       "'good'"
      ]
     },
     "execution_count": 8,
     "metadata": {},
     "output_type": "execute_result"
    }
   ],
   "source": [
    "def checkPW(passwd):\n",
    "    if len(passwd) >= 9:\n",
    "        return 'good'\n",
    "    elif len(passwd) >= 5:\n",
    "        return 'Normal'\n",
    "    else:\n",
    "        return 'Bad'\n",
    "    \n",
    "password = input('비밀번호 입력:')\n",
    "checkPW('Your password:',password)"
   ]
  },
  {
   "cell_type": "code",
   "execution_count": 17,
   "metadata": {},
   "outputs": [],
   "source": [
    "def objection(dest):\n",
    "    \n",
    "    if dest == '춘천':\n",
    "        charge = 5000\n",
    "    elif dest == '부산':\n",
    "        charge = 30000\n",
    "    elif dest == '대구':\n",
    "        charge = 20000\n",
    "    elif dest == '수원':\n",
    "        charge = 10000\n",
    "    else:\n",
    "        print('잘못입력하셨습니다.')\n",
    "        \n",
    "        \n",
    "    return charge"
   ]
  },
  {
   "cell_type": "code",
   "execution_count": 18,
   "metadata": {},
   "outputs": [],
   "source": [
    "def train(tra):\n",
    "    \n",
    "    if tra == 'KTX':\n",
    "        charge = 10000\n",
    "    elif tra == '새마을호':\n",
    "        charge = 5000\n",
    "    elif tra == '무궁화호':\n",
    "        charge = 3000\n",
    "    else:\n",
    "        print('다시 입력하세요')\n",
    "        \n",
    "    return charge"
   ]
  },
  {
   "cell_type": "code",
   "execution_count": 24,
   "metadata": {},
   "outputs": [],
   "source": [
    "def ud(seat):\n",
    "    \n",
    "    if seat =='좌석':\n",
    "        charge = 10000\n",
    "    elif seat == '입석':\n",
    "        charge = 0\n",
    "    else:\n",
    "        print('다시 입력하세요')\n",
    "    return charge"
   ]
  },
  {
   "cell_type": "code",
   "execution_count": 12,
   "metadata": {},
   "outputs": [],
   "source": [
    "def cal_payment(a,b,c):\n",
    "    x = objection(a)\n",
    "    y = train(b)\n",
    "    z = ud(c)\n",
    "    \n",
    "    return print('열차 이용 요금은 :', x+y+z, '원입니다')"
   ]
  },
  {
   "cell_type": "code",
   "execution_count": 25,
   "metadata": {},
   "outputs": [
    {
     "name": "stdin",
     "output_type": "stream",
     "text": [
      "목적지를 입력하세요: 부산\n",
      "탑승할 열차의 종류를 입력하세요: KTX\n",
      "좌석의 종류를 입력하세요: 좌석\n"
     ]
    },
    {
     "name": "stdout",
     "output_type": "stream",
     "text": [
      "열차 이용 요금은 : 50000 원입니다\n"
     ]
    }
   ],
   "source": [
    "ob= input('목적지를 입력하세요:')\n",
    "tr = input('탑승할 열차의 종류를 입력하세요:')\n",
    "u = input('좌석의 종류를 입력하세요:')\n",
    "\n",
    "cal_payment(ob,tr,u)"
   ]
  },
  {
   "cell_type": "markdown",
   "metadata": {},
   "source": [
    "# <리스트>"
   ]
  },
  {
   "cell_type": "code",
   "execution_count": 28,
   "metadata": {},
   "outputs": [
    {
     "name": "stdout",
     "output_type": "stream",
     "text": [
      "28, 31, 33, 35, 27, 26, 25, "
     ]
    }
   ],
   "source": [
    "temps = [28,31,33,35,27,26,25]\n",
    "\n",
    "for i in range(len(temps)):\n",
    "    print(temps[i], end=', ')"
   ]
  },
  {
   "cell_type": "code",
   "execution_count": 30,
   "metadata": {},
   "outputs": [
    {
     "name": "stdout",
     "output_type": "stream",
     "text": [
      "28, 31, 33, 35, 27, 26, 25, "
     ]
    }
   ],
   "source": [
    "temps = [28,31,33,35,27,26,25]\n",
    "for element in temps:\n",
    "    print(element, end=', ')"
   ]
  },
  {
   "cell_type": "code",
   "execution_count": 33,
   "metadata": {},
   "outputs": [
    {
     "name": "stdout",
     "output_type": "stream",
     "text": [
      "What is your name? It is Kim\n",
      "What is your quest? It is python\n",
      "What is your color? It is blue\n"
     ]
    }
   ],
   "source": [
    "questions = ['name', 'quest', 'color']\n",
    "answers = ['Kim', 'python', 'blue']\n",
    "\n",
    "for q, a in zip(questions, answers):\n",
    "    print(f\"What is your {q}? It is {a}\")"
   ]
  },
  {
   "cell_type": "code",
   "execution_count": 34,
   "metadata": {},
   "outputs": [
    {
     "name": "stdout",
     "output_type": "stream",
     "text": [
      "['아이언맨', '토르']\n"
     ]
    }
   ],
   "source": [
    "heroes = []\n",
    "heroes.append('아이언맨')\n",
    "heroes.append('토르')\n",
    "print(heroes)"
   ]
  },
  {
   "cell_type": "code",
   "execution_count": 37,
   "metadata": {},
   "outputs": [
    {
     "name": "stdout",
     "output_type": "stream",
     "text": [
      "2\n"
     ]
    }
   ],
   "source": [
    "heroes = ['아이언맨', '토르', '헐크', '스칼렛 위치', '헐크']\n",
    "n = heroes.index('헐크')\n",
    "print(n)"
   ]
  },
  {
   "cell_type": "code",
   "execution_count": 38,
   "metadata": {},
   "outputs": [
    {
     "name": "stdout",
     "output_type": "stream",
     "text": [
      "['아이언맨', '헐크']\n"
     ]
    }
   ],
   "source": [
    "heroes = ['아이언맨', '토르', '헐크']\n",
    "heroes.pop(1)\n",
    "print(heroes)"
   ]
  },
  {
   "cell_type": "code",
   "execution_count": 40,
   "metadata": {},
   "outputs": [
    {
     "data": {
      "text/plain": [
       "[1, 2, 3, 4, 5]"
      ]
     },
     "execution_count": 40,
     "metadata": {},
     "output_type": "execute_result"
    }
   ],
   "source": [
    "a = [3,2,1,5,4]\n",
    "a.sort()\n",
    "a"
   ]
  },
  {
   "cell_type": "code",
   "execution_count": 42,
   "metadata": {},
   "outputs": [
    {
     "data": {
      "text/plain": [
       "['아이언맨', '토르', '헐크']"
      ]
     },
     "execution_count": 42,
     "metadata": {},
     "output_type": "execute_result"
    }
   ],
   "source": [
    "heroes = ['아이언맨', '헐크', '토르']\n",
    "heroes.sort()\n",
    "heroes"
   ]
  },
  {
   "cell_type": "code",
   "execution_count": 43,
   "metadata": {},
   "outputs": [
    {
     "data": {
      "text/plain": [
       "[5, 4, 3, 2, 1]"
      ]
     },
     "execution_count": 43,
     "metadata": {},
     "output_type": "execute_result"
    }
   ],
   "source": [
    "a=[3,2,1,5,4]\n",
    "a.sort(reverse=True)\n",
    "a"
   ]
  },
  {
   "cell_type": "code",
   "execution_count": 44,
   "metadata": {},
   "outputs": [
    {
     "name": "stdout",
     "output_type": "stream",
     "text": [
      "합= 150\n",
      "최대값= 50\n",
      "최소값= 10\n"
     ]
    }
   ],
   "source": [
    "num = [10,20,30,40,50]\n",
    "\n",
    "print('합=', sum(num))\n",
    "print('최대값=', max(num))\n",
    "print('최소값=', min(num))"
   ]
  },
  {
   "cell_type": "code",
   "execution_count": 45,
   "metadata": {},
   "outputs": [
    {
     "name": "stdout",
     "output_type": "stream",
     "text": [
      "랜덤하게 선택한 항목= 6\n"
     ]
    }
   ],
   "source": [
    "import random\n",
    "\n",
    "numList = [1,2,3,4,5,6,6,7,8,9,10]\n",
    "print('랜덤하게 선택한 항목=', random.choice(numList))"
   ]
  },
  {
   "cell_type": "code",
   "execution_count": 55,
   "metadata": {},
   "outputs": [
    {
     "name": "stdout",
     "output_type": "stream",
     "text": [
      "현재 리스트:[30, 10, 20]\n",
      "append(40)후의 리스트:[30, 10, 20, 40]\n",
      "pop()으로 추출한 값 40\n",
      "pop()후의 리스트:[30, 10, 20]\n",
      "sort()후의 리스트 : [10, 20, 30]\n",
      "reverse()후의 리스트 :\n",
      "20값의 위치 1\n",
      "insert(2,222) 후의 리스트: [10, 20, 222, 30]\n",
      "remove(222) 후의 리스트 [10, 20, 30]\n",
      "extend([77,88,77]) 후의 리스트 [10, 20, 30, 77, 88, 77]\n",
      "77값의 개수 2\n"
     ]
    }
   ],
   "source": [
    "mylist = [30,10,20]\n",
    "print('현재 리스트:%s'%mylist)\n",
    "\n",
    "mylist.append(40)\n",
    "print('append(40)후의 리스트:%s'%mylist)\n",
    "\n",
    "\n",
    "print(\"pop()으로 추출한 값\",mylist.pop())\n",
    "print('pop()후의 리스트:%s'%mylist)\n",
    "\n",
    "mylist.sort()\n",
    "print('sort()후의 리스트 :', mylist)\n",
    "print('reverse()후의 리스트 :')\n",
    "\n",
    "print('20값의 위치', mylist.index(20))\n",
    "\n",
    "mylist.insert(2,222)\n",
    "print('insert(2,222) 후의 리스트:',mylist)\n",
    "\n",
    "mylist.remove(222)\n",
    "print('remove(222) 후의 리스트',mylist)\n",
    "\n",
    "mylist.extend([77,88,77])\n",
    "print('extend([77,88,77]) 후의 리스트',mylist)\n",
    "\n",
    "print('77값의 개수', mylist.count(77))"
   ]
  },
  {
   "cell_type": "code",
   "execution_count": 66,
   "metadata": {},
   "outputs": [
    {
     "name": "stdin",
     "output_type": "stream",
     "text": [
      "성적을 입력하세요 10\n",
      "성적을 입력하세요 20\n",
      "성적을 입력하세요 60\n",
      "성적을 입력하세요 70\n",
      "성적을 입력하세요 80\n"
     ]
    },
    {
     "name": "stdout",
     "output_type": "stream",
     "text": [
      "성적평균= 48.0\n",
      "최대점수= 80\n",
      "최소점수= 10\n",
      "80점이상= 1\n"
     ]
    }
   ],
   "source": [
    "student = 5\n",
    "lst = []\n",
    "cnt = 0\n",
    "\n",
    "for i in range(student):\n",
    "    value = int(input('성적을 입력하세요'))\n",
    "    lst.append(value)\n",
    "    \n",
    "print('성적평균=', sum(lst)/len(lst))\n",
    "print('최대점수=', max(lst))\n",
    "print('최소점수=', min(lst))\n",
    "\n",
    "for i in lst:\n",
    "    if i>=80:\n",
    "        cnt+=1\n",
    "print('80점이상=', cnt)"
   ]
  },
  {
   "cell_type": "code",
   "execution_count": 67,
   "metadata": {},
   "outputs": [
    {
     "name": "stdout",
     "output_type": "stream",
     "text": [
      "두번째로 큰 수= 15\n"
     ]
    }
   ],
   "source": [
    "list1 = [1,2,3,4,15,99]\n",
    "\n",
    "list1.sort()\n",
    "\n",
    "print('두번째로 큰 수=', list1[-2])"
   ]
  },
  {
   "cell_type": "code",
   "execution_count": 68,
   "metadata": {},
   "outputs": [
    {
     "name": "stdout",
     "output_type": "stream",
     "text": [
      "두번째로 큰 수= 15\n"
     ]
    }
   ],
   "source": [
    "list1 = [1,2,3,4,15,99]\n",
    "\n",
    "list1.remove(max(list1))\n",
    "\n",
    "print('두번째로 큰 수=', max(list1))"
   ]
  },
  {
   "cell_type": "code",
   "execution_count": 70,
   "metadata": {},
   "outputs": [
    {
     "name": "stdout",
     "output_type": "stream",
     "text": [
      "제거전 [10.0, 9.0, 8.3, 7.1, 3.0, 9.0]\n",
      "제거후 [9.0, 8.3, 7.1, 9.0]\n"
     ]
    }
   ],
   "source": [
    "before = [10.0, 9.0, 8.3, 7.1, 3.0, 9.0]\n",
    "print('제거전', before)\n",
    "\n",
    "before.remove(max(before))\n",
    "before.remove(min(before))\n",
    "\n",
    "print('제거후', before)"
   ]
  },
  {
   "cell_type": "code",
   "execution_count": 74,
   "metadata": {},
   "outputs": [
    {
     "name": "stdin",
     "output_type": "stream",
     "text": [
      "과일을 입력하시오 apple\n",
      "과일을 입력하시오 orange\n",
      "과일을 입력하시오 grape\n"
     ]
    },
    {
     "name": "stdout",
     "output_type": "stream",
     "text": [
      "grape\n",
      "orange\n",
      "apple\n"
     ]
    }
   ],
   "source": [
    "stack=[]\n",
    "\n",
    "for i in range(3):\n",
    "    f = input('과일을 입력하시오')\n",
    "    stack.append(f)\n",
    "\n",
    "for i in range(3):\n",
    "    print(stack.pop())"
   ]
  },
  {
   "cell_type": "code",
   "execution_count": 75,
   "metadata": {},
   "outputs": [
    {
     "name": "stdout",
     "output_type": "stream",
     "text": [
      "전체 요소의 갯수= 15\n"
     ]
    }
   ],
   "source": [
    "string = ['happy','love','dog','cat']\n",
    "num = [1,2,6,3,9,5]\n",
    "empty = []\n",
    "mix = [4.0, 'hi',1,'sum','x']\n",
    "\n",
    "x = len(string)+len(num)+len(empty)+len(mix)\n",
    "\n",
    "print('전체 요소의 갯수=',x)"
   ]
  },
  {
   "cell_type": "code",
   "execution_count": 76,
   "metadata": {},
   "outputs": [
    {
     "name": "stdout",
     "output_type": "stream",
     "text": [
      "[28, 31, 33, 35, 27, 26, 25]\n",
      "[28, 31, 33, 39, 27, 26, 25]\n"
     ]
    }
   ],
   "source": [
    "temps = [28,31,33,35,27,26,25]\n",
    "values = temps\n",
    "\n",
    "print(temps)\n",
    "values[3] = 39\n",
    "print(temps)"
   ]
  },
  {
   "cell_type": "code",
   "execution_count": 78,
   "metadata": {},
   "outputs": [
    {
     "name": "stdout",
     "output_type": "stream",
     "text": [
      "[28, 31, 33, 35, 27, 26, 25]\n",
      "[28, 31, 33, 35, 27, 26, 25]\n",
      "[28, 31, 33, 39, 27, 26, 25]\n"
     ]
    }
   ],
   "source": [
    "temps = [28,31,33,35,27,26,25]\n",
    "values = list(temps)\n",
    "\n",
    "print(temps)\n",
    "values[3] = 39\n",
    "print(temps)\n",
    "print(values)\n"
   ]
  },
  {
   "cell_type": "code",
   "execution_count": 81,
   "metadata": {},
   "outputs": [
    {
     "name": "stdout",
     "output_type": "stream",
     "text": [
      "[30, 40, 50, 60, 70]\n"
     ]
    }
   ],
   "source": [
    "numbers = [10,20,30,40,50,60,70,80,90]\n",
    "\n",
    "sublist= numbers[2:7]\n",
    "print(sublist)"
   ]
  },
  {
   "cell_type": "code",
   "execution_count": 82,
   "metadata": {},
   "outputs": [],
   "source": [
    "new_numbers = numbers[:] #깊은복사"
   ]
  },
  {
   "cell_type": "code",
   "execution_count": 84,
   "metadata": {},
   "outputs": [
    {
     "name": "stdout",
     "output_type": "stream",
     "text": [
      "[30, 50, 70]\n"
     ]
    }
   ],
   "source": [
    "numbers = [10,20,30,40,50,60,70,80,90]\n",
    "sublist = numbers[2:7:2]\n",
    "print(sublist)"
   ]
  },
  {
   "cell_type": "code",
   "execution_count": 85,
   "metadata": {},
   "outputs": [
    {
     "data": {
      "text/plain": [
       "[90, 80, 70, 60, 50, 40, 30, 20, 10]"
      ]
     },
     "execution_count": 85,
     "metadata": {},
     "output_type": "execute_result"
    }
   ],
   "source": [
    "numbers = [10,20,30,40,50,60,70,80,90]\n",
    "numbers[::-1]"
   ]
  },
  {
   "cell_type": "code",
   "execution_count": 86,
   "metadata": {},
   "outputs": [
    {
     "data": {
      "text/plain": [
       "['white', 'blue', 'red', 4, 5, 6, 7, 8]"
      ]
     },
     "execution_count": 86,
     "metadata": {},
     "output_type": "execute_result"
    }
   ],
   "source": [
    "lst = [1,2,3,4,5,6,7,8]\n",
    "lst[0:3] = ['white', 'blue','red']\n",
    "lst"
   ]
  },
  {
   "cell_type": "code",
   "execution_count": 87,
   "metadata": {},
   "outputs": [
    {
     "data": {
      "text/plain": [
       "[99, 2, 99, 4, 99, 6, 99, 8]"
      ]
     },
     "execution_count": 87,
     "metadata": {},
     "output_type": "execute_result"
    }
   ],
   "source": [
    "lst = [1,2,3,4,5,6,7,8]\n",
    "lst[::2] = [99,99,99,99]\n",
    "lst"
   ]
  },
  {
   "cell_type": "code",
   "execution_count": 89,
   "metadata": {},
   "outputs": [
    {
     "name": "stdout",
     "output_type": "stream",
     "text": [
      "[0, 1, 2, 3, 4, 5, 6, 7, 8, 9]\n",
      "[0, 1, 2, 3, 4, 5, 6, 7, 8]\n"
     ]
    }
   ],
   "source": [
    "numbers = list(range(0,10))\n",
    "print(numbers)\n",
    "del numbers[-1]\n",
    "print(numbers)"
   ]
  },
  {
   "cell_type": "code",
   "execution_count": 90,
   "metadata": {},
   "outputs": [
    {
     "name": "stdout",
     "output_type": "stream",
     "text": [
      "M\n",
      "Pyth\n",
      "Monty\n"
     ]
    }
   ],
   "source": [
    "s = 'Monty Python'\n",
    "print(s[0])\n",
    "print(s[6:10])\n",
    "print(s[-12:-7])"
   ]
  },
  {
   "cell_type": "markdown",
   "metadata": {},
   "source": [
    "### 다양한 리스트 함축"
   ]
  },
  {
   "cell_type": "code",
   "execution_count": 92,
   "metadata": {},
   "outputs": [
    {
     "data": {
      "text/plain": [
       "[0, 1, 4, 9, 16, 25, 36, 49, 64, 81]"
      ]
     },
     "execution_count": 92,
     "metadata": {},
     "output_type": "execute_result"
    }
   ],
   "source": [
    "squares = [i*i for i in range(10)]\n",
    "squares"
   ]
  },
  {
   "cell_type": "code",
   "execution_count": 93,
   "metadata": {},
   "outputs": [
    {
     "data": {
      "text/plain": [
       "[0, 4, 16, 36, 64]"
      ]
     },
     "execution_count": 93,
     "metadata": {},
     "output_type": "execute_result"
    }
   ],
   "source": [
    "squares = [x*x for x in range(10) if x%2==0]\n",
    "squares"
   ]
  },
  {
   "cell_type": "code",
   "execution_count": 95,
   "metadata": {},
   "outputs": [
    {
     "data": {
      "text/plain": [
       "[135, 0, 922, 356, 0, 217]"
      ]
     },
     "execution_count": 95,
     "metadata": {},
     "output_type": "execute_result"
    }
   ],
   "source": [
    "price = [135,-545, 922, 356, -992, 217]\n",
    "mprice = [i if i>0 else 0 for i in price]\n",
    "mprice"
   ]
  },
  {
   "cell_type": "code",
   "execution_count": 96,
   "metadata": {},
   "outputs": [
    {
     "data": {
      "text/plain": [
       "['A', 'g', 't', 'm', 'c', 't', 'a', 'e']"
      ]
     },
     "execution_count": 96,
     "metadata": {},
     "output_type": "execute_result"
    }
   ],
   "source": [
    "words = ['All', 'good','things','must','come','to','an','end']\n",
    "letter = [w[0] for w in words]\n",
    "letter"
   ]
  },
  {
   "cell_type": "code",
   "execution_count": 98,
   "metadata": {},
   "outputs": [
    {
     "data": {
      "text/plain": [
       "['ax', 'ay', 'az', 'bx', 'by', 'bz', 'cx', 'cy', 'cz']"
      ]
     },
     "execution_count": 98,
     "metadata": {},
     "output_type": "execute_result"
    }
   ],
   "source": [
    "numbers = [x+y for x in ['a','b','c'] for y in ['x','y','z']]\n",
    "numbers"
   ]
  },
  {
   "cell_type": "markdown",
   "metadata": {},
   "source": [
    "### 2차원 리스트"
   ]
  },
  {
   "cell_type": "code",
   "execution_count": 101,
   "metadata": {},
   "outputs": [
    {
     "name": "stdout",
     "output_type": "stream",
     "text": [
      "s= [[0, 0, 0, 0, 0], [0, 0, 0, 0, 0], [0, 0, 0, 0, 0]]\n"
     ]
    }
   ],
   "source": [
    "#동적으로 2차원 리스트 생성\n",
    "\n",
    "rows = 3\n",
    "cols = 5\n",
    "\n",
    "s = []\n",
    "\n",
    "for row in range(rows):\n",
    "    s+= [[0]*cols]\n",
    "    \n",
    "print(\"s=\",s)"
   ]
  },
  {
   "cell_type": "markdown",
   "metadata": {},
   "source": [
    "### 문제1"
   ]
  },
  {
   "cell_type": "code",
   "execution_count": 103,
   "metadata": {},
   "outputs": [
    {
     "name": "stdout",
     "output_type": "stream",
     "text": [
      "[10, 8, 6, 4, 2]\n",
      "[1]\n"
     ]
    }
   ],
   "source": [
    "numbers = [1,2,3,4,5,6,7,8,9,10]\n",
    "lst = numbers[::-2]\n",
    "print(lst)\n",
    "\n"
   ]
  },
  {
   "cell_type": "code",
   "execution_count": 104,
   "metadata": {},
   "outputs": [
    {
     "name": "stdout",
     "output_type": "stream",
     "text": [
      "[1]\n"
     ]
    }
   ],
   "source": [
    "numbers = [1,2,3,4,5,6,7,8,9,10]\n",
    "del numbers[1:]\n",
    "# numbers[1:] = []\n",
    "print(numbers)"
   ]
  },
  {
   "cell_type": "markdown",
   "metadata": {},
   "source": [
    "### 문제2"
   ]
  },
  {
   "cell_type": "code",
   "execution_count": 111,
   "metadata": {},
   "outputs": [
    {
     "name": "stdout",
     "output_type": "stream",
     "text": [
      "인상 전 [200, 250, 300, 280, 500]\n",
      "인상 후 [260.0, 325.0, 390.0, 364.0, 650.0]\n"
     ]
    }
   ],
   "source": [
    "salaries = [200,250,300,280,500]\n",
    "\n",
    "def modify(values, factor):\n",
    "    lst = []\n",
    "    for i in range(len(values)):\n",
    "        values[i] = values[i]*factor\n",
    "        \n",
    "print('인상 전', salaries)\n",
    "modify(salaries, 1.3)\n",
    "print('인상 후', salaries)"
   ]
  },
  {
   "cell_type": "code",
   "execution_count": null,
   "metadata": {},
   "outputs": [],
   "source": []
  }
 ],
 "metadata": {
  "kernelspec": {
   "display_name": "Python 3",
   "language": "python",
   "name": "python3"
  },
  "language_info": {
   "codemirror_mode": {
    "name": "ipython",
    "version": 3
   },
   "file_extension": ".py",
   "mimetype": "text/x-python",
   "name": "python",
   "nbconvert_exporter": "python",
   "pygments_lexer": "ipython3",
   "version": "3.8.5"
  }
 },
 "nbformat": 4,
 "nbformat_minor": 4
}
