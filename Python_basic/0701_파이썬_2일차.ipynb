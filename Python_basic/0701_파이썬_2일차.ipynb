{
 "cells": [
  {
   "cell_type": "markdown",
   "metadata": {},
   "source": [
    "## 반복문을 탈출시키는 break문"
   ]
  },
  {
   "cell_type": "code",
   "execution_count": 1,
   "metadata": {},
   "outputs": [
    {
     "name": "stdin",
     "output_type": "stream",
     "text": [
      "더할 첫번째 수를 입력하세요 : 55\n",
      "더할 두번째 수를 입력하세요 : 22\n"
     ]
    },
    {
     "name": "stdout",
     "output_type": "stream",
     "text": [
      "55 + 22 = 77\n"
     ]
    },
    {
     "name": "stdin",
     "output_type": "stream",
     "text": [
      "더할 첫번째 수를 입력하세요 : 77\n",
      "더할 두번째 수를 입력하세요 : 128\n"
     ]
    },
    {
     "name": "stdout",
     "output_type": "stream",
     "text": [
      "77 + 128 = 205\n"
     ]
    },
    {
     "name": "stdin",
     "output_type": "stream",
     "text": [
      "더할 첫번째 수를 입력하세요 : 0\n"
     ]
    },
    {
     "name": "stdout",
     "output_type": "stream",
     "text": [
      "0을 입력해 반복문을 탈출했습니다.\n"
     ]
    }
   ],
   "source": [
    "hap = 0\n",
    "a,b = 0,0\n",
    "\n",
    "while True:\n",
    "    a = int(input('더할 첫번째 수를 입력하세요 :'))\n",
    "    if a == 0:\n",
    "        break\n",
    "    b= int(input(\"더할 두번째 수를 입력하세요 :\"))\n",
    "    hap = a+b\n",
    "    print(\"%d + %d = %d\"%(a,b,hap))\n",
    "    \n",
    "print('0을 입력해 반복문을 탈출했습니다.')"
   ]
  },
  {
   "cell_type": "code",
   "execution_count": 2,
   "metadata": {},
   "outputs": [
    {
     "name": "stdout",
     "output_type": "stream",
     "text": [
      "45\n"
     ]
    }
   ],
   "source": [
    "hap, i = 0,0\n",
    "\n",
    "for i in range(1,101):\n",
    "    hap += i\n",
    "    \n",
    "    if hap >= 1000:\n",
    "        break\n",
    "        \n",
    "print(i)"
   ]
  },
  {
   "cell_type": "markdown",
   "metadata": {},
   "source": [
    "### 문제1"
   ]
  },
  {
   "cell_type": "code",
   "execution_count": 12,
   "metadata": {},
   "outputs": [
    {
     "name": "stdout",
     "output_type": "stream",
     "text": [
      "*\n",
      "**\n",
      "***\n",
      "****\n",
      "*****\n"
     ]
    }
   ],
   "source": [
    "for i in range(1,6):\n",
    "    for j in range(i):\n",
    "        print('*',end='')\n",
    "    print()"
   ]
  },
  {
   "cell_type": "markdown",
   "metadata": {},
   "source": [
    "### 문제2"
   ]
  },
  {
   "cell_type": "code",
   "execution_count": 23,
   "metadata": {},
   "outputs": [
    {
     "name": "stdin",
     "output_type": "stream",
     "text": [
      "정수를 입력하시오 : 5\n"
     ]
    },
    {
     "name": "stdout",
     "output_type": "stream",
     "text": [
      "1 \n",
      "1 2 \n",
      "1 2 3 \n",
      "1 2 3 4 \n",
      "1 2 3 4 5 \n"
     ]
    }
   ],
   "source": [
    "num = int(input('정수를 입력하시오 :'))\n",
    "\n",
    "for i in range(1, num+1):\n",
    "    for j in range(1, i+1):\n",
    "        print(j, end=' ')\n",
    "    print()"
   ]
  },
  {
   "cell_type": "markdown",
   "metadata": {},
   "source": [
    "### 문제 3"
   ]
  },
  {
   "cell_type": "code",
   "execution_count": 19,
   "metadata": {},
   "outputs": [
    {
     "name": "stdin",
     "output_type": "stream",
     "text": [
      "정수를 입력하시오: 60\n"
     ]
    },
    {
     "name": "stdout",
     "output_type": "stream",
     "text": [
      "1 2 3 4 5 6 10 12 15 20 30 60 "
     ]
    }
   ],
   "source": [
    "num = int(input('정수를 입력하시오:'))\n",
    "\n",
    "\n",
    "for i in range(1,num+1):\n",
    "    if num%i==0:\n",
    "        print(i, end=' ')"
   ]
  },
  {
   "cell_type": "markdown",
   "metadata": {},
   "source": [
    "### 문제 4"
   ]
  },
  {
   "cell_type": "code",
   "execution_count": 31,
   "metadata": {},
   "outputs": [
    {
     "name": "stdin",
     "output_type": "stream",
     "text": [
      "첫번째 정수를 입력하시오 : 3\n",
      "두번째 정수를 입력하시오 : 6\n"
     ]
    },
    {
     "name": "stdout",
     "output_type": "stream",
     "text": [
      "최소공배수 :  3\n"
     ]
    }
   ],
   "source": [
    "x = int(input('첫번째 정수를 입력하시오 :'))\n",
    "y = int(input(\"두번째 정수를 입력하시오 :\"))\n",
    "\n",
    "m = min(x,y)\n",
    "\n",
    "\n",
    "for x in range(1, m+1):\n",
    "    if x%m==0 and y%m==0:\n",
    "        gcd = m\n",
    "        \n",
    "print('최소공배수 : ',gcd)"
   ]
  },
  {
   "cell_type": "markdown",
   "metadata": {},
   "source": [
    "### 문제 5"
   ]
  },
  {
   "cell_type": "code",
   "execution_count": 28,
   "metadata": {},
   "outputs": [
    {
     "name": "stdin",
     "output_type": "stream",
     "text": [
      "정수를 입력하세요 : 10\n"
     ]
    },
    {
     "name": "stdout",
     "output_type": "stream",
     "text": [
      "계산값은 385\n"
     ]
    }
   ],
   "source": [
    "n = int(input('정수를 입력하세요 :'))\n",
    "hap = 0\n",
    "\n",
    "for i in range(1,n+1):\n",
    "    hap += i**2\n",
    "    \n",
    "print('계산값은',hap)"
   ]
  },
  {
   "cell_type": "markdown",
   "metadata": {},
   "source": [
    "### 문제 6"
   ]
  },
  {
   "cell_type": "code",
   "execution_count": 35,
   "metadata": {},
   "outputs": [
    {
     "name": "stdout",
     "output_type": "stream",
     "text": [
      "1부터100까지의 합계(3의 배수 제외) 3367\n"
     ]
    }
   ],
   "source": [
    "hap = 0\n",
    "\n",
    "for i in range(1,101):\n",
    "    if i%3==0:\n",
    "        continue\n",
    "    else:\n",
    "        hap += i\n",
    "\n",
    "print('1부터100까지의 합계(3의 배수 제외)',hap)"
   ]
  },
  {
   "cell_type": "markdown",
   "metadata": {},
   "source": [
    "### 문제 7"
   ]
  },
  {
   "cell_type": "code",
   "execution_count": 37,
   "metadata": {},
   "outputs": [
    {
     "name": "stdout",
     "output_type": "stream",
     "text": [
      ">>>\n"
     ]
    },
    {
     "name": "stdin",
     "output_type": "stream",
     "text": [
      "Enter the number : 5\n"
     ]
    },
    {
     "name": "stdout",
     "output_type": "stream",
     "text": [
      "5 is odd number\n"
     ]
    },
    {
     "name": "stdin",
     "output_type": "stream",
     "text": [
      "Enter the number : 3\n"
     ]
    },
    {
     "name": "stdout",
     "output_type": "stream",
     "text": [
      "3 is odd number\n"
     ]
    },
    {
     "name": "stdin",
     "output_type": "stream",
     "text": [
      "Enter the number : 2\n"
     ]
    },
    {
     "name": "stdout",
     "output_type": "stream",
     "text": [
      "2 is even number\n"
     ]
    },
    {
     "name": "stdin",
     "output_type": "stream",
     "text": [
      "Enter the number : 0\n"
     ]
    },
    {
     "name": "stdout",
     "output_type": "stream",
     "text": [
      ">>>\n"
     ]
    }
   ],
   "source": [
    "print('>>>')\n",
    "while True:\n",
    "    n = int(input('Enter the number :'))\n",
    "    if n == 0:\n",
    "        break\n",
    "    elif n%2==0:\n",
    "        print('%d is even number'%n)\n",
    "    else:\n",
    "        print('%d is odd number'%n)\n",
    "print('>>>')"
   ]
  },
  {
   "cell_type": "markdown",
   "metadata": {},
   "source": [
    "### 문제8"
   ]
  },
  {
   "cell_type": "code",
   "execution_count": 42,
   "metadata": {},
   "outputs": [
    {
     "name": "stdout",
     "output_type": "stream",
     "text": [
      "grape wawtermelon banana apple strawberry "
     ]
    }
   ],
   "source": [
    "fruits = ['strawberry', 'apple', 'banana', 'wawtermelon','grape']\n",
    "\n",
    "for i in range(len(fruits)-1,-1,-1):\n",
    "    print(fruits[i], end=' ')"
   ]
  },
  {
   "cell_type": "markdown",
   "metadata": {},
   "source": [
    "# 4장 함수"
   ]
  },
  {
   "cell_type": "code",
   "execution_count": 43,
   "metadata": {},
   "outputs": [],
   "source": [
    "def get_area(radius):\n",
    "    area = 3.14*radius**2\n",
    "    return area"
   ]
  },
  {
   "cell_type": "code",
   "execution_count": 44,
   "metadata": {},
   "outputs": [],
   "source": [
    "def get_input():\n",
    "    return 2,3\n",
    "\n",
    "x,y = get_input()"
   ]
  },
  {
   "cell_type": "code",
   "execution_count": 45,
   "metadata": {},
   "outputs": [],
   "source": [
    "def sub():\n",
    "    pass"
   ]
  },
  {
   "cell_type": "code",
   "execution_count": 46,
   "metadata": {},
   "outputs": [
    {
     "name": "stdout",
     "output_type": "stream",
     "text": [
      "동준 hi\n"
     ]
    }
   ],
   "source": [
    "def greet(name, msg='hi'):\n",
    "    return print(name, msg)\n",
    "\n",
    "greet('동준')\n"
   ]
  },
  {
   "cell_type": "code",
   "execution_count": 47,
   "metadata": {},
   "outputs": [],
   "source": [
    "def add(*numbers):\n",
    "    sum1 = 0\n",
    "    for n in numbers:\n",
    "        sum1 = sum1 + n\n",
    "    return sum1"
   ]
  },
  {
   "cell_type": "code",
   "execution_count": 49,
   "metadata": {},
   "outputs": [
    {
     "name": "stdout",
     "output_type": "stream",
     "text": [
      "100과 200의 plus()함수 결과는  300\n"
     ]
    }
   ],
   "source": [
    "def plus(v1, v2):\n",
    "    result = 0\n",
    "    result = v1 + v2\n",
    "    return result\n",
    "\n",
    "hap = 0\n",
    "\n",
    "hap = plus(100,200)\n",
    "print('100과 200의 plus()함수 결과는 ', hap)"
   ]
  },
  {
   "cell_type": "markdown",
   "metadata": {},
   "source": [
    "#### 연습문제"
   ]
  },
  {
   "cell_type": "code",
   "execution_count": 54,
   "metadata": {},
   "outputs": [],
   "source": [
    "def id():\n",
    "    name = input('이름:')\n",
    "    age = int(input('나이:'))\n",
    "    \n",
    "    return print('이름은 '+name+' 이고 나이는 '+ str(age) +' 살입니다.')"
   ]
  },
  {
   "cell_type": "code",
   "execution_count": 55,
   "metadata": {},
   "outputs": [
    {
     "name": "stdin",
     "output_type": "stream",
     "text": [
      "이름: 홍길동\n",
      "나이: 20\n"
     ]
    },
    {
     "name": "stdout",
     "output_type": "stream",
     "text": [
      "이름은 홍길동 이고 나이는 20 살입니다.\n"
     ]
    }
   ],
   "source": [
    "id()"
   ]
  },
  {
   "cell_type": "markdown",
   "metadata": {},
   "source": [
    "#### 연습문제"
   ]
  },
  {
   "cell_type": "code",
   "execution_count": 57,
   "metadata": {},
   "outputs": [
    {
     "name": "stdin",
     "output_type": "stream",
     "text": [
      "밑변 입력: 5\n",
      "높이 입력: 10\n"
     ]
    },
    {
     "name": "stdout",
     "output_type": "stream",
     "text": [
      "삼각형의 넓이 25.0\n"
     ]
    }
   ],
   "source": [
    "def cal_area():\n",
    "    x = int(input('밑변 입력:'))\n",
    "    y = int(input('높이 입력:'))\n",
    "    return float(0.5 * y*x)\n",
    "\n",
    "area = cal_area()\n",
    "\n",
    "print('삼각형의 넓이', area)"
   ]
  },
  {
   "cell_type": "markdown",
   "metadata": {},
   "source": [
    "### lab 터틀을 이용해 플롯 그리기"
   ]
  },
  {
   "cell_type": "code",
   "execution_count": 58,
   "metadata": {},
   "outputs": [
    {
     "ename": "Terminator",
     "evalue": "",
     "output_type": "error",
     "traceback": [
      "\u001b[0;31m---------------------------------------------------------------------------\u001b[0m",
      "\u001b[0;31mTerminator\u001b[0m                                Traceback (most recent call last)",
      "\u001b[0;32m<ipython-input-58-94061f0f8f91>\u001b[0m in \u001b[0;36m<module>\u001b[0;34m\u001b[0m\n\u001b[1;32m     27\u001b[0m \u001b[0;34m\u001b[0m\u001b[0m\n\u001b[1;32m     28\u001b[0m \u001b[0mturtle\u001b[0m\u001b[0;34m.\u001b[0m\u001b[0mmainloop\u001b[0m\u001b[0;34m(\u001b[0m\u001b[0;34m)\u001b[0m\u001b[0;34m\u001b[0m\u001b[0;34m\u001b[0m\u001b[0m\n\u001b[0;32m---> 29\u001b[0;31m \u001b[0mturtle\u001b[0m\u001b[0;34m.\u001b[0m\u001b[0mbye\u001b[0m\u001b[0;34m(\u001b[0m\u001b[0;34m)\u001b[0m\u001b[0;34m\u001b[0m\u001b[0;34m\u001b[0m\u001b[0m\n\u001b[0m",
      "\u001b[0;32m~/anaconda3/lib/python3.8/turtle.py\u001b[0m in \u001b[0;36mbye\u001b[0;34m()\u001b[0m\n",
      "\u001b[0;31mTerminator\u001b[0m: "
     ]
    }
   ],
   "source": [
    "import turtle\n",
    "\n",
    "\n",
    "def drawBar(height):\n",
    "    t.begin_fill()\n",
    "    t.left(90)\n",
    "    t.forward(height)\n",
    "    t.write(str(height), font = ('Times New Roman', 16, 'bold'))\n",
    "    t.right(90)\n",
    "    \n",
    "    t.forward(40)\n",
    "    t.right(90)\n",
    "    t.forward(height)\n",
    "    t.left(90)\n",
    "    t.end_fill()\n",
    "\n",
    "data = [120,56,309,220, 156,22,98]\n",
    "\n",
    "t = turtle.Turtle()\n",
    "t.color('blue')\n",
    "t.fillcolor('red')\n",
    "\n",
    "t.pensize(3)\n",
    "\n",
    "for d in data:\n",
    "    drawBar(d)\n",
    "    \n",
    "turtle.mainloop()\n",
    "turtle.bye()"
   ]
  },
  {
   "cell_type": "code",
   "execution_count": 59,
   "metadata": {},
   "outputs": [
    {
     "name": "stdout",
     "output_type": "stream",
     "text": [
      "func1()에서 a값 10\n",
      "finc2()에서 a값 10\n"
     ]
    }
   ],
   "source": [
    "def func1():\n",
    "    global a\n",
    "    a = 10\n",
    "    print(\"func1()에서 a값\",a)\n",
    "    \n",
    "    \n",
    "def func2():\n",
    "    print('finc2()에서 a값',a)\n",
    "    \n",
    "a = 20\n",
    "\n",
    "func1()\n",
    "func2()"
   ]
  },
  {
   "cell_type": "markdown",
   "metadata": {},
   "source": [
    "### 문제1"
   ]
  },
  {
   "cell_type": "code",
   "execution_count": 83,
   "metadata": {},
   "outputs": [],
   "source": [
    "def get_peri(radius=5.0):\n",
    "    area = 2*3.141592*radius\n",
    "    return area"
   ]
  },
  {
   "cell_type": "code",
   "execution_count": 84,
   "metadata": {},
   "outputs": [
    {
     "data": {
      "text/plain": [
       "31.41592"
      ]
     },
     "execution_count": 84,
     "metadata": {},
     "output_type": "execute_result"
    }
   ],
   "source": [
    "get_peri()"
   ]
  },
  {
   "cell_type": "code",
   "execution_count": 85,
   "metadata": {},
   "outputs": [
    {
     "data": {
      "text/plain": [
       "25.132736"
      ]
     },
     "execution_count": 85,
     "metadata": {},
     "output_type": "execute_result"
    }
   ],
   "source": [
    "get_peri(4.0)"
   ]
  },
  {
   "cell_type": "markdown",
   "metadata": {},
   "source": [
    "### 문제 2"
   ]
  },
  {
   "cell_type": "code",
   "execution_count": 88,
   "metadata": {},
   "outputs": [
    {
     "name": "stdin",
     "output_type": "stream",
     "text": [
      "첫번째 정수 : 10\n",
      "두번째 정수 : 20\n"
     ]
    },
    {
     "name": "stdout",
     "output_type": "stream",
     "text": [
      "(10, 20)\n"
     ]
    }
   ],
   "source": [
    "def getSorted(x,y):\n",
    "    if x<y:\n",
    "        return x,y\n",
    "    else:\n",
    "        return y,x\n",
    "    \n",
    "x = int(input('첫번째 정수 :'))\n",
    "y = int(input('두번째 정수 :'))\n",
    "\n",
    "print(getSorted(x,y))"
   ]
  },
  {
   "cell_type": "markdown",
   "metadata": {},
   "source": [
    "### 문제 3"
   ]
  },
  {
   "cell_type": "code",
   "execution_count": 98,
   "metadata": {},
   "outputs": [],
   "source": [
    "def dice():\n",
    "    import random\n",
    "    \n",
    "    \n",
    "    while True:\n",
    "        human = int(input('인간 : 주사위값= '))\n",
    "        com = random.randint(1,6)\n",
    "        print('컴퓨터 : 주사위값= ',com)\n",
    "        \n",
    "        if human>com:\n",
    "            print('인간승리')\n",
    "        elif human == com:\n",
    "            print('비겼습니다.')\n",
    "        else:\n",
    "            print('컴퓨터승리')\n",
    "            \n",
    "        go = input('중단할까요? Y/N')\n",
    "        if go=='Y' and go=='y':\n",
    "            break\n",
    "        else:\n",
    "            continue"
   ]
  },
  {
   "cell_type": "code",
   "execution_count": 97,
   "metadata": {},
   "outputs": [
    {
     "name": "stdin",
     "output_type": "stream",
     "text": [
      "인간 : 주사위값=  6\n"
     ]
    },
    {
     "name": "stdout",
     "output_type": "stream",
     "text": [
      "컴퓨터 : 주사위값=  3\n",
      "인간승리\n"
     ]
    },
    {
     "name": "stdin",
     "output_type": "stream",
     "text": [
      "중단할까요? Y/N N\n",
      "인간 : 주사위값=  6\n"
     ]
    },
    {
     "name": "stdout",
     "output_type": "stream",
     "text": [
      "컴퓨터 : 주사위값=  6\n",
      "비겼습니다.\n"
     ]
    },
    {
     "name": "stdin",
     "output_type": "stream",
     "text": [
      "중단할까요? Y/N Y\n"
     ]
    }
   ],
   "source": [
    "dice()"
   ]
  },
  {
   "cell_type": "markdown",
   "metadata": {},
   "source": [
    "### 문제 4"
   ]
  },
  {
   "cell_type": "code",
   "execution_count": 100,
   "metadata": {},
   "outputs": [
    {
     "name": "stdin",
     "output_type": "stream",
     "text": [
      "시급을 입력하시오: 10000\n",
      "근무 시간을 입력하시오: 38\n"
     ]
    },
    {
     "name": "stdout",
     "output_type": "stream",
     "text": [
      "주급은  420000.0\n"
     ]
    }
   ],
   "source": [
    "def weeklyPay(rate, hour):\n",
    "    if hour > 30:\n",
    "        return (rate*30) + (hour-30)*rate*1.5\n",
    "    else:\n",
    "        return rate*hour\n",
    "\n",
    "\n",
    "rate = int(input('시급을 입력하시오:'))\n",
    "hour = int(input('근무 시간을 입력하시오:'))\n",
    "print(\"주급은 \", weeklyPay(rate,hour))\n"
   ]
  },
  {
   "cell_type": "code",
   "execution_count": null,
   "metadata": {},
   "outputs": [],
   "source": []
  }
 ],
 "metadata": {
  "kernelspec": {
   "display_name": "Python 3",
   "language": "python",
   "name": "python3"
  },
  "language_info": {
   "codemirror_mode": {
    "name": "ipython",
    "version": 3
   },
   "file_extension": ".py",
   "mimetype": "text/x-python",
   "name": "python",
   "nbconvert_exporter": "python",
   "pygments_lexer": "ipython3",
   "version": "3.8.5"
  }
 },
 "nbformat": 4,
 "nbformat_minor": 4
}
