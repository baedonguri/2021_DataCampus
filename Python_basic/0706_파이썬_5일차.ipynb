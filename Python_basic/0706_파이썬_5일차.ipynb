{
 "cells": [
  {
   "cell_type": "code",
   "execution_count": 5,
   "metadata": {},
   "outputs": [
    {
     "name": "stdout",
     "output_type": "stream",
     "text": [
      "Car __init__\n",
      "Car __del__\n",
      "Car __init__\n",
      "Car __del__\n",
      "모델: 소나타 , 색상 : 화이트 , 가격 : 5000000 :원\n"
     ]
    }
   ],
   "source": [
    "class Car(object):\n",
    "    def __init__(self, model, color, price):\n",
    "        self.model = model\n",
    "        self.color = color\n",
    "        self.price = price\n",
    "        print(\"Car __init__\")\n",
    "        \n",
    "    def __del__(self):\n",
    "        print(\"Car __del__\")\n",
    "        \n",
    "    def Disp(self):\n",
    "        print(\"모델:\", self.model,\", 색상 :\", self.color,\", 가격 :\", self.price, \":원\")\n",
    "        \n",
    "        \n",
    "s1 = Car(\"소나타\", \"화이트\", 5000000)\n",
    "s2 = Car('그랜저','블랙',1000000)\n",
    "s1.Disp()"
   ]
  },
  {
   "cell_type": "code",
   "execution_count": 6,
   "metadata": {},
   "outputs": [
    {
     "name": "stdout",
     "output_type": "stream",
     "text": [
      "모델: 그랜저 , 색상 : 블랙 , 가격 : 1000000 :원\n"
     ]
    }
   ],
   "source": [
    "s2.Disp()"
   ]
  },
  {
   "cell_type": "code",
   "execution_count": 7,
   "metadata": {},
   "outputs": [
    {
     "data": {
      "text/plain": [
       "140356603025392"
      ]
     },
     "execution_count": 7,
     "metadata": {},
     "output_type": "execute_result"
    }
   ],
   "source": [
    "id(s1)"
   ]
  },
  {
   "cell_type": "code",
   "execution_count": 8,
   "metadata": {},
   "outputs": [
    {
     "data": {
      "text/plain": [
       "140356603025296"
      ]
     },
     "execution_count": 8,
     "metadata": {},
     "output_type": "execute_result"
    }
   ],
   "source": [
    "id(s2)"
   ]
  },
  {
   "cell_type": "code",
   "execution_count": 9,
   "metadata": {},
   "outputs": [],
   "source": [
    "### "
   ]
  },
  {
   "cell_type": "code",
   "execution_count": 10,
   "metadata": {},
   "outputs": [
    {
     "name": "stdout",
     "output_type": "stream",
     "text": [
      "카운터의 값: 1\n"
     ]
    }
   ],
   "source": [
    "class Counter:\n",
    "    def __init__(self):\n",
    "        self.count = 0\n",
    "    def increment(self):\n",
    "        self.count += 1\n",
    "        \n",
    "a = Counter()\n",
    "a.increment()\n",
    "print('카운터의 값:', a.count)"
   ]
  },
  {
   "cell_type": "code",
   "execution_count": 11,
   "metadata": {},
   "outputs": [],
   "source": [
    "class Counter:\n",
    "    def __init__(self, initValue=0):\n",
    "        self.count = initValue\n",
    "        \n",
    "    def increment(self):\n",
    "        self.count += 1\n",
    "        \n",
    "a = Counter(0)\n",
    "b = Counter(100)\n",
    "\n"
   ]
  },
  {
   "cell_type": "markdown",
   "metadata": {},
   "source": [
    "### 문제1"
   ]
  },
  {
   "cell_type": "code",
   "execution_count": 13,
   "metadata": {},
   "outputs": [],
   "source": [
    "class Television:\n",
    "    \n",
    "    def __init__(self, channel, volume, on):\n",
    "        self.channel = channel\n",
    "        self.volume = volume\n",
    "        self.on = on\n",
    "        \n",
    "        \n",
    "    def show(self):\n",
    "        print(self.channel, self.volume, self.on)\n",
    "        \n",
    "    def setChannel(self, channel):\n",
    "        self.channel = channel\n",
    "        \n",
    "    def getChannel(self):\n",
    "        return self.channel"
   ]
  },
  {
   "cell_type": "code",
   "execution_count": 15,
   "metadata": {},
   "outputs": [
    {
     "name": "stdout",
     "output_type": "stream",
     "text": [
      "9 19 True\n",
      "11 19 True\n"
     ]
    }
   ],
   "source": [
    "t = Television(9, 19,True)\n",
    "t.show()\n",
    "t.setChannel(11)\n",
    "t.show()"
   ]
  },
  {
   "cell_type": "markdown",
   "metadata": {},
   "source": [
    "### 문제"
   ]
  },
  {
   "cell_type": "code",
   "execution_count": 19,
   "metadata": {},
   "outputs": [
    {
     "name": "stdout",
     "output_type": "stream",
     "text": [
      "원의 면적: 314.1592653589793\n",
      "원의 둘레: 62.83185307179586\n"
     ]
    }
   ],
   "source": [
    "import math\n",
    "\n",
    "\n",
    "\n",
    "class Circle:\n",
    "    def __init__(self, radius=0):\n",
    "        self.radius = radius\n",
    "        \n",
    "    def get_Area(self):\n",
    "        return math.pi * self.radius * self.radius\n",
    "        \n",
    "    def get_Perimeter(self):\n",
    "        return 2 * math.pi * self.radius\n",
    "        \n",
    "c = Circle(10)\n",
    "print('원의 면적:', c.get_Area())\n",
    "print('원의 둘레:', c.get_Perimeter())"
   ]
  },
  {
   "cell_type": "markdown",
   "metadata": {},
   "source": [
    "### 문제"
   ]
  },
  {
   "cell_type": "code",
   "execution_count": 21,
   "metadata": {},
   "outputs": [
    {
     "name": "stdout",
     "output_type": "stream",
     "text": [
      "자동차 객체를 생성하였습니다.\n",
      "자동차의 속도는 0\n",
      "자동차의 색상은 blue\n",
      "자동차의 모델은 E-class\n",
      "자동차의 속도는 60\n"
     ]
    }
   ],
   "source": [
    "class Car:\n",
    "    \n",
    "    def __init__(self, speed, color, model):\n",
    "        self.speed = speed\n",
    "        self.color = color\n",
    "        self.model = model\n",
    "    \n",
    "    def drive(self):\n",
    "        self.speed = 60\n",
    "    \n",
    "    \n",
    "myCar = Car(0, 'blue', 'E-class')\n",
    "\n",
    "print('자동차 객체를 생성하였습니다.')\n",
    "print('자동차의 속도는', myCar.speed)\n",
    "print('자동차의 색상은', myCar.color)\n",
    "print('자동차의 모델은', myCar.model)\n",
    "\n",
    "myCar.drive()\n",
    "print('자동차의 속도는', myCar.speed)"
   ]
  },
  {
   "cell_type": "markdown",
   "metadata": {},
   "source": [
    "### 접근자와 설정자"
   ]
  },
  {
   "cell_type": "code",
   "execution_count": 22,
   "metadata": {},
   "outputs": [
    {
     "data": {
      "text/plain": [
       "'Hong'"
      ]
     },
     "execution_count": 22,
     "metadata": {},
     "output_type": "execute_result"
    }
   ],
   "source": [
    "class Student:\n",
    "    def __init__(self, name=None, age=0):\n",
    "        self.__name = name\n",
    "        self.__age = age\n",
    "        \n",
    "    def getAge(self):\n",
    "        return self.__age\n",
    "    \n",
    "    def getName(self):\n",
    "        return self.__name\n",
    "    \n",
    "    def setAge(self, age):\n",
    "        self.__age = age\n",
    "        \n",
    "    def setName(self, name):\n",
    "        self.__name = name\n",
    "        \n",
    "obj = Student('Hong', 29)\n",
    "obj.getName()"
   ]
  },
  {
   "cell_type": "code",
   "execution_count": 23,
   "metadata": {},
   "outputs": [
    {
     "data": {
      "text/plain": [
       "'Bae'"
      ]
     },
     "execution_count": 23,
     "metadata": {},
     "output_type": "execute_result"
    }
   ],
   "source": [
    "obj.setName('Bae')\n",
    "obj.getName()"
   ]
  },
  {
   "cell_type": "code",
   "execution_count": 24,
   "metadata": {},
   "outputs": [
    {
     "name": "stdout",
     "output_type": "stream",
     "text": [
      "11 2 True\n"
     ]
    }
   ],
   "source": [
    "class Television:\n",
    "    def __init__(self, channel, volume, on):\n",
    "        self.channel = channel\n",
    "        self.volume = volume\n",
    "        self.on = on\n",
    "        \n",
    "    def show(self):\n",
    "        print(self.channel, self.volume, self.on)\n",
    "        \n",
    "def setSlientMode(t):\n",
    "    t.volume = 2\n",
    "    \n",
    "\n",
    "myTv = Television(11,10,True)\n",
    "setSlientMode(myTv)\n",
    "myTv.show()"
   ]
  },
  {
   "cell_type": "markdown",
   "metadata": {},
   "source": [
    "### 클래스 변수"
   ]
  },
  {
   "cell_type": "code",
   "execution_count": null,
   "metadata": {},
   "outputs": [],
   "source": [
    "class Television:\n",
    "    serialNumber = 0\n",
    "    \n",
    "    \n",
    "    def __init__(self, channel, volume, on):\n",
    "        self.channel = channel\n",
    "        self.volume = volume\n",
    "        self.on = on\n",
    "        Television.serialNumber += 1\n",
    "        \n",
    "        self.number = Television.serialNumber\n",
    "        \n",
    "    def show(self):\n",
    "        print(self.channel, self.volume, self.on)\n",
    "        \n",
    "def setSlientMode(t):\n",
    "    t.volume = 2\n",
    "    \n",
    "\n",
    "myTv = Television(11,10,True)\n",
    "setSlientMode(myTv)\n",
    "myTv.show()"
   ]
  },
  {
   "cell_type": "markdown",
   "metadata": {},
   "source": [
    "### 문제1"
   ]
  },
  {
   "cell_type": "code",
   "execution_count": 26,
   "metadata": {},
   "outputs": [
    {
     "name": "stdout",
     "output_type": "stream",
     "text": [
      "Missy 3\n",
      "Lucky 5\n"
     ]
    }
   ],
   "source": [
    "class cat:\n",
    "    def __init__(self, name, age):\n",
    "        self.__name= name\n",
    "        self.__age =age\n",
    "        \n",
    "        \n",
    "    def setName(self, name):\n",
    "        self.__name = name\n",
    "        \n",
    "    def getName(self):\n",
    "        return self.__name\n",
    "    \n",
    "    \n",
    "    def setAge(self, age):\n",
    "        self.__age = age\n",
    "        \n",
    "    def getAge(self):\n",
    "        return self.__age\n",
    "    \n",
    "    \n",
    "missy = cat('Missy', 3)\n",
    "lucky = cat('Lucky', 5)\n",
    "\n",
    "print(missy.getName(), missy.getAge())\n",
    "print(lucky.getName(), lucky.getAge())"
   ]
  },
  {
   "cell_type": "code",
   "execution_count": 30,
   "metadata": {},
   "outputs": [
    {
     "name": "stdout",
     "output_type": "stream",
     "text": [
      "로켓의 높이: 0\n",
      "로켓의 높이: 1\n"
     ]
    }
   ],
   "source": [
    "class Rocket:\n",
    "    \n",
    "    def __init__(self):\n",
    "        self.x = 0\n",
    "        self.y = 0\n",
    "        \n",
    "    \n",
    "    def moveup(self):\n",
    "        self.y += 1\n",
    "        \n",
    "        \n",
    "rocket = Rocket()\n",
    "print(\"로켓의 높이:\", rocket.y)\n",
    "rocket.moveup()\n",
    "print(\"로켓의 높이:\", rocket.y)"
   ]
  },
  {
   "cell_type": "code",
   "execution_count": 33,
   "metadata": {},
   "outputs": [
    {
     "name": "stdout",
     "output_type": "stream",
     "text": [
      "True\n"
     ]
    }
   ],
   "source": [
    "class Triangle:\n",
    "    \n",
    "    \n",
    "    def __init__(self, angle1, angle2, angle3):\n",
    "        self.angle1 = angle1\n",
    "        self.angle2 = angle2\n",
    "        self.angle3 = angle3\n",
    "    \n",
    "    numberOfSide = 3\n",
    "        \n",
    "    def check(self):\n",
    "        if self.angle1 + self.angle2 + self.angle3 == 180:\n",
    "            return True\n",
    "        \n",
    "        else:\n",
    "            return False\n",
    "        \n",
    "tri = Triangle(90,30,60)\n",
    "print(tri.check())"
   ]
  },
  {
   "cell_type": "markdown",
   "metadata": {},
   "source": [
    "# 8장 내장함수"
   ]
  },
  {
   "cell_type": "code",
   "execution_count": 34,
   "metadata": {},
   "outputs": [
    {
     "data": {
      "text/plain": [
       "11"
      ]
     },
     "execution_count": 34,
     "metadata": {},
     "output_type": "execute_result"
    }
   ],
   "source": [
    "x = 10\n",
    "eval('x+1')"
   ]
  },
  {
   "cell_type": "code",
   "execution_count": 35,
   "metadata": {},
   "outputs": [
    {
     "name": "stdin",
     "output_type": "stream",
     "text": [
      "파이썬 수식 입력: 2**10\n"
     ]
    },
    {
     "data": {
      "text/plain": [
       "1024"
      ]
     },
     "execution_count": 35,
     "metadata": {},
     "output_type": "execute_result"
    }
   ],
   "source": [
    "exp = input('파이썬 수식 입력:')\n",
    "eval(exp)"
   ]
  },
  {
   "cell_type": "code",
   "execution_count": 36,
   "metadata": {
    "scrolled": true
   },
   "outputs": [
    {
     "data": {
      "text/plain": [
       "['__add__',\n",
       " '__class__',\n",
       " '__contains__',\n",
       " '__delattr__',\n",
       " '__delitem__',\n",
       " '__dir__',\n",
       " '__doc__',\n",
       " '__eq__',\n",
       " '__format__',\n",
       " '__ge__',\n",
       " '__getattribute__',\n",
       " '__getitem__',\n",
       " '__gt__',\n",
       " '__hash__',\n",
       " '__iadd__',\n",
       " '__imul__',\n",
       " '__init__',\n",
       " '__init_subclass__',\n",
       " '__iter__',\n",
       " '__le__',\n",
       " '__len__',\n",
       " '__lt__',\n",
       " '__mul__',\n",
       " '__ne__',\n",
       " '__new__',\n",
       " '__reduce__',\n",
       " '__reduce_ex__',\n",
       " '__repr__',\n",
       " '__reversed__',\n",
       " '__rmul__',\n",
       " '__setattr__',\n",
       " '__setitem__',\n",
       " '__sizeof__',\n",
       " '__str__',\n",
       " '__subclasshook__',\n",
       " 'append',\n",
       " 'clear',\n",
       " 'copy',\n",
       " 'count',\n",
       " 'extend',\n",
       " 'index',\n",
       " 'insert',\n",
       " 'pop',\n",
       " 'remove',\n",
       " 'reverse',\n",
       " 'sort']"
      ]
     },
     "execution_count": 36,
     "metadata": {},
     "output_type": "execute_result"
    }
   ],
   "source": [
    "dir([1,2,3])"
   ]
  },
  {
   "cell_type": "code",
   "execution_count": 37,
   "metadata": {},
   "outputs": [
    {
     "name": "stdout",
     "output_type": "stream",
     "text": [
      "[4, 5, 6]\n"
     ]
    }
   ],
   "source": [
    "def myfilter(x):\n",
    "    return x>3\n",
    "\n",
    "result = filter(myfilter, (1,2,3,4,5,6))\n",
    "print(list(result))"
   ]
  },
  {
   "cell_type": "code",
   "execution_count": 38,
   "metadata": {},
   "outputs": [
    {
     "data": {
      "text/plain": [
       "[(1, 'one'), (2, 'two'), (3, 'three'), (4, 'four')]"
      ]
     },
     "execution_count": 38,
     "metadata": {},
     "output_type": "execute_result"
    }
   ],
   "source": [
    "numbers = [1,2,3,4]\n",
    "slist = ['one', 'two', 'three', 'four']\n",
    "\n",
    "list(zip(numbers, slist))"
   ]
  },
  {
   "cell_type": "code",
   "execution_count": 42,
   "metadata": {},
   "outputs": [
    {
     "name": "stdout",
     "output_type": "stream",
     "text": [
      "10\n",
      "True\n",
      "False\n",
      "6\n"
     ]
    }
   ],
   "source": [
    "invitations = ['kim', 'lee','park', 'choi']\n",
    "persons = [1,3,0,6]\n",
    "\n",
    "print(sum(persons))\n",
    "\n",
    "print(any(persons))\n",
    "\n",
    "print(all(persons))\n",
    "\n",
    "print(max(persons))"
   ]
  },
  {
   "cell_type": "code",
   "execution_count": 43,
   "metadata": {},
   "outputs": [
    {
     "data": {
      "text/plain": [
       "[1, 2, 3, 4, 5]"
      ]
     },
     "execution_count": 43,
     "metadata": {},
     "output_type": "execute_result"
    }
   ],
   "source": [
    "sorted([4,2,3,5,1])"
   ]
  },
  {
   "cell_type": "code",
   "execution_count": 47,
   "metadata": {},
   "outputs": [
    {
     "name": "stdout",
     "output_type": "stream",
     "text": [
      "[('최자영', 4.3, 20160301), ('김철수', 3.0, 20160302), ('홍길동', 3.9, 20160303)]\n"
     ]
    }
   ],
   "source": [
    "student = [\n",
    "    ('홍길동', 3.9, 20160303),\n",
    "    ('김철수', 3.0, 20160302),\n",
    "    ('최자영', 4.3, 20160301)\n",
    "]\n",
    "\n",
    "print(sorted(student, key=lambda x: x[2]))"
   ]
  },
  {
   "cell_type": "markdown",
   "metadata": {},
   "source": [
    "### 람다식"
   ]
  },
  {
   "cell_type": "code",
   "execution_count": 48,
   "metadata": {},
   "outputs": [
    {
     "name": "stdout",
     "output_type": "stream",
     "text": [
      "정수의 합 30\n",
      "정수의 합 40\n"
     ]
    }
   ],
   "source": [
    "f = lambda x,y: x+y\n",
    "\n",
    "print('정수의 합', f(10,20))\n",
    "print('정수의 합', f(20,20))\n"
   ]
  },
  {
   "cell_type": "code",
   "execution_count": 49,
   "metadata": {},
   "outputs": [
    {
     "name": "stdout",
     "output_type": "stream",
     "text": [
      "정수의 합 30\n",
      "정수의 합 40\n"
     ]
    }
   ],
   "source": [
    "def get_sum(x,y):\n",
    "    return x+y\n",
    "\n",
    "print('정수의 합', get_sum(10,20))\n",
    "print('정수의 합', get_sum(20,20))\n"
   ]
  },
  {
   "cell_type": "code",
   "execution_count": 50,
   "metadata": {},
   "outputs": [
    {
     "name": "stdout",
     "output_type": "stream",
     "text": [
      "['white', 'blue', 'green']\n",
      "['red', 'blue', 'green']\n"
     ]
    }
   ],
   "source": [
    "import copy \n",
    "\n",
    "colors= ['red', 'blue','green']\n",
    "clone = copy.deepcopy(colors)\n",
    "\n",
    "clone[0] = 'white'\n",
    "print(clone)\n",
    "print(colors)"
   ]
  },
  {
   "cell_type": "code",
   "execution_count": 51,
   "metadata": {},
   "outputs": [],
   "source": [
    "### 랜덤 모듈"
   ]
  },
  {
   "cell_type": "code",
   "execution_count": 53,
   "metadata": {},
   "outputs": [
    {
     "name": "stdout",
     "output_type": "stream",
     "text": [
      "4\n",
      "98.49299815034065\n"
     ]
    }
   ],
   "source": [
    "import random\n",
    "\n",
    "print(random.randint(1,6))\n",
    "\n",
    "print(random.random()*100)\n"
   ]
  },
  {
   "cell_type": "code",
   "execution_count": 54,
   "metadata": {},
   "outputs": [
    {
     "data": {
      "text/plain": [
       "[[0], [2], [1], [4], [9], [5], [8], [7], [6], [3]]"
      ]
     },
     "execution_count": 54,
     "metadata": {},
     "output_type": "execute_result"
    }
   ],
   "source": [
    "mylist = [[x] for x in range(10)]\n",
    "random.shuffle(mylist)\n",
    "mylist"
   ]
  },
  {
   "cell_type": "code",
   "execution_count": 55,
   "metadata": {},
   "outputs": [],
   "source": [
    "### calendar 모듈"
   ]
  },
  {
   "cell_type": "code",
   "execution_count": 56,
   "metadata": {},
   "outputs": [
    {
     "name": "stdout",
     "output_type": "stream",
     "text": [
      "     July 2021\n",
      "Mo Tu We Th Fr Sa Su\n",
      "          1  2  3  4\n",
      " 5  6  7  8  9 10 11\n",
      "12 13 14 15 16 17 18\n",
      "19 20 21 22 23 24 25\n",
      "26 27 28 29 30 31\n",
      "\n"
     ]
    }
   ],
   "source": [
    "import calendar\n",
    "\n",
    "cal = calendar.month(2021,7)\n",
    "print(cal)"
   ]
  },
  {
   "cell_type": "markdown",
   "metadata": {},
   "source": [
    "### 문제1"
   ]
  },
  {
   "cell_type": "code",
   "execution_count": 59,
   "metadata": {},
   "outputs": [
    {
     "name": "stdin",
     "output_type": "stream",
     "text": [
      "동전 던지기를 계속하시겠습니까? (yes, no) yes\n"
     ]
    },
    {
     "name": "stdout",
     "output_type": "stream",
     "text": [
      "head\n"
     ]
    },
    {
     "name": "stdin",
     "output_type": "stream",
     "text": [
      "동전 던지기를 계속하시겠습니까? (yes, no) yes\n"
     ]
    },
    {
     "name": "stdout",
     "output_type": "stream",
     "text": [
      "head\n"
     ]
    },
    {
     "name": "stdin",
     "output_type": "stream",
     "text": [
      "동전 던지기를 계속하시겠습니까? (yes, no) yes\n"
     ]
    },
    {
     "name": "stdout",
     "output_type": "stream",
     "text": [
      "head\n"
     ]
    },
    {
     "name": "stdin",
     "output_type": "stream",
     "text": [
      "동전 던지기를 계속하시겠습니까? (yes, no) yes\n"
     ]
    },
    {
     "name": "stdout",
     "output_type": "stream",
     "text": [
      "tail\n"
     ]
    },
    {
     "name": "stdin",
     "output_type": "stream",
     "text": [
      "동전 던지기를 계속하시겠습니까? (yes, no) no\n"
     ]
    }
   ],
   "source": [
    "import random\n",
    "\n",
    "mylist = ['head', 'tail']\n",
    "\n",
    "while True:\n",
    "    do = input('동전 던지기를 계속하시겠습니까? (yes, no)')\n",
    "    \n",
    "    if do == 'yes':\n",
    "        print(random.choice(mylist))    \n",
    "    else:\n",
    "        break\n"
   ]
  },
  {
   "cell_type": "code",
   "execution_count": null,
   "metadata": {},
   "outputs": [],
   "source": []
  }
 ],
 "metadata": {
  "kernelspec": {
   "display_name": "Python 3",
   "language": "python",
   "name": "python3"
  },
  "language_info": {
   "codemirror_mode": {
    "name": "ipython",
    "version": 3
   },
   "file_extension": ".py",
   "mimetype": "text/x-python",
   "name": "python",
   "nbconvert_exporter": "python",
   "pygments_lexer": "ipython3",
   "version": "3.8.5"
  }
 },
 "nbformat": 4,
 "nbformat_minor": 4
}
