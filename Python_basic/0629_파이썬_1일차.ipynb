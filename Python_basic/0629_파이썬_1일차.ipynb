{
 "cells": [
  {
   "cell_type": "markdown",
   "metadata": {},
   "source": [
    "# <1장 변수>"
   ]
  },
  {
   "cell_type": "code",
   "execution_count": 1,
   "metadata": {},
   "outputs": [
    {
     "name": "stdout",
     "output_type": "stream",
     "text": [
      "13270.88\n"
     ]
    }
   ],
   "source": [
    "price = 12345\n",
    "tax = price * 0.075\n",
    "tax = round(price+tax, 2)\n",
    "print(tax)"
   ]
  },
  {
   "cell_type": "code",
   "execution_count": 2,
   "metadata": {},
   "outputs": [
    {
     "name": "stdout",
     "output_type": "stream",
     "text": [
      "13270.88\n"
     ]
    }
   ],
   "source": [
    "price = 12345\n",
    "tax = round(price+(price*0.075),2)\n",
    "print(tax)"
   ]
  },
  {
   "cell_type": "code",
   "execution_count": 3,
   "metadata": {},
   "outputs": [],
   "source": [
    "def summary():\n",
    "    a = int(input())\n",
    "    b = int(input())\n",
    "    return a+b"
   ]
  },
  {
   "cell_type": "code",
   "execution_count": 4,
   "metadata": {},
   "outputs": [
    {
     "name": "stdin",
     "output_type": "stream",
     "text": [
      " 300\n",
      " 700\n"
     ]
    },
    {
     "data": {
      "text/plain": [
       "1000"
      ]
     },
     "execution_count": 4,
     "metadata": {},
     "output_type": "execute_result"
    }
   ],
   "source": [
    "summary()"
   ]
  },
  {
   "cell_type": "code",
   "execution_count": 5,
   "metadata": {},
   "outputs": [
    {
     "name": "stdin",
     "output_type": "stream",
     "text": [
      "면적(제곱미터): 25.6\n"
     ]
    },
    {
     "name": "stdout",
     "output_type": "stream",
     "text": [
      "7.757575757575759 평\n"
     ]
    }
   ],
   "source": [
    "per_p = 3.3\n",
    "\n",
    "area = float(input('면적(제곱미터):'))\n",
    "py = area/per_p\n",
    "print(py,'평')"
   ]
  },
  {
   "cell_type": "code",
   "execution_count": 12,
   "metadata": {},
   "outputs": [
    {
     "name": "stdout",
     "output_type": "stream",
     "text": [
      "안녕하세요\n"
     ]
    },
    {
     "name": "stdin",
     "output_type": "stream",
     "text": [
      "이름이 어떻게 되시나요?  홍길동\n"
     ]
    },
    {
     "name": "stdout",
     "output_type": "stream",
     "text": [
      "만나서 반갑습니다.홍길동씨\n",
      "이름의 길이는 다음과 같군요: 3\n"
     ]
    },
    {
     "name": "stdin",
     "output_type": "stream",
     "text": [
      "나이가 어떻게 되시나요?  21\n"
     ]
    },
    {
     "name": "stdout",
     "output_type": "stream",
     "text": [
      "내년이면22이 되시는군요.\n"
     ]
    }
   ],
   "source": [
    "print(\"안녕하세요\")\n",
    "name = input('이름이 어떻게 되시나요? ')\n",
    "print('만나서 반갑습니다.'+name+'씨')\n",
    "print('이름의 길이는 다음과 같군요:',len(name))\n",
    "\n",
    "age = int(input('나이가 어떻게 되시나요? '))\n",
    "print('내년이면 '+str(age+1)+'이 되시는군요.')"
   ]
  },
  {
   "cell_type": "code",
   "execution_count": 18,
   "metadata": {},
   "outputs": [
    {
     "name": "stdin",
     "output_type": "stream",
     "text": [
      "반지름을 입력하시오:  5.0\n"
     ]
    },
    {
     "name": "stdout",
     "output_type": "stream",
     "text": [
      "구의 부피 523.5986666666666\n"
     ]
    }
   ],
   "source": [
    "radius = float(input('반지름을 입력하시오: '))\n",
    "pi = 3.141592\n",
    "v = (4.0/3.0)*pi*(radius**3)\n",
    "print('구의 부피', v)"
   ]
  },
  {
   "cell_type": "markdown",
   "metadata": {},
   "source": [
    "### 문제1"
   ]
  },
  {
   "cell_type": "code",
   "execution_count": 24,
   "metadata": {},
   "outputs": [
    {
     "name": "stdin",
     "output_type": "stream",
     "text": [
      "음식 100\n",
      "팁 비율: 10\n"
     ]
    },
    {
     "name": "stdout",
     "output_type": "stream",
     "text": [
      "총비용: 110.0\n"
     ]
    }
   ],
   "source": [
    "price = int(input('음식'))\n",
    "per = float(input('팁 비율:'))*(1/100)\n",
    "total = price+(price*per)\n",
    "print('총비용:', total)"
   ]
  },
  {
   "cell_type": "markdown",
   "metadata": {},
   "source": [
    "### 문제2"
   ]
  },
  {
   "cell_type": "code",
   "execution_count": 26,
   "metadata": {},
   "outputs": [
    {
     "name": "stdin",
     "output_type": "stream",
     "text": [
      "닭의 수: 2\n",
      "돼지의 수: 4\n",
      "소의 수: 4\n"
     ]
    },
    {
     "name": "stdout",
     "output_type": "stream",
     "text": [
      "전체 다리의 수: 36\n"
     ]
    }
   ],
   "source": [
    "x = int(input('닭의 수:'))\n",
    "y = int(input('돼지의 수:'))\n",
    "z = int(input('소의 수:'))\n",
    "\n",
    "print('전체 다리의 수:', x*2+y*4+z*4)"
   ]
  },
  {
   "cell_type": "markdown",
   "metadata": {},
   "source": [
    "### 문제3"
   ]
  },
  {
   "cell_type": "code",
   "execution_count": 27,
   "metadata": {},
   "outputs": [
    {
     "name": "stdin",
     "output_type": "stream",
     "text": [
      "x: 12\n",
      "y: 13\n"
     ]
    },
    {
     "name": "stdout",
     "output_type": "stream",
     "text": [
      "두수의 합: 25\n",
      "두수의 차: -1\n",
      "두수의 곱: 156\n",
      "두수의 평균: 12.5\n",
      "큰 수: 13\n",
      "작은 수: 12\n"
     ]
    }
   ],
   "source": [
    "x = int(input('x:'))\n",
    "y = int(input('y:'))\n",
    "\n",
    "print('두수의 합:', x+y)\n",
    "print('두수의 차:', x-y)\n",
    "print('두수의 곱:', x*y)\n",
    "print('두수의 평균:', (x+y)/2)\n",
    "print('큰 수:', max(x,y))\n",
    "print('작은 수:', min(x,y))"
   ]
  },
  {
   "cell_type": "markdown",
   "metadata": {},
   "source": [
    "### 문제4"
   ]
  },
  {
   "cell_type": "code",
   "execution_count": 30,
   "metadata": {},
   "outputs": [
    {
     "name": "stdin",
     "output_type": "stream",
     "text": [
      "화씨 온도를 입력하세요 : 100\n"
     ]
    },
    {
     "name": "stdout",
     "output_type": "stream",
     "text": [
      "화씨 온도100는 섭씨37.78도에 해당됩니다\n"
     ]
    }
   ],
   "source": [
    "f = int(input('화씨 온도를 입력하세요 :'))\n",
    "c = round(float((f-32.0)*5/9),2)\n",
    "print('화씨 온도'+str(f)+'는 섭씨'+str(c)+'도에 해당됩니다')"
   ]
  },
  {
   "cell_type": "markdown",
   "metadata": {},
   "source": [
    "### 문제5"
   ]
  },
  {
   "cell_type": "code",
   "execution_count": 33,
   "metadata": {},
   "outputs": [
    {
     "name": "stdin",
     "output_type": "stream",
     "text": [
      "몸무게를 kg 단위로 입력하시오: 85.0\n",
      "키를 m 단위로 입력하시오: 1.83\n"
     ]
    },
    {
     "name": "stdout",
     "output_type": "stream",
     "text": [
      "당신의 bmi= 25.381468541909282\n"
     ]
    }
   ],
   "source": [
    "weight = float(input('몸무게를 kg 단위로 입력하시오:'))\n",
    "heigth = float(input('키를 m 단위로 입력하시오:'))\n",
    "bmi = weight/heigth**2\n",
    "print('당신의 bmi=',bmi)"
   ]
  },
  {
   "cell_type": "markdown",
   "metadata": {},
   "source": [
    "# <2장 조건문>"
   ]
  },
  {
   "cell_type": "code",
   "execution_count": 34,
   "metadata": {},
   "outputs": [
    {
     "name": "stdout",
     "output_type": "stream",
     "text": [
      "100보다 작군요\n"
     ]
    }
   ],
   "source": [
    "a = 99\n",
    "if a<100:\n",
    "    print('100보다 작군요')"
   ]
  },
  {
   "cell_type": "code",
   "execution_count": 35,
   "metadata": {},
   "outputs": [
    {
     "name": "stdout",
     "output_type": "stream",
     "text": [
      "100보다 크군요\n"
     ]
    }
   ],
   "source": [
    "a = 200\n",
    "if a<100:\n",
    "    print('100보다 작군요')\n",
    "else:\n",
    "    print('100보다 크군요')"
   ]
  },
  {
   "cell_type": "code",
   "execution_count": 36,
   "metadata": {},
   "outputs": [
    {
     "name": "stdin",
     "output_type": "stream",
     "text": [
      "정수를 입력하세요: 125\n"
     ]
    },
    {
     "name": "stdout",
     "output_type": "stream",
     "text": [
      "홀수를 입력했군요\n"
     ]
    }
   ],
   "source": [
    "num = int(input('정수를 입력하세요:'))\n",
    "if num%2==0:\n",
    "    print('짝수를 입력했군요')\n",
    "else:\n",
    "    print('홀수를 입력했군요')"
   ]
  },
  {
   "cell_type": "code",
   "execution_count": 39,
   "metadata": {},
   "outputs": [
    {
     "name": "stdin",
     "output_type": "stream",
     "text": [
      "점수를 입력하세요: 70\n"
     ]
    },
    {
     "name": "stdout",
     "output_type": "stream",
     "text": [
      "C학점입니다.\n"
     ]
    }
   ],
   "source": [
    "a = int(input('점수를 입력하세요:'))\n",
    "\n",
    "if a>=90:\n",
    "    print('A',end='')\n",
    "elif a>= 80:\n",
    "    print('B',end='')\n",
    "elif a>= 70:\n",
    "    print('C',end='')\n",
    "elif a>= 60:\n",
    "    print('D',end='')\n",
    "else:\n",
    "    print('F',end='')\n",
    "print('학점입니다.')"
   ]
  },
  {
   "cell_type": "code",
   "execution_count": 40,
   "metadata": {},
   "outputs": [
    {
     "name": "stdout",
     "output_type": "stream",
     "text": [
      "['사과', '배', '딸기', '포도']\n"
     ]
    }
   ],
   "source": [
    "fruit = ['사과', '배','딸기','포도']\n",
    "print(fruit)"
   ]
  },
  {
   "cell_type": "code",
   "execution_count": 41,
   "metadata": {},
   "outputs": [
    {
     "name": "stdout",
     "output_type": "stream",
     "text": [
      "['사과', '배', '딸기', '포도', '귤']\n"
     ]
    }
   ],
   "source": [
    "fruit.append('귤')\n",
    "print(fruit)"
   ]
  },
  {
   "cell_type": "code",
   "execution_count": 42,
   "metadata": {},
   "outputs": [
    {
     "name": "stdout",
     "output_type": "stream",
     "text": [
      "딸기가 있네요. ^^\n"
     ]
    }
   ],
   "source": [
    "if '딸기' in fruit:\n",
    "    print('딸기가 있네요. ^^')"
   ]
  },
  {
   "cell_type": "markdown",
   "metadata": {},
   "source": [
    "### 문제1"
   ]
  },
  {
   "cell_type": "code",
   "execution_count": 50,
   "metadata": {},
   "outputs": [
    {
     "name": "stdin",
     "output_type": "stream",
     "text": [
      "1.입력한 수식 계산  2.두 수 사이의 합계: 1\n",
      "*** 수식을 입력하세요: 3*4/2-5\n"
     ]
    },
    {
     "name": "stdout",
     "output_type": "stream",
     "text": [
      "3*4/2-5결과는   1.0입니다.\n"
     ]
    }
   ],
   "source": [
    "select, answer, numStr, num1, num2 = 0,0,\"\",0,0\n",
    "\n",
    "select = input('1.입력한 수식 계산  2.두 수 사이의 합계:')\n",
    "\n",
    "if select=='1':\n",
    "    numStr = input('*** 수식을 입력하세요:')\n",
    "    answer = eval(numStr)\n",
    "    print('%s결과는 %5.1f입니다.'%(numStr, answer))\n",
    "elif select=='2':\n",
    "    num1 = int(input('*** 첫번째 숫자를 입력하세요:'))\n",
    "    num2 = int(input('*** 두번째 숫자를 입력하세요:'))\n",
    "    \n",
    "    for i in range(num1, num2+1):\n",
    "        answer = answer+i\n",
    "    print('%d+...+%d는 %d입니다'%(num1, num2, answer))\n",
    "else:\n",
    "    print('1 또는 2만 입력해야합니다.')"
   ]
  },
  {
   "cell_type": "markdown",
   "metadata": {},
   "source": [
    "### 문제2"
   ]
  },
  {
   "cell_type": "code",
   "execution_count": 52,
   "metadata": {},
   "outputs": [
    {
     "name": "stdin",
     "output_type": "stream",
     "text": [
      "정가를 입력하세요: 200\n"
     ]
    },
    {
     "name": "stdout",
     "output_type": "stream",
     "text": [
      "10층에서 사은품을 받아가세요.\n",
      "할인된 가격= 170.0\n"
     ]
    }
   ],
   "source": [
    "price = int(input('정가를 입력하세요:'))\n",
    "\n",
    "if price>=100:\n",
    "    print('10층에서 사은품을 받아가세요.')\n",
    "    sale = price*0.15\n",
    "else:\n",
    "    sale = price*0.1\n",
    "    \n",
    "total = round(price-sale, 1)\n",
    "print('할인된 가격=',total)"
   ]
  },
  {
   "cell_type": "markdown",
   "metadata": {},
   "source": [
    "### 문제3"
   ]
  },
  {
   "cell_type": "code",
   "execution_count": 54,
   "metadata": {},
   "outputs": [],
   "source": [
    "def soluntion3():\n",
    "    price = int(input('가격을 입력하세요:'))\n",
    "    card = input('카드의 종류를 입력하시오:')\n",
    "\n",
    "    if price>=20000 and card=='python':\n",
    "        print('배송료가 없습니다.')\n",
    "    else:\n",
    "        print('배송료는 3000원입니다.')"
   ]
  },
  {
   "cell_type": "code",
   "execution_count": 55,
   "metadata": {},
   "outputs": [
    {
     "name": "stdin",
     "output_type": "stream",
     "text": [
      "가격을 입력하세요: 30000\n",
      "카드의 종류를 입력하시오: python\n"
     ]
    },
    {
     "name": "stdout",
     "output_type": "stream",
     "text": [
      "배송료가 없습니다.\n"
     ]
    }
   ],
   "source": [
    "soluntion3()"
   ]
  },
  {
   "cell_type": "code",
   "execution_count": 56,
   "metadata": {},
   "outputs": [
    {
     "name": "stdin",
     "output_type": "stream",
     "text": [
      "가격을 입력하세요: 30000\n",
      "카드의 종류를 입력하시오: java\n"
     ]
    },
    {
     "name": "stdout",
     "output_type": "stream",
     "text": [
      "배송료는 3000원입니다.\n"
     ]
    }
   ],
   "source": [
    "soluntion3()"
   ]
  },
  {
   "cell_type": "markdown",
   "metadata": {},
   "source": [
    "### 문제4"
   ]
  },
  {
   "cell_type": "code",
   "execution_count": 62,
   "metadata": {},
   "outputs": [
    {
     "name": "stdout",
     "output_type": "stream",
     "text": [
      "동전 던지기 게임을 시작합니다.\n",
      "앞면입니다.\n",
      "게임이 종료되었습니다.\n"
     ]
    }
   ],
   "source": [
    "import random\n",
    "\n",
    "print('동전 던지기 게임을 시작합니다.')\n",
    "\n",
    "a = random.randint(0,1)\n",
    "\n",
    "if a==0:\n",
    "    print('뒷면입니다.')\n",
    "else:\n",
    "    print('앞면입니다.')\n",
    "\n",
    "print('게임이 종료되었습니다.')"
   ]
  },
  {
   "cell_type": "markdown",
   "metadata": {},
   "source": [
    "### 문제5|"
   ]
  },
  {
   "cell_type": "code",
   "execution_count": 65,
   "metadata": {},
   "outputs": [
    {
     "name": "stdin",
     "output_type": "stream",
     "text": [
      "리히터 규모를 입력하시오: 5.2\n"
     ]
    },
    {
     "name": "stdout",
     "output_type": "stream",
     "text": [
      "빈약한 건물에 큰 피해가 있습니다.\n"
     ]
    }
   ],
   "source": [
    "eq = float(input('리히터 규모를 입력하시오:'))\n",
    "\n",
    "if eq >= 8.0:\n",
    "    print('대부분의 구조물이 파괴됩니다.')\n",
    "elif eq >= 7.0:\n",
    "    print('지표면에 균열이 발생합니다.')\n",
    "elif eq >= 4.0:\n",
    "    print('빈약한 건물에 큰 피해가 있습니다.')\n",
    "elif eq >= 2.0:\n",
    "    print('물건이 흔들리거나 떨어집니다.')\n",
    "else:\n",
    "    print('지진계에 의해서만 탐지 가능합니다.')"
   ]
  },
  {
   "cell_type": "code",
   "execution_count": 68,
   "metadata": {},
   "outputs": [
    {
     "name": "stdout",
     "output_type": "stream",
     "text": [
      "========================\n",
      "메뉴1번: 치즈 버거\n",
      "메뉴2번: 치킨 버거\n",
      "메뉴3번: 불고기 버거\n",
      "========================\n"
     ]
    },
    {
     "name": "stdin",
     "output_type": "stream",
     "text": [
      "메뉴를 선택하세요 5\n"
     ]
    },
    {
     "name": "stdout",
     "output_type": "stream",
     "text": [
      "잘못 입력했습니다\n"
     ]
    }
   ],
   "source": [
    "\n",
    "print(\"========================\")\n",
    "print('메뉴1번: 치즈 버거')\n",
    "print('메뉴2번: 치킨 버거')\n",
    "print('메뉴3번: 불고기 버거')\n",
    "print(\"========================\")\n",
    "\n",
    "select = int(input('메뉴를 선택하세요'))\n",
    "\n",
    "if select >= 1 and select <= 3:\n",
    "    print(select,'번을 선택했습니다.')\n",
    "else:\n",
    "    print('잘못 입력했습니다')"
   ]
  },
  {
   "cell_type": "markdown",
   "metadata": {},
   "source": [
    "# <3장 반복문>"
   ]
  },
  {
   "cell_type": "markdown",
   "metadata": {},
   "source": [
    "## for문"
   ]
  },
  {
   "cell_type": "code",
   "execution_count": 70,
   "metadata": {},
   "outputs": [
    {
     "name": "stdout",
     "output_type": "stream",
     "text": [
      "0: for문을 공부하고 있습니다.\n",
      "1: for문을 공부하고 있습니다.\n",
      "2: for문을 공부하고 있습니다.\n"
     ]
    }
   ],
   "source": [
    "for i in range(0,3,1):\n",
    "    print('%d: for문을 공부하고 있습니다.'%i)"
   ]
  },
  {
   "cell_type": "code",
   "execution_count": 71,
   "metadata": {},
   "outputs": [
    {
     "name": "stdout",
     "output_type": "stream",
     "text": [
      "2: for문을 공부하고 있습니다.\n",
      "1: for문을 공부하고 있습니다.\n",
      "0: for문을 공부하고 있습니다.\n"
     ]
    }
   ],
   "source": [
    "for i in range(2,-1,-1):\n",
    "    print('%d: for문을 공부하고 있습니다.'%i)"
   ]
  },
  {
   "cell_type": "code",
   "execution_count": 73,
   "metadata": {},
   "outputs": [
    {
     "name": "stdout",
     "output_type": "stream",
     "text": [
      "1 2 3 4 5 "
     ]
    }
   ],
   "source": [
    "for i in range(1,6,1):\n",
    "    print('%d'%i, end=' ')"
   ]
  },
  {
   "cell_type": "code",
   "execution_count": 74,
   "metadata": {},
   "outputs": [
    {
     "name": "stdout",
     "output_type": "stream",
     "text": [
      "1부터 10까지의 합계 : 55\n"
     ]
    }
   ],
   "source": [
    "i, hap = 0,0\n",
    "\n",
    "for i in range(1,11,1):\n",
    "    hap = hap+i\n",
    "    \n",
    "print('1부터 10까지의 합계 : %d'%hap)"
   ]
  },
  {
   "cell_type": "code",
   "execution_count": 80,
   "metadata": {},
   "outputs": [
    {
     "name": "stdout",
     "output_type": "stream",
     "text": [
      "500과 1000 사이에 있는 홀수의 합계 : 187500\n"
     ]
    }
   ],
   "source": [
    "hap=0\n",
    "\n",
    "for i in range(501,1001,2):\n",
    "    hap = hap+i\n",
    "    \n",
    "print('500과 1000 사이에 있는 홀수의 합계 :',hap)"
   ]
  },
  {
   "cell_type": "code",
   "execution_count": 83,
   "metadata": {},
   "outputs": [
    {
     "name": "stdin",
     "output_type": "stream",
     "text": [
      "값을 입력하세요: 100\n"
     ]
    },
    {
     "name": "stdout",
     "output_type": "stream",
     "text": [
      "1부터 100까지의 합계: 5050\n"
     ]
    }
   ],
   "source": [
    "num = int(input('값을 입력하세요:'))\n",
    "hap=0\n",
    "for i in range(1, num+1):\n",
    "    hap = hap+i\n",
    "    \n",
    "print('1부터 %d까지의 합계:'%num, hap)"
   ]
  },
  {
   "cell_type": "code",
   "execution_count": 84,
   "metadata": {},
   "outputs": [
    {
     "name": "stdin",
     "output_type": "stream",
     "text": [
      "시작값을 입력하세요: 2\n",
      "끝값을 입력하세요: 300\n",
      "증가값을 입력하세요: 3\n"
     ]
    },
    {
     "name": "stdout",
     "output_type": "stream",
     "text": [
      "2에서 300까지 3씩 증가시킨 값의 합계 : 15050\n"
     ]
    }
   ],
   "source": [
    "start = int(input('시작값을 입력하세요:'))\n",
    "end = int(input('끝값을 입력하세요:'))\n",
    "prove = int(input('증가값을 입력하세요:'))\n",
    "\n",
    "hap=0\n",
    "\n",
    "for i in range(start,end+1,prove):\n",
    "    hap = hap+i\n",
    "    \n",
    "    \n",
    "print('%d에서 %d까지 %d씩 증가시킨 값의 합계 : %d'%(start,end,prove,hap))"
   ]
  },
  {
   "cell_type": "code",
   "execution_count": 85,
   "metadata": {},
   "outputs": [
    {
     "name": "stdin",
     "output_type": "stream",
     "text": [
      "단을 입력하세요: 7\n"
     ]
    },
    {
     "name": "stdout",
     "output_type": "stream",
     "text": [
      "7 X 1 =  7\n",
      "7 X 2 = 14\n",
      "7 X 3 = 21\n",
      "7 X 4 = 28\n",
      "7 X 5 = 35\n",
      "7 X 6 = 42\n",
      "7 X 7 = 49\n",
      "7 X 8 = 56\n",
      "7 X 9 = 63\n"
     ]
    }
   ],
   "source": [
    "dan = int(input('단을 입력하세요:'))\n",
    "\n",
    "for i in range(1,10,1):\n",
    "    print('%d X %d = %2d'%(dan,i, dan*i))"
   ]
  },
  {
   "cell_type": "code",
   "execution_count": 86,
   "metadata": {},
   "outputs": [
    {
     "name": "stdout",
     "output_type": "stream",
     "text": [
      "0 0\n",
      "0 1\n",
      "1 0\n",
      "1 1\n",
      "2 0\n",
      "2 1\n"
     ]
    }
   ],
   "source": [
    "for i in range(0,3,1):\n",
    "    for j in range(0,2,1):\n",
    "        print(i,j)"
   ]
  },
  {
   "cell_type": "code",
   "execution_count": 88,
   "metadata": {
    "scrolled": true
   },
   "outputs": [
    {
     "name": "stdout",
     "output_type": "stream",
     "text": [
      "2 X 1 = 2\n",
      "2 X 2 = 4\n",
      "2 X 3 = 6\n",
      "2 X 4 = 8\n",
      "2 X 5 = 10\n",
      "2 X 6 = 12\n",
      "2 X 7 = 14\n",
      "2 X 8 = 16\n",
      "2 X 9 = 18\n",
      "\n",
      "3 X 1 = 3\n",
      "3 X 2 = 6\n",
      "3 X 3 = 9\n",
      "3 X 4 = 12\n",
      "3 X 5 = 15\n",
      "3 X 6 = 18\n",
      "3 X 7 = 21\n",
      "3 X 8 = 24\n",
      "3 X 9 = 27\n",
      "\n",
      "4 X 1 = 4\n",
      "4 X 2 = 8\n",
      "4 X 3 = 12\n",
      "4 X 4 = 16\n",
      "4 X 5 = 20\n",
      "4 X 6 = 24\n",
      "4 X 7 = 28\n",
      "4 X 8 = 32\n",
      "4 X 9 = 36\n",
      "\n",
      "5 X 1 = 5\n",
      "5 X 2 = 10\n",
      "5 X 3 = 15\n",
      "5 X 4 = 20\n",
      "5 X 5 = 25\n",
      "5 X 6 = 30\n",
      "5 X 7 = 35\n",
      "5 X 8 = 40\n",
      "5 X 9 = 45\n",
      "\n",
      "6 X 1 = 6\n",
      "6 X 2 = 12\n",
      "6 X 3 = 18\n",
      "6 X 4 = 24\n",
      "6 X 5 = 30\n",
      "6 X 6 = 36\n",
      "6 X 7 = 42\n",
      "6 X 8 = 48\n",
      "6 X 9 = 54\n",
      "\n",
      "7 X 1 = 7\n",
      "7 X 2 = 14\n",
      "7 X 3 = 21\n",
      "7 X 4 = 28\n",
      "7 X 5 = 35\n",
      "7 X 6 = 42\n",
      "7 X 7 = 49\n",
      "7 X 8 = 56\n",
      "7 X 9 = 63\n",
      "\n",
      "8 X 1 = 8\n",
      "8 X 2 = 16\n",
      "8 X 3 = 24\n",
      "8 X 4 = 32\n",
      "8 X 5 = 40\n",
      "8 X 6 = 48\n",
      "8 X 7 = 56\n",
      "8 X 8 = 64\n",
      "8 X 9 = 72\n",
      "\n",
      "9 X 1 = 9\n",
      "9 X 2 = 18\n",
      "9 X 3 = 27\n",
      "9 X 4 = 36\n",
      "9 X 5 = 45\n",
      "9 X 6 = 54\n",
      "9 X 7 = 63\n",
      "9 X 8 = 72\n",
      "9 X 9 = 81\n",
      "\n"
     ]
    }
   ],
   "source": [
    "for i in range(2,10):\n",
    "    for j in range(1,10):\n",
    "        print(\"%d X %d = %d\"%(i,j,i*j))\n",
    "    print()"
   ]
  },
  {
   "cell_type": "markdown",
   "metadata": {},
   "source": [
    "## while문"
   ]
  },
  {
   "cell_type": "code",
   "execution_count": 89,
   "metadata": {},
   "outputs": [
    {
     "name": "stdout",
     "output_type": "stream",
     "text": [
      "0 : 안녕하세요? while문을 공부중입니다.\n",
      "1 : 안녕하세요? while문을 공부중입니다.\n",
      "2 : 안녕하세요? while문을 공부중입니다.\n"
     ]
    }
   ],
   "source": [
    "i=0\n",
    "\n",
    "while i<3:\n",
    "    print(\"%d : 안녕하세요? while문을 공부중입니다.\"%i)\n",
    "    i= i+1"
   ]
  },
  {
   "cell_type": "code",
   "execution_count": 91,
   "metadata": {},
   "outputs": [
    {
     "name": "stdout",
     "output_type": "stream",
     "text": [
      "1부터 10까지의 합계: 55\n"
     ]
    }
   ],
   "source": [
    "i = 1\n",
    "hap = 0\n",
    "\n",
    "while i<=10:\n",
    "    hap = hap+i\n",
    "    i = i+1\n",
    "print('1부터 10까지의 합계:',hap)"
   ]
  },
  {
   "cell_type": "code",
   "execution_count": 92,
   "metadata": {},
   "outputs": [
    {
     "name": "stdin",
     "output_type": "stream",
     "text": [
      "더할 첫 번째 수를 입력하세요 : 55\n",
      "더할 두 번째 수를 입력하세요 : 22\n"
     ]
    },
    {
     "name": "stdout",
     "output_type": "stream",
     "text": [
      "55 + 22 = 77\n"
     ]
    },
    {
     "name": "stdin",
     "output_type": "stream",
     "text": [
      "더할 첫 번째 수를 입력하세요 : 77\n",
      "더할 두 번째 수를 입력하세요 : 128\n"
     ]
    },
    {
     "name": "stdout",
     "output_type": "stream",
     "text": [
      "77 + 128 = 205\n"
     ]
    },
    {
     "ename": "KeyboardInterrupt",
     "evalue": "Interrupted by user",
     "output_type": "error",
     "traceback": [
      "\u001b[0;31m---------------------------------------------------------------------------\u001b[0m",
      "\u001b[0;31mKeyboardInterrupt\u001b[0m                         Traceback (most recent call last)",
      "\u001b[0;32m<ipython-input-92-b59f46b4415e>\u001b[0m in \u001b[0;36m<module>\u001b[0;34m\u001b[0m\n\u001b[1;32m      1\u001b[0m \u001b[0;32mwhile\u001b[0m \u001b[0;32mTrue\u001b[0m\u001b[0;34m:\u001b[0m\u001b[0;34m\u001b[0m\u001b[0;34m\u001b[0m\u001b[0m\n\u001b[0;32m----> 2\u001b[0;31m     \u001b[0mx\u001b[0m \u001b[0;34m=\u001b[0m \u001b[0mint\u001b[0m\u001b[0;34m(\u001b[0m\u001b[0minput\u001b[0m\u001b[0;34m(\u001b[0m\u001b[0;34m'더할 첫 번째 수를 입력하세요 :'\u001b[0m\u001b[0;34m)\u001b[0m\u001b[0;34m)\u001b[0m\u001b[0;34m\u001b[0m\u001b[0;34m\u001b[0m\u001b[0m\n\u001b[0m\u001b[1;32m      3\u001b[0m     \u001b[0my\u001b[0m \u001b[0;34m=\u001b[0m \u001b[0mint\u001b[0m\u001b[0;34m(\u001b[0m\u001b[0minput\u001b[0m\u001b[0;34m(\u001b[0m\u001b[0;34m'더할 두 번째 수를 입력하세요 :'\u001b[0m\u001b[0;34m)\u001b[0m\u001b[0;34m)\u001b[0m\u001b[0;34m\u001b[0m\u001b[0;34m\u001b[0m\u001b[0m\n\u001b[1;32m      4\u001b[0m     \u001b[0mprint\u001b[0m\u001b[0;34m(\u001b[0m\u001b[0;34m\"%d + %d = %d\"\u001b[0m\u001b[0;34m%\u001b[0m\u001b[0;34m(\u001b[0m\u001b[0mx\u001b[0m\u001b[0;34m,\u001b[0m\u001b[0my\u001b[0m\u001b[0;34m,\u001b[0m\u001b[0mx\u001b[0m\u001b[0;34m+\u001b[0m\u001b[0my\u001b[0m\u001b[0;34m)\u001b[0m\u001b[0;34m)\u001b[0m\u001b[0;34m\u001b[0m\u001b[0;34m\u001b[0m\u001b[0m\n",
      "\u001b[0;32m~/anaconda3/lib/python3.8/site-packages/ipykernel/kernelbase.py\u001b[0m in \u001b[0;36mraw_input\u001b[0;34m(self, prompt)\u001b[0m\n\u001b[1;32m    858\u001b[0m                 \u001b[0;34m\"raw_input was called, but this frontend does not support input requests.\"\u001b[0m\u001b[0;34m\u001b[0m\u001b[0;34m\u001b[0m\u001b[0m\n\u001b[1;32m    859\u001b[0m             )\n\u001b[0;32m--> 860\u001b[0;31m         return self._input_request(str(prompt),\n\u001b[0m\u001b[1;32m    861\u001b[0m             \u001b[0mself\u001b[0m\u001b[0;34m.\u001b[0m\u001b[0m_parent_ident\u001b[0m\u001b[0;34m,\u001b[0m\u001b[0;34m\u001b[0m\u001b[0;34m\u001b[0m\u001b[0m\n\u001b[1;32m    862\u001b[0m             \u001b[0mself\u001b[0m\u001b[0;34m.\u001b[0m\u001b[0m_parent_header\u001b[0m\u001b[0;34m,\u001b[0m\u001b[0;34m\u001b[0m\u001b[0;34m\u001b[0m\u001b[0m\n",
      "\u001b[0;32m~/anaconda3/lib/python3.8/site-packages/ipykernel/kernelbase.py\u001b[0m in \u001b[0;36m_input_request\u001b[0;34m(self, prompt, ident, parent, password)\u001b[0m\n\u001b[1;32m    902\u001b[0m             \u001b[0;32mexcept\u001b[0m \u001b[0mKeyboardInterrupt\u001b[0m\u001b[0;34m:\u001b[0m\u001b[0;34m\u001b[0m\u001b[0;34m\u001b[0m\u001b[0m\n\u001b[1;32m    903\u001b[0m                 \u001b[0;31m# re-raise KeyboardInterrupt, to truncate traceback\u001b[0m\u001b[0;34m\u001b[0m\u001b[0;34m\u001b[0m\u001b[0;34m\u001b[0m\u001b[0m\n\u001b[0;32m--> 904\u001b[0;31m                 \u001b[0;32mraise\u001b[0m \u001b[0mKeyboardInterrupt\u001b[0m\u001b[0;34m(\u001b[0m\u001b[0;34m\"Interrupted by user\"\u001b[0m\u001b[0;34m)\u001b[0m \u001b[0;32mfrom\u001b[0m \u001b[0;32mNone\u001b[0m\u001b[0;34m\u001b[0m\u001b[0;34m\u001b[0m\u001b[0m\n\u001b[0m\u001b[1;32m    905\u001b[0m             \u001b[0;32mexcept\u001b[0m \u001b[0mException\u001b[0m \u001b[0;32mas\u001b[0m \u001b[0me\u001b[0m\u001b[0;34m:\u001b[0m\u001b[0;34m\u001b[0m\u001b[0;34m\u001b[0m\u001b[0m\n\u001b[1;32m    906\u001b[0m                 \u001b[0mself\u001b[0m\u001b[0;34m.\u001b[0m\u001b[0mlog\u001b[0m\u001b[0;34m.\u001b[0m\u001b[0mwarning\u001b[0m\u001b[0;34m(\u001b[0m\u001b[0;34m\"Invalid Message:\"\u001b[0m\u001b[0;34m,\u001b[0m \u001b[0mexc_info\u001b[0m\u001b[0;34m=\u001b[0m\u001b[0;32mTrue\u001b[0m\u001b[0;34m)\u001b[0m\u001b[0;34m\u001b[0m\u001b[0;34m\u001b[0m\u001b[0m\n",
      "\u001b[0;31mKeyboardInterrupt\u001b[0m: Interrupted by user"
     ]
    }
   ],
   "source": [
    "#무한루프를 이용한 두 수 합산 구하기\n",
    "\n",
    "while True:\n",
    "    x = int(input('더할 첫 번째 수를 입력하세요 :'))\n",
    "    y = int(input('더할 두 번째 수를 입력하세요 :'))\n",
    "    print(\"%d + %d = %d\"%(x,y,x+y))"
   ]
  },
  {
   "cell_type": "code",
   "execution_count": null,
   "metadata": {},
   "outputs": [],
   "source": []
  }
 ],
 "metadata": {
  "kernelspec": {
   "display_name": "Python 3",
   "language": "python",
   "name": "python3"
  },
  "language_info": {
   "codemirror_mode": {
    "name": "ipython",
    "version": 3
   },
   "file_extension": ".py",
   "mimetype": "text/x-python",
   "name": "python",
   "nbconvert_exporter": "python",
   "pygments_lexer": "ipython3",
   "version": "3.8.5"
  }
 },
 "nbformat": 4,
 "nbformat_minor": 4
}
