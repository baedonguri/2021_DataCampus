{
 "cells": [
  {
   "cell_type": "markdown",
   "metadata": {},
   "source": [
    "# 네이버 카페"
   ]
  },
  {
   "cell_type": "code",
   "execution_count": 27,
   "metadata": {},
   "outputs": [
    {
     "name": "stdin",
     "output_type": "stream",
     "text": [
      "검색어를 입력해주세요 :  빅데이터\n"
     ]
    }
   ],
   "source": [
    "from selenium import webdriver\n",
    "from selenium.webdriver.common.keys import Keys\n",
    "import time\n",
    "\n",
    "keyword = input('검색어를 입력해주세요 : ')\n",
    "\n",
    "driver = webdriver.Chrome('/Users/donguri/Workspace/데이터청년캠퍼스/wc/chromedriver')\n",
    "driver.get('https://cafe.naver.com/joonggonara')\n",
    "driver.find_element_by_id('topLayerQueryInput').send_keys(keyword)\n",
    "driver.find_element_by_id('topLayerQueryInput').send_keys(Keys.RETURN)\n",
    "driver.switch_to.frame('cafe_main')\n",
    "url_list = []\n",
    "\n",
    "try:\n",
    "    page_url = driver.find_element_by_css_selector('div.prev-next > a')\n",
    "    page_url = page_url.get_attribute('href')\n",
    "    page_url = page_url[:-1]\n",
    "    \n",
    "    is_finished = False\n",
    "#     while True:\n",
    "        \n",
    "        \n",
    "    for i in range(5):\n",
    "        time.sleep(1)\n",
    "        driver.get(page_url+str(i))\n",
    "        driver.switch_to.frame('cafe_main')\n",
    "        article_board = driver.find_elements_by_css_selector('div.article-board.m-tcol-c')[-1]\n",
    "        table_tbody = article_board.find_element_by_css_selector('table > tbody')\n",
    "        article_list = table_tbody.find_elements_by_css_selector('tr')\n",
    "        for article in article_list:\n",
    "            if '등록된 게시글이 없습니다.' in article.text:\n",
    "                is_finished = True\n",
    "                \n",
    "            try:\n",
    "                url = article.find_element_by_css_selector('div.inner_list > a.article').get_attribute('href')\n",
    "                url_list.append(url)\n",
    "            except Exception as e:\n",
    "                pass               \n",
    "            \n",
    "            if is_finished == True:\n",
    "                break\n",
    "            \n",
    "except:\n",
    "    pass\n",
    "\n",
    "\n",
    "\n",
    "\n"
   ]
  },
  {
   "cell_type": "code",
   "execution_count": 29,
   "metadata": {},
   "outputs": [
    {
     "name": "stdout",
     "output_type": "stream",
     "text": [
      "60\n"
     ]
    }
   ],
   "source": [
    "url_list = list(set(url_list))\n",
    "print(len(url_list))"
   ]
  },
  {
   "cell_type": "markdown",
   "metadata": {},
   "source": [
    "# 네이버 영화"
   ]
  },
  {
   "cell_type": "code",
   "execution_count": 46,
   "metadata": {},
   "outputs": [
    {
     "name": "stdin",
     "output_type": "stream",
     "text": [
      "영화 제목 입력 : 해리포터\n"
     ]
    },
    {
     "ename": "NoSuchWindowException",
     "evalue": "Message: no such window: window was already closed\n  (Session info: chrome=91.0.4472.114)\n",
     "output_type": "error",
     "traceback": [
      "\u001b[0;31m---------------------------------------------------------------------------\u001b[0m",
      "\u001b[0;31mNoSuchWindowException\u001b[0m                     Traceback (most recent call last)",
      "\u001b[0;32m<ipython-input-46-7bfe6ea667b1>\u001b[0m in \u001b[0;36m<module>\u001b[0;34m\u001b[0m\n\u001b[1;32m     71\u001b[0m     \u001b[0;32mreturn\u001b[0m \u001b[0mscore_data_list\u001b[0m\u001b[0;34m\u001b[0m\u001b[0;34m\u001b[0m\u001b[0m\n\u001b[1;32m     72\u001b[0m \u001b[0;34m\u001b[0m\u001b[0m\n\u001b[0;32m---> 73\u001b[0;31m \u001b[0mtitle\u001b[0m\u001b[0;34m,\u001b[0m \u001b[0murl\u001b[0m \u001b[0;34m=\u001b[0m \u001b[0mNaverMovieGetUrlFromKeyword\u001b[0m\u001b[0;34m(\u001b[0m\u001b[0mdriver\u001b[0m\u001b[0;34m)\u001b[0m\u001b[0;34m\u001b[0m\u001b[0;34m\u001b[0m\u001b[0m\n\u001b[0m\u001b[1;32m     74\u001b[0m \u001b[0mcode\u001b[0m \u001b[0;34m=\u001b[0m \u001b[0murl\u001b[0m\u001b[0;34m.\u001b[0m\u001b[0msplit\u001b[0m\u001b[0;34m(\u001b[0m\u001b[0;34m'code='\u001b[0m\u001b[0;34m)\u001b[0m\u001b[0;34m[\u001b[0m\u001b[0;34m-\u001b[0m\u001b[0;36m1\u001b[0m\u001b[0;34m]\u001b[0m\u001b[0;34m\u001b[0m\u001b[0;34m\u001b[0m\u001b[0m\n\u001b[1;32m     75\u001b[0m \u001b[0mcode\u001b[0m \u001b[0;34m=\u001b[0m \u001b[0;34m'205303'\u001b[0m\u001b[0;34m\u001b[0m\u001b[0;34m\u001b[0m\u001b[0m\n",
      "\u001b[0;32m<ipython-input-46-7bfe6ea667b1>\u001b[0m in \u001b[0;36mNaverMovieGetUrlFromKeyword\u001b[0;34m(driver)\u001b[0m\n\u001b[1;32m      5\u001b[0m \u001b[0;32mdef\u001b[0m \u001b[0mNaverMovieGetUrlFromKeyword\u001b[0m\u001b[0;34m(\u001b[0m\u001b[0mdriver\u001b[0m\u001b[0;34m)\u001b[0m\u001b[0;34m:\u001b[0m\u001b[0;34m\u001b[0m\u001b[0;34m\u001b[0m\u001b[0m\n\u001b[1;32m      6\u001b[0m     \u001b[0mkeyword\u001b[0m \u001b[0;34m=\u001b[0m \u001b[0minput\u001b[0m\u001b[0;34m(\u001b[0m\u001b[0;34m'영화 제목 입력 :'\u001b[0m\u001b[0;34m)\u001b[0m\u001b[0;34m\u001b[0m\u001b[0;34m\u001b[0m\u001b[0m\n\u001b[0;32m----> 7\u001b[0;31m     \u001b[0mdriver\u001b[0m\u001b[0;34m.\u001b[0m\u001b[0mget\u001b[0m\u001b[0;34m(\u001b[0m\u001b[0;34m'https://movie.naver.com/'\u001b[0m\u001b[0;34m)\u001b[0m\u001b[0;34m\u001b[0m\u001b[0;34m\u001b[0m\u001b[0m\n\u001b[0m\u001b[1;32m      8\u001b[0m \u001b[0;34m\u001b[0m\u001b[0m\n\u001b[1;32m      9\u001b[0m     \u001b[0mdriver\u001b[0m\u001b[0;34m.\u001b[0m\u001b[0mfind_element_by_id\u001b[0m\u001b[0;34m(\u001b[0m\u001b[0;34m'ipt_tx_srch'\u001b[0m\u001b[0;34m)\u001b[0m\u001b[0;34m.\u001b[0m\u001b[0msend_keys\u001b[0m\u001b[0;34m(\u001b[0m\u001b[0mkeyword\u001b[0m\u001b[0;34m)\u001b[0m\u001b[0;34m\u001b[0m\u001b[0;34m\u001b[0m\u001b[0m\n",
      "\u001b[0;32m~/anaconda3/lib/python3.8/site-packages/selenium/webdriver/remote/webdriver.py\u001b[0m in \u001b[0;36mget\u001b[0;34m(self, url)\u001b[0m\n\u001b[1;32m    331\u001b[0m         \u001b[0mLoads\u001b[0m \u001b[0ma\u001b[0m \u001b[0mweb\u001b[0m \u001b[0mpage\u001b[0m \u001b[0;32min\u001b[0m \u001b[0mthe\u001b[0m \u001b[0mcurrent\u001b[0m \u001b[0mbrowser\u001b[0m \u001b[0msession\u001b[0m\u001b[0;34m.\u001b[0m\u001b[0;34m\u001b[0m\u001b[0;34m\u001b[0m\u001b[0m\n\u001b[1;32m    332\u001b[0m         \"\"\"\n\u001b[0;32m--> 333\u001b[0;31m         \u001b[0mself\u001b[0m\u001b[0;34m.\u001b[0m\u001b[0mexecute\u001b[0m\u001b[0;34m(\u001b[0m\u001b[0mCommand\u001b[0m\u001b[0;34m.\u001b[0m\u001b[0mGET\u001b[0m\u001b[0;34m,\u001b[0m \u001b[0;34m{\u001b[0m\u001b[0;34m'url'\u001b[0m\u001b[0;34m:\u001b[0m \u001b[0murl\u001b[0m\u001b[0;34m}\u001b[0m\u001b[0;34m)\u001b[0m\u001b[0;34m\u001b[0m\u001b[0;34m\u001b[0m\u001b[0m\n\u001b[0m\u001b[1;32m    334\u001b[0m \u001b[0;34m\u001b[0m\u001b[0m\n\u001b[1;32m    335\u001b[0m     \u001b[0;34m@\u001b[0m\u001b[0mproperty\u001b[0m\u001b[0;34m\u001b[0m\u001b[0;34m\u001b[0m\u001b[0m\n",
      "\u001b[0;32m~/anaconda3/lib/python3.8/site-packages/selenium/webdriver/remote/webdriver.py\u001b[0m in \u001b[0;36mexecute\u001b[0;34m(self, driver_command, params)\u001b[0m\n\u001b[1;32m    319\u001b[0m         \u001b[0mresponse\u001b[0m \u001b[0;34m=\u001b[0m \u001b[0mself\u001b[0m\u001b[0;34m.\u001b[0m\u001b[0mcommand_executor\u001b[0m\u001b[0;34m.\u001b[0m\u001b[0mexecute\u001b[0m\u001b[0;34m(\u001b[0m\u001b[0mdriver_command\u001b[0m\u001b[0;34m,\u001b[0m \u001b[0mparams\u001b[0m\u001b[0;34m)\u001b[0m\u001b[0;34m\u001b[0m\u001b[0;34m\u001b[0m\u001b[0m\n\u001b[1;32m    320\u001b[0m         \u001b[0;32mif\u001b[0m \u001b[0mresponse\u001b[0m\u001b[0;34m:\u001b[0m\u001b[0;34m\u001b[0m\u001b[0;34m\u001b[0m\u001b[0m\n\u001b[0;32m--> 321\u001b[0;31m             \u001b[0mself\u001b[0m\u001b[0;34m.\u001b[0m\u001b[0merror_handler\u001b[0m\u001b[0;34m.\u001b[0m\u001b[0mcheck_response\u001b[0m\u001b[0;34m(\u001b[0m\u001b[0mresponse\u001b[0m\u001b[0;34m)\u001b[0m\u001b[0;34m\u001b[0m\u001b[0;34m\u001b[0m\u001b[0m\n\u001b[0m\u001b[1;32m    322\u001b[0m             response['value'] = self._unwrap_value(\n\u001b[1;32m    323\u001b[0m                 response.get('value', None))\n",
      "\u001b[0;32m~/anaconda3/lib/python3.8/site-packages/selenium/webdriver/remote/errorhandler.py\u001b[0m in \u001b[0;36mcheck_response\u001b[0;34m(self, response)\u001b[0m\n\u001b[1;32m    240\u001b[0m                 \u001b[0malert_text\u001b[0m \u001b[0;34m=\u001b[0m \u001b[0mvalue\u001b[0m\u001b[0;34m[\u001b[0m\u001b[0;34m'alert'\u001b[0m\u001b[0;34m]\u001b[0m\u001b[0;34m.\u001b[0m\u001b[0mget\u001b[0m\u001b[0;34m(\u001b[0m\u001b[0;34m'text'\u001b[0m\u001b[0;34m)\u001b[0m\u001b[0;34m\u001b[0m\u001b[0;34m\u001b[0m\u001b[0m\n\u001b[1;32m    241\u001b[0m             \u001b[0;32mraise\u001b[0m \u001b[0mexception_class\u001b[0m\u001b[0;34m(\u001b[0m\u001b[0mmessage\u001b[0m\u001b[0;34m,\u001b[0m \u001b[0mscreen\u001b[0m\u001b[0;34m,\u001b[0m \u001b[0mstacktrace\u001b[0m\u001b[0;34m,\u001b[0m \u001b[0malert_text\u001b[0m\u001b[0;34m)\u001b[0m\u001b[0;34m\u001b[0m\u001b[0;34m\u001b[0m\u001b[0m\n\u001b[0;32m--> 242\u001b[0;31m         \u001b[0;32mraise\u001b[0m \u001b[0mexception_class\u001b[0m\u001b[0;34m(\u001b[0m\u001b[0mmessage\u001b[0m\u001b[0;34m,\u001b[0m \u001b[0mscreen\u001b[0m\u001b[0;34m,\u001b[0m \u001b[0mstacktrace\u001b[0m\u001b[0;34m)\u001b[0m\u001b[0;34m\u001b[0m\u001b[0;34m\u001b[0m\u001b[0m\n\u001b[0m\u001b[1;32m    243\u001b[0m \u001b[0;34m\u001b[0m\u001b[0m\n\u001b[1;32m    244\u001b[0m     \u001b[0;32mdef\u001b[0m \u001b[0m_value_or_default\u001b[0m\u001b[0;34m(\u001b[0m\u001b[0mself\u001b[0m\u001b[0;34m,\u001b[0m \u001b[0mobj\u001b[0m\u001b[0;34m,\u001b[0m \u001b[0mkey\u001b[0m\u001b[0;34m,\u001b[0m \u001b[0mdefault\u001b[0m\u001b[0;34m)\u001b[0m\u001b[0;34m:\u001b[0m\u001b[0;34m\u001b[0m\u001b[0;34m\u001b[0m\u001b[0m\n",
      "\u001b[0;31mNoSuchWindowException\u001b[0m: Message: no such window: window was already closed\n  (Session info: chrome=91.0.4472.114)\n"
     ]
    }
   ],
   "source": [
    "from selenium import webdriver\n",
    "from selenium.webdriver.common.keys import Keys\n",
    "import time\n",
    "\n",
    "def NaverMovieGetUrlFromKeyword(driver):\n",
    "    keyword = input('영화 제목 입력 :')\n",
    "    driver.get('https://movie.naver.com/')\n",
    "\n",
    "    driver.find_element_by_id('ipt_tx_srch').send_keys(keyword)\n",
    "    driver.find_element_by_id('ipt_tx_srch').send_keys(Keys.RETURN)\n",
    "\n",
    "    search_list = driver.find_element_by_class_name('search_list_1')\n",
    "    search_item = search_list.find_elements_by_css_selector('li')\n",
    "    count = 1\n",
    "    for item in search_item:\n",
    "        title = item.find_element_by_css_selector('dl > dt').text\n",
    "        print(str(count) + \". \"+ title)\n",
    "        count += 1\n",
    "        etc_list = item.find_elements_by_css_selector('dd.etc')\n",
    "        for etc in etc_list:\n",
    "            print(etc.text)\n",
    "        print('\\n')\n",
    "\n",
    "    selected_num = input('평점 데이터를 가져오고 싶은 영화를 선택하세요 (취소 : c) : ')\n",
    "    if(selected_num == 'c'):\n",
    "        print('영화선택을 취소하셨습니다.')\n",
    "        return -1\n",
    "    selected_num = int(selected_num)\n",
    "    if(selected_num > count):\n",
    "        print('잘못된 번호를 선택하셨습니다.')\n",
    "        return -1\n",
    "    selected_movie = search_item[selected_num - 1]\n",
    "    selected_movie_title = selected_movie.find_element_by_css_selector('dl > dt').text\n",
    "    selected_movie_url = selected_movie.find_element_by_css_selector('dl > dt > a').get_attribute('href')\n",
    "    \n",
    "    return selected_movie_title, selected_movie_url\n",
    "\n",
    "\n",
    "def NaverMovieGrade(driver, url):\n",
    "    driver.get(url)\n",
    "    driver.switch_to.frame('pointAfterListIframe')\n",
    "    score_data_list = [] \n",
    "    time.sleep(1)\n",
    "    input_netizen = driver.find_element_by_class_name('input_netizen')\n",
    "    paging = input_netizen.find_element_by_class_name('paging')\n",
    "    page_list = paging.find_elements_by_css_selector('a')\n",
    "    first_page = page_list[0].get_attribute('href')\n",
    "    now_page = first_page\n",
    "    driver.get(now_page)\n",
    "    while True:\n",
    "        time.sleep(1)\n",
    "        input_netizen = driver.find_element_by_class_name('input_netizen')\n",
    "        score_table = input_netizen.find_element_by_class_name('score_result')\n",
    "        score_list = score_table.find_elements_by_css_selector('li')\n",
    "        for item in score_list:\n",
    "            star_score = item.find_element_by_class_name('star_score')\n",
    "            score = star_score.find_element_by_css_selector('em').text\n",
    "            score_reple = item.find_element_by_class_name('score_reple')\n",
    "            reple = score_reple.find_element_by_css_selector('p').text\n",
    "            date_text = score_reple.find_element_by_css_selector('dl > dt> em:nth-child(2)').text\n",
    "            data = {'score' : score, 'comment' : reple, 'date' : date_text}\n",
    "            score_data_list.append(data)\n",
    "        paging = input_netizen.find_element_by_class_name('paging')\n",
    "        page_list = paging.find_elements_by_css_selector('a')\n",
    "        last_page = page_list[-1].get_attribute('href')\n",
    "        if(now_page == last_page):\n",
    "            break\n",
    "        now_page = last_page\n",
    "        driver.get(now_page)\n",
    "    return score_data_list\n",
    "    \n",
    "title, url = NaverMovieGetUrlFromKeyword(driver)\n",
    "code = url.split('code=')[-1]\n",
    "code = '205303'\n",
    "point_url = 'https://movie.naver.com/movie/bi/mi/point.nhn?code=' + code\n",
    "mg = NaverMovieGrade(driver, point_url)\n",
    "\n",
    "print(mg)"
   ]
  },
  {
   "cell_type": "code",
   "execution_count": 43,
   "metadata": {},
   "outputs": [
    {
     "name": "stdin",
     "output_type": "stream",
     "text": [
      "영화 제목 입력 : 해리포터\n"
     ]
    },
    {
     "name": "stdout",
     "output_type": "stream",
     "text": [
      "1. 해리 포터와 마법사의 돌 (Harry Potter And The Sorcerer's Stone)\n",
      "판타지, 가족, 모험, 액션| 영국, 미국|152분 |2001\n",
      "감독 : 크리스 콜럼버스|출연 : 다니엘 래드클리프, 루퍼트 그린트, 엠마 왓슨\n",
      "\n",
      "\n",
      "2. 해리 포터와 죽음의 성물 - 2부 (Harry Potter And The Deathly Hallows: Part 2)\n",
      "모험, 판타지, 미스터리| 영국, 미국|131분 |2011\n",
      "감독 : 데이빗 예이츠|출연 : 다니엘 래드클리프, 엠마 왓슨, 루퍼트 그린트\n",
      "\n",
      "\n",
      "3. 해리 포터와 아즈카반의 죄수 (Harry Potter And The Prisoner Of Azkaban)\n",
      "판타지, 가족, 모험, 액션| 미국, 영국|141분 |2004\n",
      "감독 : 알폰소 쿠아론|출연 : 다니엘 래드클리프, 엠마 왓슨, 루퍼트 그린트\n",
      "\n",
      "\n",
      "4. 해리 포터와 비밀의 방 (Harry Potter And The Chamber Of Secrets)\n",
      "판타지, 가족, 모험, 액션| 영국, 미국|162분 |2002\n",
      "감독 : 크리스 콜럼버스|출연 : 다니엘 래드클리프, 루퍼트 그린트, 엠마 왓슨\n",
      "\n",
      "\n",
      "5. 해리 포터와 죽음의 성물 - 1부 (Harry Potter And The Deathly Hallows: Part 1)\n",
      "액션, 모험, 판타지, 미스터리| 영국, 미국|146분 |2010\n",
      "감독 : 데이빗 예이츠|출연 : 다니엘 래드클리프, 엠마 왓슨, 루퍼트 그린트\n",
      "\n",
      "\n"
     ]
    },
    {
     "name": "stdin",
     "output_type": "stream",
     "text": [
      "평점 데이터를 가져오고 싶은 영화를 선택하세요 (취소 : c) :  3\n"
     ]
    },
    {
     "data": {
      "text/plain": [
       "('해리 포터와 아즈카반의 죄수 (Harry Potter And The Prisoner Of Azkaban)',\n",
       " 'https://movie.naver.com/movie/bi/mi/basic.nhn?code=35546')"
      ]
     },
     "execution_count": 43,
     "metadata": {},
     "output_type": "execute_result"
    }
   ],
   "source": [
    "driver = webdriver.Chrome('/Users/donguri/Workspace/데이터청년캠퍼스/wc/chromedriver')\n",
    "NaverMovieGetUrlFromKeyword(driver)"
   ]
  },
  {
   "cell_type": "code",
   "execution_count": 44,
   "metadata": {},
   "outputs": [],
   "source": [
    "driver.get(url)\n",
    "driver.switch_to.frame('pointAfterListIframe')"
   ]
  },
  {
   "cell_type": "code",
   "execution_count": null,
   "metadata": {},
   "outputs": [],
   "source": []
  }
 ],
 "metadata": {
  "kernelspec": {
   "display_name": "Python 3",
   "language": "python",
   "name": "python3"
  },
  "language_info": {
   "codemirror_mode": {
    "name": "ipython",
    "version": 3
   },
   "file_extension": ".py",
   "mimetype": "text/x-python",
   "name": "python",
   "nbconvert_exporter": "python",
   "pygments_lexer": "ipython3",
   "version": "3.8.5"
  }
 },
 "nbformat": 4,
 "nbformat_minor": 4
}
