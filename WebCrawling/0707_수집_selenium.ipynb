{
 "cells": [
  {
   "cell_type": "code",
   "execution_count": 1,
   "metadata": {},
   "outputs": [
    {
     "name": "stdout",
     "output_type": "stream",
     "text": [
      "Collecting bs4\n",
      "  Downloading bs4-0.0.1.tar.gz (1.1 kB)\n",
      "Requirement already satisfied: beautifulsoup4 in /Users/donguri/anaconda3/lib/python3.8/site-packages (from bs4) (4.9.3)\n",
      "Requirement already satisfied: soupsieve>1.2; python_version >= \"3.0\" in /Users/donguri/anaconda3/lib/python3.8/site-packages (from beautifulsoup4->bs4) (2.0.1)\n",
      "Building wheels for collected packages: bs4\n",
      "  Building wheel for bs4 (setup.py) ... \u001b[?25ldone\n",
      "\u001b[?25h  Created wheel for bs4: filename=bs4-0.0.1-py3-none-any.whl size=1273 sha256=6f9af2d4796eb3ea52fc1ff7e3e557feee24a1651f01c9f52d3b5ba2fbcd6aec\n",
      "  Stored in directory: /Users/donguri/Library/Caches/pip/wheels/75/78/21/68b124549c9bdc94f822c02fb9aa3578a669843f9767776bca\n",
      "Successfully built bs4\n",
      "Installing collected packages: bs4\n",
      "Successfully installed bs4-0.0.1\n"
     ]
    }
   ],
   "source": [
    "!pip install bs4"
   ]
  },
  {
   "cell_type": "code",
   "execution_count": 2,
   "metadata": {},
   "outputs": [
    {
     "name": "stdout",
     "output_type": "stream",
     "text": [
      "Collecting selenium\n",
      "  Downloading selenium-3.141.0-py2.py3-none-any.whl (904 kB)\n",
      "\u001b[K     |████████████████████████████████| 904 kB 1.1 MB/s eta 0:00:01\n",
      "\u001b[?25hRequirement already satisfied: urllib3 in /Users/donguri/anaconda3/lib/python3.8/site-packages (from selenium) (1.25.11)\n",
      "Installing collected packages: selenium\n",
      "Successfully installed selenium-3.141.0\n"
     ]
    }
   ],
   "source": [
    "!pip install selenium"
   ]
  },
  {
   "cell_type": "markdown",
   "metadata": {},
   "source": [
    "# 대한민국 구석구석 페이지 웹 크롤링"
   ]
  },
  {
   "cell_type": "code",
   "execution_count": 33,
   "metadata": {
    "scrolled": true
   },
   "outputs": [
    {
     "name": "stdin",
     "output_type": "stream",
     "text": [
      "입력할 키워드는 무엇인가요? :  여름여행\n"
     ]
    },
    {
     "name": "stdout",
     "output_type": "stream",
     "text": [
      "                                               title   service  \\\n",
      "0      한국관광공사 추천 7월 걷기여행길, 아름다운 여름의 정취를 물씬 느낄 수 있는 길   경기도 포천시   \n",
      "1            한국관광공사 추천 6월 걷기여행길, 싱그러운 초여름 날씨와 어울리는 길   강원도 철원군   \n",
      "2                                [여행 카드] 탐나는 여름 맛 빙수        서울   \n",
      "3                   산골 역과 무쇠다리 마을 여름 여행, 소백산역과 무쇠달마을  경상북도 영주시   \n",
      "4                              무더운 여름, 시원하게 즐기는 레저여행   경기도 광명시   \n",
      "5  한적한 여름휴가지로 추천!\\n시원한 강원도 여행지, 고성으로 떠나요~\\n고성 가볼 ...   강원도 고성군   \n",
      "6                     여름방학 가족 여행지 추천. 안동 여행 당일치기 코스!  경상북도 안동시   \n",
      "7                          [서울] 여름에 더 돋보이는 서울 여행자의 방        서울   \n",
      "8                [국내여행 버킷리스트 3탄] 올 여름엔 제주도 자전거 여행이다!       제주도   \n",
      "9                      [안동 가볼만한 곳] 한적한 여름여행지 안동 1박2일  경상북도 안동시   \n",
      "\n",
      "                                                 tag  \n",
      "0  #한국관광6선#걷기여행길#걷기여행#여름방학가볼만한곳#여름#휴가#풀향기#바다내음#힐링...  \n",
      "1  #한국관광7선#여름방학가볼만한곳#싱그러운초여름#풀내음#산책#산책코스#산책로#소이산생...  \n",
      "2  #서울가볼만한곳#빙수#서울맛집#여름제철음식#이색카페#카페이미#반전형제#부빙#티라벤토...  \n",
      "3  #영주가볼만한곳#여름여행#소백산역#무쇠달마을#박물관#공공누리#다자구할머니#가마솥물물...  \n",
      "4  #광명동굴#뉴서울다이빙풀#광명스피돔#광명새마을시장#여름여행#서울근교여행#재래시장#스...  \n",
      "5  #강원가볼만한곳#고성가볼만한곳#고성여행#화암사#바우지움조각미술관#테일커피#가진해변#...  \n",
      "6  #화천서원#하회마을#안동#안동가볼만한곳#가족여행#여름방학#여름휴가#월영교#병산서원#...  \n",
      "7  #한국관광품질인증#여행기사#여행자의방#추천숙박#혜화1938#게스트하우스서울삼촌#서울...  \n",
      "8  #제주도가볼만한곳#풍경여행#친구와함께#섬여행#나홀로여행#자연#바다여행#여름휴가#공공...  \n",
      "9  #안동가볼만한곳#안동여행#안동여행코스#안동1박2일코스#안동1박2일여행코스#여름휴가지...  \n"
     ]
    }
   ],
   "source": [
    "from selenium import webdriver\n",
    "from selenium.webdriver.common.keys import Keys\n",
    "import time\n",
    "import pandas as pd\n",
    "\n",
    "path = '/Users/donguri/Workspace/데이터청년캠퍼스/wc/chromedriver'\n",
    "\n",
    "keyword = input('입력할 키워드는 무엇인가요? : ')\n",
    "\n",
    "driver = webdriver.Chrome(path)\n",
    "driver.maximize_window() \n",
    "driver.get('https://korean.visitkorea.or.kr/main/main.do#home')\n",
    "driver.find_element_by_id('inp_search').send_keys(keyword)\n",
    "# driver.find_element_by_id('inp_search').send_keys(Keys.RETURN)\n",
    "driver.find_element_by_class_name('btn_search').click()\n",
    "\n",
    "time.sleep(2)\n",
    "\n",
    "ul = driver.find_element_by_css_selector('ul.list_thumType') #ul 태그중 list_thumType 찾고 ul 변수에 저장\n",
    "content_list = ul.find_elements_by_css_selector('li > div.area_txt') \n",
    "\n",
    "data_list = []\n",
    "\n",
    "for content in content_list:\n",
    "    tit = content.find_element_by_class_name('tit').text\n",
    "    service = content.find_element_by_class_name('service').text\n",
    "    tag = content.find_element_by_class_name('tag_type').text\n",
    "    data = {'title':tit, 'service':service, 'tag':tag}\n",
    "    data_list.append(data)\n",
    "    \n",
    "df = pd.DataFrame(data_list)\n",
    "print(df)\n",
    "df.to_csv('여행지.csv', encoding='euc-kr', index=False)"
   ]
  },
  {
   "cell_type": "code",
   "execution_count": 48,
   "metadata": {
    "collapsed": true,
    "jupyter": {
     "outputs_hidden": true
    },
    "scrolled": true
   },
   "outputs": [
    {
     "name": "stdin",
     "output_type": "stream",
     "text": [
      "입력할 키워드는 무엇인가요? :  여름여행\n"
     ]
    },
    {
     "name": "stdout",
     "output_type": "stream",
     "text": [
      "                                                title   service  \\\n",
      "0       한국관광공사 추천 7월 걷기여행길, 아름다운 여름의 정취를 물씬 느낄 수 있는 길   경기도 포천시   \n",
      "1             한국관광공사 추천 6월 걷기여행길, 싱그러운 초여름 날씨와 어울리는 길   강원도 철원군   \n",
      "2                                 [여행 카드] 탐나는 여름 맛 빙수        서울   \n",
      "3                    산골 역과 무쇠다리 마을 여름 여행, 소백산역과 무쇠달마을  경상북도 영주시   \n",
      "4                               무더운 여름, 시원하게 즐기는 레저여행   경기도 광명시   \n",
      "5   한적한 여름휴가지로 추천!\\n시원한 강원도 여행지, 고성으로 떠나요~\\n고성 가볼 ...   강원도 고성군   \n",
      "6                      여름방학 가족 여행지 추천. 안동 여행 당일치기 코스!  경상북도 안동시   \n",
      "7                           [서울] 여름에 더 돋보이는 서울 여행자의 방        서울   \n",
      "8                 [국내여행 버킷리스트 3탄] 올 여름엔 제주도 자전거 여행이다!       제주도   \n",
      "9                       [안동 가볼만한 곳] 한적한 여름여행지 안동 1박2일  경상북도 안동시   \n",
      "10                               통일로 향하는 경원선 DMZ 관광열차   강원도 철원군   \n",
      "11                  진분홍 배롱나무꽃으로 수놓은 황홀한 여름, 담양 명옥헌 원림  전라남도 담양군   \n",
      "12         여기 한국 맞나요? 여권 없이 즐기는 이탈리아 여행, 가평 피노키오와 다빈치   경기도 가평군   \n",
      "13                  이 여름, 꽃놀이에 진심입니다~ 강릉 선교장과 경포가시연습지   강원도 강릉시   \n",
      "14                               달콤 쌉사래, 향긋한 바다마을 사람들  경상남도 거제시   \n",
      "15                      다랑논에서 정원으로 '향기로운 변신', 남해 섬이정원  경상남도 남해군   \n",
      "16                 물놀이하고 원시림 걷고… 두메산골에서 여름 나기, 소똥령 마을   강원도 고성군   \n",
      "17                       별별 야생화 천국, 성주 가야산야생화식물원과 성밖숲  경상북도 성주군   \n",
      "18                         수국 꽃길 따라 우아한 산책, 고성 그레이스정원  경상남도 고성군   \n",
      "19                                          부산 송도해수욕장     부산 서구   \n",
      "20                                              #테마여행             \n",
      "21          [광복절 역사여행 10선] 가고 싶은 역사여행 코스 투표하면 상품권드려요~        전국   \n",
      "22                                     [명예대표축제]보령머드축제  충청남도 보령시   \n",
      "23        지친 일상을 치유할 언택트 힐링여행지!\\n2020 휴가철 찾아가고 싶은 33섬        전국   \n",
      "24                                  [문화관광축제] 포항국제불빛축제  경상북도 포항시   \n",
      "25                   화려한 조명이 나를 감싸는 야간관광 100선을 소개합니다!             \n",
      "26                      내 기분 마치 비행기! 외국 갬성 폭발하는 국내여행지             \n",
      "27                      2020 대한민국 구석구석 안전한 여름휴가를 부탁해!             \n",
      "28                                       해운대 모래작품 전시회   부산 해운대구   \n",
      "29               자동차로 즐기는 4색 섬 여행, 신안 암태도-팔금도-안좌도-자은도  전라남도 신안군   \n",
      "\n",
      "                                                  tag  \n",
      "0   #한국관광6선#걷기여행길#걷기여행#여름방학가볼만한곳#여름#휴가#풀향기#바다내음#힐링...  \n",
      "1   #한국관광7선#여름방학가볼만한곳#싱그러운초여름#풀내음#산책#산책코스#산책로#소이산생...  \n",
      "2   #서울가볼만한곳#빙수#서울맛집#여름제철음식#이색카페#카페이미#반전형제#부빙#티라벤토...  \n",
      "3   #영주가볼만한곳#여름여행#소백산역#무쇠달마을#박물관#공공누리#다자구할머니#가마솥물물...  \n",
      "4   #광명동굴#뉴서울다이빙풀#광명스피돔#광명새마을시장#여름여행#서울근교여행#재래시장#스...  \n",
      "5   #강원가볼만한곳#고성가볼만한곳#고성여행#화암사#바우지움조각미술관#테일커피#가진해변#...  \n",
      "6   #화천서원#하회마을#안동#안동가볼만한곳#가족여행#여름방학#여름휴가#월영교#병산서원#...  \n",
      "7   #한국관광품질인증#여행기사#여행자의방#추천숙박#혜화1938#게스트하우스서울삼촌#서울...  \n",
      "8   #제주도가볼만한곳#풍경여행#친구와함께#섬여행#나홀로여행#자연#바다여행#여름휴가#공공...  \n",
      "9   #안동가볼만한곳#안동여행#안동여행코스#안동1박2일코스#안동1박2일여행코스#여름휴가지...  \n",
      "10                                                     \n",
      "11  #2021년7월추천가볼만한곳#7월추천가볼만한곳#추천가볼만한곳#공공누리#면옥헌원림#죽...  \n",
      "12     #가평여행#가평가볼만한곳#피노키오와다빈치#테마파크#피노키오#포토존#양떼목장#공공누리  \n",
      "13  #2021년7월추천가볼만한곳#7월추천가볼만한곳#추천가볼만한곳#강원도#강릉#강릉가볼만...  \n",
      "14  #관광두레_주민사업체#거제섬꽃차#거제도해초쑥#경남_관광두레#경남거제#관광두레#음식관...  \n",
      "15  #2021년7월추천가볼만한곳#7월추천가볼만한곳#추천가볼만한곳#경상남도#남해군#남면#...  \n",
      "16               #DMZ#DMZ기사#DMZ평화#DMZ평화여행#DMZ여행#고성DMZ  \n",
      "17  #2021년7월추천가볼만한곳#7월추천가볼만한곳#추천가볼만한곳#경상북도#성주군#수륜면...  \n",
      "18  #2021년7월추천가볼만한곳#7월추천가볼만한곳#추천가볼만한곳#경상남도#고성군#그레이...  \n",
      "19  #부산송도해수욕장#가족여행#연인과함께#친구와함께#아이와함께#여름여행#여름휴가#바다풍...  \n",
      "20  #2020특별여행주간#2020여행주간#여행주간#테마여행#일상기념여행#또래별일상여행가...  \n",
      "21                                          #테마여행 10선  \n",
      "22  #보령머드축제#충청권#가볼만한축제#아이와함께#친구와함께#연인과함께#가족여행#체험학습...  \n",
      "23  #2020휴가철찾아가고싶은33섬#섬여행#언택트여행지#힐링여행#쉼여행#체험여행#레포츠...  \n",
      "24  #포항국제불빛축제#경상권#가볼만한축제#아이와함께#친구와함께#연인과함께#가족여행#체험...  \n",
      "25          #야간관광100선#밤#야경여행#야경#여름여행#여름여행지#추천여행지#테마여행  \n",
      "26      #해외여행대체지#여름휴가#여름휴가지추천#감성여행지#핫플레이스#인생샷여행지#테마여행  \n",
      "27                  #여름휴가#여름#여름여행지#드라이브코스#한적한여행지#테마여행  \n",
      "28  #해운대모래축제#경상권#가볼만한축제#아이와함께#친구와함께#연인과함께#가족여행#체험학...  \n",
      "29  #공공누리#추천가볼만한곳#2019년6월추천가볼만한곳#6월추천가볼만한곳#차로가는섬#여...  \n"
     ]
    }
   ],
   "source": [
    "from selenium import webdriver\n",
    "from selenium.webdriver.common.keys import Keys\n",
    "import time\n",
    "import pandas as pd\n",
    "from selenium.webdriver.support.ui import WebDriverWait #특정조건을 기다린 뒤 만족하면 넘어가는 기능을 사용하기 위해 사용 (인터넷속도, 사용자이용급증)\n",
    "from selenium.webdriver.support import expected_conditions as EC\n",
    "from selenium.webdriver.common.by import By\n",
    "\n",
    "path = '/Users/donguri/Workspace/데이터청년캠퍼스/wc/chromedriver'\n",
    "\n",
    "keyword = input('입력할 키워드는 무엇인가요? : ')\n",
    "\n",
    "driver = webdriver.Chrome(path)\n",
    "driver.maximize_window() \n",
    "driver.get('https://korean.visitkorea.or.kr/main/main.do#home')\n",
    "driver.find_element_by_id('inp_search').send_keys(keyword)\n",
    "# driver.find_element_by_id('inp_search').send_keys(Keys.RETURN)\n",
    "driver.find_element_by_class_name('btn_search').click()\n",
    "\n",
    "time.sleep(2)\n",
    "\n",
    "wait = WebDriverWait(driver, 10)\n",
    "element = wait.until(EC.presence_of_element_located((By.CLASS_NAME, 'btn_last')))\n",
    "last_page = int(driver.find_element_by_class_name(\"btn_last\").get_attribute('id'))\n",
    "\n",
    "\n",
    "data_list = []\n",
    "\n",
    "# 다음페이지로 넘어가면서 정보를 저장\n",
    "for num in range(2, 5):\n",
    "    element = wait.until(EC.presence_of_element_located((By.CLASS_NAME,'btn_last')))\n",
    "    ul = driver.find_element_by_css_selector('ul.list_thumType') #ul 태그중 list_thumType 찾고 ul 변수에 저장\n",
    "    content_list = ul.find_elements_by_css_selector('li > div.area_txt') \n",
    "    \n",
    "    for content in content_list:\n",
    "        tit = content.find_element_by_class_name('tit').text\n",
    "        service = content.find_element_by_class_name('service').text\n",
    "        \n",
    "        try:\n",
    "            tag = content.find_element_by_class_name('tag_type').text\n",
    "        except:\n",
    "            tag = ''\n",
    "            \n",
    "        data = {'title':tit, 'service':service, 'tag':tag}\n",
    "        data_list.append(data)\n",
    "    \n",
    "    \n",
    "    driver.find_element_by_id(str(num)).click()\n",
    "    time.sleep(1)\n",
    "    \n",
    "\n",
    "    \n",
    "df = pd.DataFrame(data_list)\n",
    "print(df)\n",
    "df.to_csv('여행지.csv', encoding='euc-kr', index=False)"
   ]
  },
  {
   "cell_type": "markdown",
   "metadata": {},
   "source": [
    "## 기사 주소 불러오기"
   ]
  },
  {
   "cell_type": "code",
   "execution_count": 61,
   "metadata": {
    "scrolled": true
   },
   "outputs": [
    {
     "name": "stdin",
     "output_type": "stream",
     "text": [
      "입력할 키워드는 무엇인가요? :  여름여행\n"
     ]
    },
    {
     "name": "stdout",
     "output_type": "stream",
     "text": [
      "[{'title': '[문화관광축제] 포항국제불빛축제', 'location': '', 'date': '수정일 : 2021.03.04', 'like': '1', 'share': '99', 'view': '136.4K', 'content': '', 'editor': ''}, {'title': '한적한 여름휴가지로 추천!\\n시원한 강원도 여행지, 고성으로 떠나요~\\n고성 가볼 만한 곳', 'location': '강원 고성군', 'date': '2020.07.28', 'like': '41', 'share': '41', 'view': '5K', 'content': '요약보기\\n화암사\\n바우지움 조각미술관\\n테일커피\\n어느덧 한여름이 찾아왔습니다. 무더위에 지쳐 무기력해지기 쉬운 시기인데요. 여러분의 잠깐의 쉼을 위한 오늘의 여행지는 바로 강원도 고성! 보기만 해도 시원한 색감이 가득한 고성은 산과 바다가 어우러져 청량한 분위기가 매력적인 여행지입니다. \\n\\n그럼 지금부터 한적한 고성으로 여름나들이 떠나볼까요?\\n화암사\\n녹음이 우거진 산이 매력적인 고성 화암사! 화암사는 유구한 역사를 자랑하는 사찰로 신라 진표율사가 창건했으며 금강산의 최남단 사찰로도 알려져 있습니다.\\n듣는 것만으로 시원해지는 계곡 물소리를 따라 사찰로 향합니다. 시선을 뒤로 옮기면 우거진 숲 사이로 높이 솟아오른 수바위를 만나볼 수 있습니다. 웅장하고 우람한 수바위는 화암사의 보물이라고도 할 수 있는데요. 주변 풍경과 어우러져 절경을 만들어냅니다.\\n오색빛깔의 단청과 화려한 색감의 사찰은 그 자체로도 아름답습니다. 시원한 바람과 함께 절 주변을 거닐고 있으면 여름의 무더위는 어느새 사라지고 맙니다.\\n수바위 맞은 편에 위치한 전통찻집 란야원에서는 화암사의 절경을 바라보며 차 한 잔의 여유를 즐길 수 있습니다. 창 너머로 비치는 풍경이 마치 한 폭의 그림 같죠?\\n시원한 계곡 물소리와 산들산들 바람이 함께하는 사찰 화암사. 무더운 여름엔 고성 가볼만한곳, 화암사에서 더위를 날려보아요~!\\n※ 화암사\\n-위치: 강원도 고성군 토성면 화암사길 100\\n-란야원 운영시간: 9:00~18:00(시간변동 있음)\\n바우지움 조각미술관\\n이곳은 자연 속 미술관, 바우지움 조각미술관입니다. 김명숙 조각가의 작품 및 한국 근·현대 조각 작품들을 감상할 수 있는 곳으로 세 동으로 이루어진 갤러리와 다섯 가지 테마의 야외정원으로 구성되어 있습니다.\\n바위의 강원도 방언 ‘바우’와 ‘뮤지엄’이 합쳐져 만들어진 고성 가볼만한곳 바우지움 조각미술관은 그 이름처럼 울퉁불퉁한 돌로 이루어진 외관이 매력적인 미술관입니다.\\n여러 겹의 돌담 사이로 마련된 작은 정원과 곳곳의 조각작품들은 자연과 건축, 예술이 조화를 이루는 힐링 공간을 만들어주고 있습니다. 이처럼 바우지움의 작품들은 자연과 어우러져 각자의 개성을 뽐내고 있습니다.\\n바우지움미술관의 메인은 바로 물의 정원이 아닐까 싶은데요. 물의 정원은 좌우에 벽면이 서 있고, 바위 군락이 한 곳을 지킵니다. 시시각각 변하는 하늘과 계절에 따라 달라지는 주변풍경이 고스란히 수면에 담겨 있답니다. \\n※ 바우지움 조각미술관\\n-위치: 강원 고성군 토성면 원암온천3길 37\\n-운영시간: 10:00~18:00(입장마감 17:30) / 월요일 휴무\\n-입장료: 성인 9,000원 / 학생(초,중,고) 5,000원\\n-주의사항: 내부촬영 불가\\n테일커피\\n작은 어촌마을에 위치한 고성 가볼만한곳, 카페테일은 마치 시골 할머니 댁을 연상케 하는 외관이 매력적인 곳입니다. 외부에는 넓은 평상과 레트로풍의 거울이 내부에는 아기자기한 도자기와 아늑한 가구들로 장식되어 있습니다.\\n카페테일에서는 피크닉세트를 대여할 수 있는데요. 1인 8,000원을 지불하면 인근 해변에서 작은 피크닉을 즐길 수 있습니다. 원하는 모양의 바구니를 고르면, 그 안에 마들렌, 핸드드립 커피, 머그컵, 피크닉 돗자리를 담아줍니다. 음료는 변경이 가능하니 기호에 따라 원하는 음료를 선택하시면 됩니다.\\n\\n준비가 다 되었다면, 본격적으로 피크닉을 즐기기 위해 해변으로 나서봅니다.\\n※ 테일커피\\n-위치: 강원 고성군 죽왕면 가진길 40-5\\n-운영시간: 11:00~19:00 (수요일 휴무)\\n-대표메뉴 및 가격: 피크닉 세트 1인 8,000원 (이용시간 1시간 30분)\\n* 음료 변경 시 추가비용이 발생합니다.\\n가진해변\\n투명한 바다와 빛나는 해변이 매력적인 이곳은 가진 해변입니다. 테일 카페에서 걸어서 3분이면 닿을 수 있는 가진 해변은 크고 작은 바위들과 햇빛에 반짝이는 모래 해변이 바다와 어우러져 멋진 풍경을 자아낸답니다.\\n소박하고 아담한 규모의 가진 해변은 한적하고 조용한 분위기 속에서 휴식을 취하기에 적당한 곳입니다.\\n따스한 햇볕 아래 피크닉을 즐기며 본격적으로 바다를 감상해볼까요? \\n\\n맑고 투명한 바다를 바라보며 시원한 파도 소리를 듣고 있으면 일상속에서 받은 스트레스는 날아가고 상쾌한 공기가 마음을 채우는 듯합니다.\\n아늑하고 여유로운 분위기가 매력적인 고성 가볼만한곳, 가진해변에서 여름의 피크닉을 즐겨보세요! \\n※ 가진해변\\n-위치: 강원 고성군 죽왕면\\n출처 : 대한민국구석구석 SNS\\n글, 사진 : 트래블리더 12기 8팀 김윤수, 김예림, 김하정, 최민경\\n\\n※ 위 정보는 2020년 7월에 작성된 정보로, 이후 변경될 수 있으니 여행 하시기 전에 반드시 확인하시기 바랍니다.\\n※ 이 기사에 사용된 텍스트, 사진, 동영상 등의 정보는 한국관광공사가 저작권을 보유하고 있으므로 기사의 무단 사용을 금합니다.', 'editor': ''}, {'title': '내 기분 마치 비행기! 외국 갬성 폭발하는 국내여행지', 'location': '', 'date': '수정일 : 2020.07.23', 'like': '112', 'share': '278', 'view': '72.3K', 'content': '+ 다른 테마 여행이 궁금하다면?', 'editor': ''}, {'title': '[명예대표축제]보령머드축제', 'location': '', 'date': '수정일 : 2021.02.03', 'like': '5', 'share': '115', 'view': '160.9K', 'content': '', 'editor': ''}, {'title': '해운대 모래작품 전시회', 'location': '', 'date': '수정일 : 2020.04.10', 'like': '2', 'share': '117', 'view': '57.4K', 'content': '', 'editor': ''}, {'title': '[서울] 여름에 더 돋보이는 서울 여행자의 방', 'location': '서울', 'date': '2019.12.03', 'like': '0', 'share': '3', 'view': '1.2K', 'content': \"전통과 현대가 어우러진 메가시티 서울에서 \\n여름휴가를 보낼 숙소를 찾았다. \\n①세련된 한옥에 사는 '도련님과 아기씨'가 되고 싶다면, 혜화1938\\n아늑한 실내 모습\\n서울 명륜동에서 익선동을 거쳐 서촌까지, 일제강점기 조선 한복판에 한옥을 대량으로 지었다. 우리에게 익숙한 익선동 한옥과 북촌 한옥마을, 서촌의 한옥 등이 모두 당시에 지어진 것들이다. 이런 대규모 한옥 단지를 조성한 사람은 우리나라 최초의 부동산 개발업자로 알려진 정세권 선생. 그는 저렴한 한옥을 지어 일본인 거주지 확산을 막은 인물이다. 그러고 보니 종로 일대의 한옥은 대부분 비슷한 규모와 구조로 이루어져 있다는 게 눈에 들어온다. 혜화로터리에서 명륜동 방향으로 훌쩍 올라와서야 만나는 골목, 그 안에 혜화1938이 있다. 이 공간 역시 정세권 선생의 흔적이다. 몇 년 전만 해도 낡은 한옥에 불과했지만 한옥 공간 기획사 한옥사림의 김원천 대표가 새 생명을 불어넣었다. 대청을 낮추고 모던한 인테리어를 더해 주방과 거실로 꾸몄는데, 이 시대를 사는 사람의 생활 습관에 맞춘 선택이다.\\n청록색 인테리어\\n고무신과 타일\\n곳곳에 쓴 청록색이 세련미를 살렸다. 가구와 거실 천장에 달린 샹들리에까지 모두 손수 제작한 것이다. 가장 신경을 많이 쓴 공간은 파우더 룸. 한옥의 화장실도 이처럼 넓고 쾌적할 수 있다는 걸 보여 준다. 특히 욕조가 화룡점정이다. 덕분에 1930년대를 살았던 멋쟁이를 만날 것만 같은 공간이 됐다.\\n 위치 : 서울시 종로구 성균관로 16길 7\\n전화 : 02-765-8542\\n홈페이지 : www.hyehwa1938.com \\n②소박한 멋 넘치는 북촌 한옥을 꿈꾼다면, 게스트하우스 서울삼촌\\n처마가 아름다운 서울삼촌\\n소박한 내부 모습\\n계동 뒤편으로 난 길을 따라 북촌으로 걸어 올라가다 보면 한 번쯤 이런 곳에서 살아 보고 싶다는 생각이 드는 아름다운 풍광의 한옥마을이 나온다. 삐걱거리는 나무문 뒤로 아담한 중정이 보이고, 처마 쪽으로 따스한 햇살이 쏟아질 때쯤이면 대청마루에 앉아 나른한 오후를 만끽하고 싶은 충동이 인다. 게스트하우스 서울삼촌은 그런 마음을 해소하기 좋은 숙소다. 중정을 가운데 두고 둘러앉은 행랑채와 안채가 소박하다. 방마다 들어갈 수 있는 인원에 맞춰 1인용 방은 '도', 2인용은 '개', 3인용은 '걸', 4인용 방은 '윷'이라고 이름을 붙여 놓았다. 도, 개, 걸, 윷. 기발한 아이디어에 웃음이 나온다. \\n아름다운 북촌의 모습\\n반찬이 매일 바뀌는 조식\\n이곳의 원래 이름은 '모농끌 아 세울(Mon Oncle à Séoul)'. 프랑스어다. 그런데 주민센터 직원부터 옆집 아저씨까지 누구 하나 제대로 알아듣는 사람이 없어서 그냥 서울삼촌이라 부른다. 주인장인 김태형 씨와 이야기 몇 마디 나눠 보니 털털하고 위트 넘치는 성격이 정말 우리 삼촌같다. 그는 손님과 함께 북촌을 산책하고, 때론 한옥마을 가이드를 자청한다. 종로에서 안줏거리라도 사 오는 날에는 숙박하는 이 모두 모여 파티를 연다. 서울삼촌의 인기를 드높인 건 조식이다. 매일 반찬을 바꿔 가며 직접 준비하는데, 푸근한 정이 느껴진다. \\n주소 : 서울시 종로구 계동4길 15-3\\n문의 : 010-9753-5432\\n홈페이지 : www.facebook.com/mon.oncle.a.seoul\\n글 : 정태겸\\n사진 : 장은주\\n출처 : KTX매거진 2018년 8월호\\n\\n※위 정보는 2018년 8월에 작성된 정보로, 이후 변경될 수 있으니 여행 하시기 전에 반드시 확인하시기 바랍니다.\\n※이 기사에 사용된 텍스트, 사진, 동영상 등의 정보는 한국관광공사가 저작권을 보유하고 있으므로 기사의 무단 사용을 금합니다. \", 'editor': ''}, {'title': '[국내여행 버킷리스트 3탄] 올 여름엔 제주도 자전거 여행이다!', 'location': '제주', 'date': '2019.07.25', 'like': '15', 'share': '42', 'view': '7.6K', 'content': '\"삶이 마감될 때까지 여행은 계속된다.\"는 좌우명을 가진 40대 후반의 세종(가명) 씨. 그는 여름 휴가지를 제주도로 정했다. 제주도가 처음은 아니다. 그럼에도 망설이지 않고 제주도를 선택한 건 새로운 여행을 할 수 있을 거란 기대 때문이다. 세종 씨의 마음을 사로잡은 건 \\'제주환상 자전거길\\'이라 불리는 해안일주도로다.\\n바다와 벗하며 달리는 제주환상 자전거길\\n제주환상 자전거길은 교통량이 적은 해안도로를 따라 제주도를 자전거 타고 한 바퀴를 도는 코스다. 2015년 11월 개통되었다. 세종 씨는 자전거 여행을 선택한 이유에 대해 이렇게 말한다.\\n\"이전의 경험의 비추어 볼 때 여행을 즐겁게 할 수 있다고 생각했어요. 제주 올레를 걸을 때 자전거를 타고 여행하는 젊은 친구들을 심심찮게 봤어요. 그래서 나도 언젠가는 이런 여행을 하고 싶었고, 여행이 끝난 후에는 왠지 뿌듯한 마음이 들 것 같았어요.\"\\n비록 나이를 먹어 중년의 몸이 되었어도 마음은 늘 청춘이기에, 세종 씨는 제주도 자전거 여행에 도전하기로 했다.\\n자전거 여행은 제주도를 여행하는 새로운 도전이다\\n자전거 여행은 반시계 방향으로\\n세종 씨의 도전 코스는 용두암 인증센터에서 다락쉼터 인증센터까지 21km 구간이다. 제주환상 자전거길의 1코스다. 그의 선택에는 이유가 있다. 종주라는 거창한 계획을 한 번에 실행하면 좋겠지만, 그렇지 못할 가능성이 크기 때문이다. 마음처럼 몸이 따라주지 못할 걸 알기에 여러 번 시도해야 한다는 걸 안다. 그러자면 1코스부터 순서대로 도전하는 게 좋다고 판단했다. 그는 해안을 따라 제주도를 반시계 방향으로 돌 계획이다. 그래야 바다를 곁에 두고 마주보며 달릴 수 있어서다.\\n친구와 바다가 곁에 있어 외롭지 않다\\n동행할 동료 2명을 확보한 세종 씨. 자전거에 폼 나게 몸을 싣는다. 힘들 거라는 생각은 전혀 하지 않는다. 걷는 것 보다 쉬워보였으니까. \\'올레도 걸었는데, 자전거쯤이야\\', \\'자전거를 탈 줄만 알면 누구나 할 수 있어. 절대 힘들지 않아\\' 라는 생각으로 힘차게 페달을 밟는다. 제주환상 자전거길은 완만한 평지에 조성돼 있고, 길 찾기도 쉬워 초보자도 어렵지 않게 도전할 수 있다는 블로거들의 조언도 세종 씨에는 큰 위안이 됐다.\\n시작은 별로였다. 길이 어려운 것 아니다. 시내 구간이라 그런지 의외로 차량이 많아서 불편하다. 승용차도 다니고, 관광버스도 다닌다. 언제, 어디서 차가 다가올지 여간 신경 쓰이는 게 아니다. 세종 씨의 신경은 온통 자동차에 쏠렸다. 어떤 구간은 인도와 차로가 자전거길과 겹쳐 있기도 하다. 자전거 타랴, 경치 감상하랴, 안전에 주의하랴. 정신이 하나도 없다. 유유자적한 자전거 여행을 꿈꾸던 세종 씨의 기대는 물거품이 되는 듯하다.\\n풍경을 즐기며 유유자적 달리는 길\\n하귀2리까지 안전에 신경 쓰며 달리니 재미가 있을 리 만무하다. 바다가 곁에 있어도 즐길 여유가 없다. 슬슬 짜증이 날 무렵, 세종 씨에게 반가움이 찾아든다. 하귀2리 봉천2교 건너서 우측의 애월해안로로 접어드니 바라던 라이딩이 시작된 것. 지나는 사람도, 차량도 거의 없다. 길도 평탄하다. 잠시 가문동길로 들어서니 바다가 곁에 바짝 다가온다. 그제야 잠시 자전거를 세워두고 바다를 감상할 여유도 생긴다. 하늘은 파랗고, 바다는 한없이 맑고 투명하다. 세종 씨는 \\'이게 제주도지, 자전거 타길 정말 잘했어\\' 하며 풍경을 즐긴다.\\n지나는 사람도, 차량도 거의 없는 라이더의 세상이다\\n1코스의 백미 애월읍 해안도로\\n애월읍 해안도로(약 10.7㎞) 구간은 바다를 붉게 물들이는 석양이 멋지기로 유명하다.\\n함께 해서 더욱 즐거운 자전거 여행\\n그러나 구걸리~고내리 구간에는 언덕이 많아 제주환상 자전거길 중에선 가장 난코스로 꼽힌다. 그 사실을 알 리 없는 세종 씨는 마냥 행복하다. 앞으로 자신 앞에 펼쳐질 길이 계속 지금과 같을 거라는 생각에.\\n자전거전용도로가 있어 편리하다\\n다시 가문동길에서 애월해안로로 돌아와 달린다. 잘 포장된 도로에 자전거전용도로가 별도로 마련되어 있다. 바다도 곁에서 떨어지지 않는다. 맘껏 속도를 내도 좋은 길이건만. 세종 씨는 속도를 내지 않는다. 달리는 것에 집중해서 바다 풍경을 감상하는 걸 놓치기 싫어서다.\\n세상을 붉게 물들이는 석양\\n잘 달리던 동료에게 시련이 닥쳐왔다. 오르막이 나타난 것이다. 다리에 힘을 주어 천천히 길을 오른다. 문제는 오르막이 하나가 아니라는 점이다. 하나를 넘고 나니 또 하나가 나타난다. 힘겹게 넘으면 또 오르막이 보인다. 쳐다보는 것만으로도 현기증이 나고, 한숨이 나온다.\\n\\'어떻게 하지. 갈 수 있을까\\' 하는 걱정이 서서히 피어오른다. 아니나 다를까. 평지에서 쌩쌩 달리던 자전거가 오르막을 만나니 속도가 한없이 느려진다. 페달을 밟는 횟수가 적어지니 속도가 떨어지는 것은 당연지사. 숨은 턱까지 차오르고. 일행보다 뒤처지기 시작한다. 힘들 때마다 기아를 변속해도 속도는 나지 않는다. 힘들기는 마찬가지다.\\n함께 라이딩 하던 동료가 답답했던지 한 마디 던진다. \"기어 변속의 핵심은 속도를 유지 하는 거예요. 언덕에서도 속도를 유지할 수 있도록 미리 변속해야 합니다.\"\\n평지에서 15km 속도로 달렸다면, 언덕 오르기 전에 속도를 유지할 수 있도록 미리 기어 변속하라는 의미다. 문제는 머리로는 이해를 하지만, 언제 기어 변속을 해야 하는지 당최 알 수가 없다. \\'그래서 언제 변속을 하라고?\\'\\n오르막은 언제나 힘들다\\n세종 씨는 헉헉거리며 오르막을 달리면서 깨달았다. 자신이 자전거를 탈 줄 모르는 사람이었다는 것을. 제주도 자전거 일주가 결코 쉬운 게 아니라는 것을. 결국 내려서 자전거를 끌고 올라간다. 힘들 땐 잠시 걸으며 해안절벽 너머로 펼쳐진 바다 풍경을 느긋하게 감상하는 것도 여행의 즐거움이라 위로를 하면서.\\n자전거길은 자연이 우리에게 준 선물이다\\n일행은 시야에서 사라진 지 오래다. \\'이 외로움, 무거움을 들고 어디까지 따라가야 하는 가.\\' 생각하며 자전거를 끌며 터벅터벅 걷는다. 이 와중에도 여름빛 받아 반짝이는 바다가 눈에 들어온다. 환상적인 바다 빛을 본다면 그 바다의 황홀한 빛깔은 영원히 머릿속에서 지워지지 않는다. 너무 황홀한 풍경에 문득 고대 그리스의 철학자 플라톤이 한 말이 생각난다.\\n\"모든 사물은 자연 또는 인간의 기술에 의해 창조되는데, 가장 위대하고 아름다운 것은 자연에서 창조되며, 가장 보잘것없고 불완전한 것은 인간의 기술로 만들어진다.\"\\n힘들 땐 해안절벽 위에서 휴식을 취하자\\n아직까지 제주도의 최대 볼거리는 자연이다. 비록 사람들이 자연의 아름다움에 인위적인 기교를 가하기는 했지만, 자연이 발하는 순수한 빛을 가리기에는 역부족일 정도로 그 빛이 매우 풍요롭다. 시간이 흐르면 흐를수록 그 속에 세월의 무게를 담아 더욱 진중한 멋을 내는 자연. 세종 씨는 자연의 위대함에 감탄하며 감사의 마음을 전한다. 한 해 한 해 이어서 하늘도 담고 구름도 담아서 산과 나무, 바람을 섞어서 그 모습 그대로 흘러가도록.\\n아름다운 바다와 함께 하는 길\\n다시 조심스레 페달을 밟는다. 얼어붙은 강 위를 걸어가듯 천천히 달린다. 혼자여서 외롭고, 힘들지만 마음은 흔들리지 않는다. 아무리 달려도, 끝없는 새벽길을 만나도 두렵지 않다. 그 길을 함께 하는 친구가 있기에. 제주의 바다는 나와 우리라는 이름으로 함께 한다. 그 시간은 언제, 어디서 만나도 빛나는 아침의 햇살 같다.\\n다람쉼터 인증센터\\n드디어 목적지인 다락쉼터 인증센터가 보인다. 일행은 먼저 도착해서 휴식 중이다. 목적지 도착한 세종 씨는 서둘러 증거를 남긴다. 인증수첩을 펼쳐 도장을 찍는다. 라이딩을 할 때 힘들었던 기억은 인증 도장을 찍으면서 저 멀리 사라진다. 해냈다는 성취감이 그 자리를 대신한다.\\n인증수첩에 도장을 찍어가며 자전거 일주를 한다\\n비록 제주도 일주 구간의 한 구간을 달렸지만, 언젠가는 240km 완주를 계획하는 세종 씨. 그는 말한다. \"자전거 여행은 도전이 아니다. 자연을, 시간을 즐기는 것\"이라고. \"자연의 부름에 응할 수 있어서 행복하다.\"고.\\n비록 짧은 시간, 짧은 거리를 경험한 자전거 여행이었지만, 그 추억은 언제나 가슴에 남아 있을 것이다. 그리고 잠깐 사이에 흘러가 버린 시간이 선물한 추억을 되새기며 다른 추억을 만들기 위해 여행길에 나설 것이다. 시간이 가면 언젠가는 제주도도 변할 테지만, 분명한 사실은 제주도는 변해도 여행자는 언제나 찾아올 거라는 점이다.\\n자전거 여행은 자연을 즐기는 여행이다\\n<제주환상 자전거길>\\n인증센터를 중심으로 10개의 코스가 개발되어 있다. 길이는 240km다. 하루에 70~80km를 달리면 2박 3일 또는 3박 4일 일정이면 가능하다. 30km를 달려도 7~8일이면 된다. 실력이 없어도 크게 상관이 없으나, 욕심은 부리지 말아야 한다. 천천히 가도 정해진 일정에서 이동하는 것이 중요하다. 숙소는 동선에 맞춰 미리 선택한다.\\n<자전거 요령>\\n- 기본적인 안전장비는 필수. 헬멧, 장갑, 무릎․팔꿈치 보호대 등은 안전 라이딩을 위해 갖춰야 한다.\\n- 더위와 복사열, 햇빛 노출에 대비해 긴 팔 옷이나 고글, 선블럭 등을 준비한다.\\n- 타이어 펑크 등 간단한 고장 시 정비할 수 있는 수리 킷, 예비 튜브를 준비한다. 혼자 할 수 없다면 수리점 연락처를 확인해 둔다.\\n- 야간 주행 시 전조등과 테일 라이트 등은 필수\\n- 브레이크 좌우 방향 및 변속기 조작법을 숙지한다.\\n- 안장은 발끝이 땅에 닿는 높이가 적당하다.\\n- 장시간 자전거를 타야하므로 기능성 의류를 준비하는 것도 도움이 된다.\\n글 : 오주환(여행 작가)\\n사진 : 조혜원(여행 작가)\\n\\n※ 위 정보는 2019년 7월에 갱신된 정보로, 이후 변경될 수 있으니 여행 하시기 전에 반드시 확인하시기 바랍니다.\\n※ 이 기사에 사용된 텍스트, 사진, 동영상 등의 정보는 한국관광공사가 저작권을 보유하고 있으므로 기사의 무단 사용을 금합니다.', 'editor': ''}, {'title': '한국관광공사 추천 6월 걷기여행길, 싱그러운 초여름 날씨와 어울리는 길', 'location': '강원 철원군', 'date': '2019.06.20', 'like': '13', 'share': '50', 'view': '8.4K', 'content': \"문화체육관광부와 한국관광공사는 매월 각 지역별 여행하기 좋은 걷기여행길을 선정한다. 6월은 24절기 중 낮이 가장 긴 하지가 있는 달로 초여름의 정취를 물씬 느낄 수 있는 계절이기도 하다. 6월 추천하는 걷기여행길은 싱그러운 초여름 날씨와 어울리는 길로 총 7곳이 선정되었다. 풀내음과 초여름 향기 가득한 바람을 맞으며 걸어보자. 이달의 추천 길로 선정된 길은 ‘두루누비(durunubi.kr/)’에서 자세한 정보를 확인할 수 있다.\\n1. 한여울길 05코스 소이산 생태숲 녹색길 (강원 철원)\\n한국전쟁과 분단의 상흔을 고스란히 간직한 옛 철원 노동당사에서 시작하는 한여울길 05코스는 4.8km의 짧은 길이지만, 가족 단위 여행객도 가볍게 오를 수 있는 소이산 산책로를 비롯해 생태숲길·지뢰꽃길 등 다채로운 모습이 펼쳐진다.\\n특히 모내기를 마친 철원평야의 논과 짙은 녹색 라인을 형성하는 DMZ, 북녘 땅까지 훤히 내려다 보이는 소이산 정상은 천혜의 전망대다.\\n철책을 따라 ‘지뢰’ 이정표와 수많은 야생화가 조화를 이룬 지뢰꽃길은 ‘세상에 없는’ 산책로다.\\n코스경로 : 소이산입구 ~ 지뢰꽃길 ~ 생태숲길 ~ 봉수대오름길\\nㅇ 거리 : 4.8km\\nㅇ 소요시간 : 1시간 30분\\nㅇ 난이도 : 보통\\nㅇ 문의 : 철원군청 관광과 관광휴양운영 033-450-5724 자세히보기\\n2. 강동사랑길 03코스 (울산 북구)\\n강동사랑길은 울산광역시 북구 강동동의 해변과 높지 않은 산에 조성해 놓은 길이다.\\n모두 7개 구간으로 조성되어 있다. 그 중에서 3구간 연인의 사랑길은 제전마을 뒷산인 옥녀봉 산길을 돌아내려오게 된다. 3구간 연인의 사랑길 시·종점은 옛 장어마을의 영광을 위해서 애쓰고 있는 제전마을의 제전포구다. 산으로 올랐다 내려오는 길이지만 고도가 급격하게 높아지지도 않고 험한 길도 없어 산책을 겸한 걷기에 적당한 길이다.\\n80% 이상을 기분 좋은 숲길로 걸을 수 있어서 한 여름 가족단위로 걷기에도 괜찮을 길이다. 노선상의 일심전망대와 옥녀봉에서는 푸른 동해의 모습을 즐길 수 있다.\\nㅇ 코스경로 : 제전항 ~ 일심전망대 ~ 옥녀봉 ~ 제전항\\nㅇ 거리 : 4.7km\\nㅇ 소요시간 : 2시간 10분\\nㅇ 난이도 : 보통\\nㅇ 문의 : 울산 북구 관광해양개발과 052-241-7743 자세히보기\\n3. 중원문화길 01코스 생태탐방길 (충북 충주)\\n탄금대에서 충주자연생태체험관을 잇는 충주 중원문화길 1코스 생태탐방길은 남한강을 옆에 두고 보면서 물길을 거슬러 오르는 약 7.8km 코스다. 출발지점인 탄금대는 신라시대 우륵이 가야금을 타던 곳이자 조선시대 임진왜란 때 신립 장군이 배수진을 치고 적과 싸우다 전사한 곳이다. 오래 전 어느 날 남한강에 내려앉은 가야금 소리 위에 나라를 위해 죽어간 팔천 전사의 넋이 물결과 함께 출렁인다.\\n도착지점인 충주자연생태체험관은 자연생태에 대해 알아보고 체험할 수 있는 곳이다. 생태전시실, 작은동물원, 앵무새놀이터, 하늘정원(옥상정원) 등으로 되어있다.\\nㅇ 코스경로 : 자연생태체험관 ~ 수행교 ~ 자전거도로 ~ 세계무술공원 ~ 탄금대\\nㅇ 거리 : 7.84km\\nㅇ 소요시간 : 2시간\\nㅇ 난이도 : 보통\\nㅇ 문의 : 충주시 관광과 043-850-6732 자세히보기\\n4. 갈맷길 05-02코스 (부산 강서)\\n갈맷길 05-02코스는 부산의 최남단 가덕도의 명소들을 두루 거치는 걷기길이다. 평온한 분위기의 내해인 눌차만과 연대봉에서의 가없는 바다조망, 어음포와 누릉능을 잇는 해안코스의 절경에 해당화 고운 동선방조제의 독특한 풍광도 압권이다.\\n할머니신을 모신 눌차도 국수당도 빼놓을 수 없는 볼거리다. 정거마을의 아름다운 벽화는 전국에서 손꼽을 만한 수준을 자랑한다.\\n20km가 넘는 거리며, 연대봉과 그 자락을 타고 넘는 구간이 결코 만만하지 않아 체력과 장비, 간식, 물 같은 준비물을 잘 챙겨야 한다. 가능하면 대항새바지를 중심으로 두 구간으로 나눠 걷기를 추천한다.\\nㅇ 코스경로 : 천가교 ~ 천가초등학교 ~ 소양보육원 ~ 연대봉 ~ 대항선착장 ~ 대항새바지 ~ 어음포 ~ 동선방조제 ~ 정거생태마을 ~ 천가교\\nㅇ 거리 : 20.1km\\nㅇ 소요시간 : 7시간\\nㅇ 난이도 : 매우 어려움\\nㅇ 문의 : 부산광역시 자치행정과 051-888-3541~5 자세히보기\\n5. 저도 비치로드 (경남 창원)\\n'저도'는 마산합포구 남쪽에 위치한 섬으로 마산이 창원과 통합되기 전, 옛 마산시의 9경으로 선정될 정도로 아름다운 풍광을 자랑하는 섬이다.\\n저도 비치로드는 섬에 조성된 6.5km의 해안길로 특히 제2전망대부터 시작되는 해안 데크가 압권이다. 섬 가장자리를 따라 완벽하게 조성된 나무 데크는 바다 풍경 못지않게 감탄스러우며 데크를 따라 걷다 보면 왼편으론 바다와 기암괴석이, 오른편으론 해안 절벽과 삼림이 나타나 길동무가 되어준다.\\n섬 중앙에 우뚝 솟은 용두산까지 오를 수 있기에 바닷길은 물론 산길과 숲길까지 즐길 수 있는 저도 비치로드는 창원 남쪽 끝자락에 숨겨진 보물과도 같은 걷기길이다.\\nㅇ 코스경로 : 저도출발점 ~ 제1전망대 ~ 제2전망대~ 용두산정상갈림길 ~ 하포주차장\\nㅇ 거리 : 6.5km\\nㅇ 소요시간 : 3시간\\nㅇ 난이도 : 보통\\nㅇ 문의 : 창원시청 관광과 055-225-3705 자세히보기\\n6. 대청호반길 01코스 금강로하스 해피로드 (대전 대덕)\\n금강로하스 해피로드는 대청호와 대청호에서 다시 유장한 곡선을 그리며 흐르는 금강을 여유롭게 즐길 수 있는 데크 산책로다.\\n산책로 주변에는 울창한 숲이 있고, 시종일관 강물을 끼고 걷기에 풍광이 수려하다. 금강로하스 해피로드는 금강로하스 대청공원을 중심으로 오른쪽 대청댐 일대와 왼쪽 금강을 따르는 금강로하스길로 나눌 수 있다.\\n대청댐에 올라 조망하는 대청호는 웅장하고, 금강로하스길은 부드럽고 평화롭다. 금강로하스 해피로드는 대청호오백리길 21구간 대청 로하스길과 일부 구간을 공유한다.\\nㅇ 코스경로 : 대청문화전시관 ~ 하류반환점 ~ 대청문화전시관 ~ 대청교 ~ 휴게소 ~ 댐수문 끝 ~ 호반산책로 ~ 물홍보관 ~ 주차장\\nㅇ 거리 : 6km\\nㅇ 소요시간 : 1시간\\nㅇ 난이도 : 쉬움\\nㅇ 문의 : 대전광역시 공원녹지과 042-270-5583\\n대덕구청 공원녹지과 042-608-5161~3 자세히보기\\n7. 해남 달마고도 (전남 해남)\\n해남 달마고도는 남쪽의 금강산이라 불리는 달마산을 한 바퀴 둘러 걷는 길이다. 인도 남방불교 전래설화가 있는 미황사를 출발하여 약 17km를 걸으면 환형으로 돌아온다. 바다와 산이 조화를 이루는 수려한 자연경관과 더불어 모든 길을 곡괭이, 삽, 호미 등을 이용해 사람의 힘으로만 닦아냈다는 특징을 지닌다. 주변 돌을 채취해서 쌓은 석축 위로 놓인 길이 감동적이다.\\nㅇ 코스경로 : 1코스(미황사-암자터-큰바람재) ~ 2코스(큰바람재-노지랑골사거리) ~ 3코스(노지랑골사거리-몰고리재) ~ 4코스(몰고리재-인길-미황사)\\nㅇ 거리 : 17.74km\\nㅇ 소요시간 : 6시간\\nㅇ 난이도 : 쉬움\\nㅇ 문의 : 해남군청 문화관광과 (061)530-5915 자세히보기\\n\\n출처 : 한국관광공사 레저관광팀\\n\\n※ 위 정보는 2018년 5월에 작성된 정보로, 이후 변경될 수 있으니 여행 하시기 전에 반드시 확인하시기 바랍니다.\\n※ 이 기사에 사용된 텍스트, 사진, 동영상 등의 정보는 한국관광공사가 저작권을 보유하고 있으므로 기사의 무단 사용을 금합니다.\", 'editor': ''}, {'title': '', 'location': '', 'date': '', 'like': '', 'share': '435', 'view': '136K', 'content': '전체\\n서울\\n부산\\n대구\\n인천\\n광주\\n대전\\n울산\\n경기도\\n강원도\\n충청남도\\n충청북도\\n전라남도\\n전라북도\\n경상남도\\n경상북도\\n세종\\n제주도\\n서울\\n밤도깨비 야시장\\n1', 'editor': ''}, {'title': '2020 대한민국 구석구석 안전한 여름휴가를 부탁해!', 'location': '', 'date': '수정일 : 2020.07.30', 'like': '122', 'share': '154', 'view': '61.5K', 'content': '', 'editor': ''}, {'title': '지친 일상을 치유할 언택트 힐링여행지!\\n2020 휴가철 찾아가고 싶은 33섬', 'location': '전국', 'date': '2020.06.26', 'like': '119', 'share': '371', 'view': '141.4K', 'content': '+ 다른 테마 여행이 궁금하다면?', 'editor': ''}, {'title': '', 'location': '', 'date': '', 'like': '', 'share': '', 'view': '', 'content': '', 'editor': ''}, {'title': '', 'location': '', 'date': '', 'like': '', 'share': '', 'view': '', 'content': '', 'editor': ''}, {'title': '', 'location': '', 'date': '', 'like': '', 'share': '', 'view': '', 'content': '', 'editor': ''}, {'title': '', 'location': '', 'date': '', 'like': '', 'share': '', 'view': '', 'content': '', 'editor': ''}, {'title': '', 'location': '', 'date': '', 'like': '', 'share': '', 'view': '', 'content': '', 'editor': ''}, {'title': '', 'location': '', 'date': '', 'like': '', 'share': '', 'view': '', 'content': '', 'editor': ''}, {'title': '', 'location': '', 'date': '', 'like': '', 'share': '', 'view': '', 'content': '', 'editor': ''}, {'title': '', 'location': '', 'date': '', 'like': '', 'share': '', 'view': '', 'content': '', 'editor': ''}, {'title': '', 'location': '', 'date': '', 'like': '', 'share': '', 'view': '', 'content': '', 'editor': ''}]\n"
     ]
    }
   ],
   "source": [
    "from selenium import webdriver\n",
    "from selenium.webdriver.common.keys import Keys\n",
    "import time\n",
    "import pandas as pd\n",
    "from selenium.webdriver.support.ui import WebDriverWait #특정조건을 기다린 뒤 만족하면 넘어가는 기능을 사용하기 위해 사용 (인터넷속도, 사용자이용급증)\n",
    "from selenium.webdriver.support import expected_conditions as EC\n",
    "from selenium.webdriver.common.by import By\n",
    "\n",
    "path = '/Users/donguri/Workspace/데이터청년캠퍼스/wc/chromedriver'\n",
    "\n",
    "keyword = input('입력할 키워드는 무엇인가요? : ')\n",
    "\n",
    "driver = webdriver.Chrome(path)\n",
    "driver.maximize_window() \n",
    "driver.get('https://korean.visitkorea.or.kr/main/main.do#home')\n",
    "driver.find_element_by_id('inp_search').send_keys(keyword)\n",
    "# driver.find_element_by_id('inp_search').send_keys(Keys.RETURN)\n",
    "driver.find_element_by_class_name('btn_search').click()\n",
    "\n",
    "time.sleep(2)\n",
    "\n",
    "wait = WebDriverWait(driver, 10)\n",
    "element = wait.until(EC.presence_of_element_located((By.CLASS_NAME, 'btn_last')))\n",
    "last_page = int(driver.find_element_by_class_name(\"btn_last\").get_attribute('id'))\n",
    "\n",
    "\n",
    "data_list = []\n",
    "url_list = []\n",
    "# 다음페이지로 넘어가면서 정보를 저장\n",
    "for num in range(2, 5):\n",
    "    element = wait.until(EC.presence_of_element_located((By.CLASS_NAME,'btn_last')))\n",
    "    ul = driver.find_element_by_css_selector('ul.list_thumType') #ul 태그중 list_thumType 찾고 ul 변수에 저장\n",
    "    content_list = ul.find_elements_by_css_selector('li > div.area_txt') \n",
    "    \n",
    "    for content in content_list:\n",
    "        url  = content.find_element_by_css_selector('div.tit > a').get_attribute('href')\n",
    "        base_url = 'https://korean.visitkorea.or.kr/detail/rem_detail.do?cotid='\n",
    "        article_url = url.split('\\'')[1]\n",
    "        final_url = base_url + article_url\n",
    "        url_list.append(final_url)\n",
    "        \n",
    "                            \n",
    "    driver.find_element_by_id(str(num)).click()\n",
    "    time.sleep(1)\n",
    "    \n",
    "    \n",
    "article_list = []\n",
    "url_list = list(set(url_list))\n",
    "for url in url_list:\n",
    "    driver.get(url)\n",
    "    title = driver.find_element_by_id('topTitle').text\n",
    "    topAddr = driver.find_element_by_id('topAddr').text\n",
    "    \n",
    "    try:\n",
    "        location = topAddr.split('\\n')[0]\n",
    "        #date = topAddr.split('\\n')[1].replace('수정일 : ', '')\n",
    "        date = topAddr.split('\\n')[1].split(':')[1].strip()\n",
    "    except:\n",
    "        location = ''\n",
    "        date = topAddr.split('\\n')[0]\n",
    "        \n",
    "    like = driver.find_element_by_id('conLike').text\n",
    "    share = driver.find_element_by_id('conShare').text\n",
    "    view = driver.find_element_by_id('conRead').text\n",
    "    content_list = driver.find_elements_by_class_name('wrap_contView')\n",
    "    content = content_list[0].text\n",
    "    \n",
    "    try:\n",
    "        editor = content_list[1].find_element_by_css_selector('div.pictureInfo > p.txt_name').text\n",
    "        editor = editor.split(':')[1].strip()\n",
    "    except:\n",
    "        try:\n",
    "            last_txt = content_list[0].find_elements_by_css_selector('div.txt_p')[-1].text\n",
    "            if '글, 사진 : ' in last_txt:   \n",
    "                editor = last_txt.split('글, 사진 : ')[1].split('\\n')[0]\n",
    "            elif '글 : ' in last_txt:\n",
    "                editor = last_txt.split('글 : ')[1]\n",
    "        except:\n",
    "            editor = ''\n",
    "                \n",
    "    data = {'title' : title, 'location' : location, 'date' : date, 'like': like, \n",
    "        'share' : share, 'view' : view, 'content' : content, 'editor': editor}\n",
    "    \n",
    "    article_list.append(data)\n",
    "    \n",
    "print(article_list)"
   ]
  },
  {
   "cell_type": "code",
   "execution_count": 59,
   "metadata": {},
   "outputs": [
    {
     "ename": "IndexError",
     "evalue": "list index out of range",
     "output_type": "error",
     "traceback": [
      "\u001b[0;31m---------------------------------------------------------------------------\u001b[0m",
      "\u001b[0;31mIndexError\u001b[0m                                Traceback (most recent call last)",
      "\u001b[0;32m<ipython-input-59-9091b3d4542b>\u001b[0m in \u001b[0;36m<module>\u001b[0;34m\u001b[0m\n\u001b[1;32m     35\u001b[0m \u001b[0mlocation\u001b[0m \u001b[0;34m=\u001b[0m \u001b[0mtopAddr\u001b[0m\u001b[0;34m.\u001b[0m\u001b[0msplit\u001b[0m\u001b[0;34m(\u001b[0m\u001b[0;34m'\\n'\u001b[0m\u001b[0;34m)\u001b[0m\u001b[0;34m[\u001b[0m\u001b[0;36m0\u001b[0m\u001b[0;34m]\u001b[0m\u001b[0;34m\u001b[0m\u001b[0;34m\u001b[0m\u001b[0m\n\u001b[1;32m     36\u001b[0m \u001b[0;31m#date = topAddr.split('\\n')[1].replace('수정일 : ', '')\u001b[0m\u001b[0;34m\u001b[0m\u001b[0;34m\u001b[0m\u001b[0;34m\u001b[0m\u001b[0m\n\u001b[0;32m---> 37\u001b[0;31m \u001b[0mdate\u001b[0m \u001b[0;34m=\u001b[0m \u001b[0mtopAddr\u001b[0m\u001b[0;34m.\u001b[0m\u001b[0msplit\u001b[0m\u001b[0;34m(\u001b[0m\u001b[0;34m'\\n'\u001b[0m\u001b[0;34m)\u001b[0m\u001b[0;34m[\u001b[0m\u001b[0;36m1\u001b[0m\u001b[0;34m]\u001b[0m\u001b[0;34m.\u001b[0m\u001b[0msplit\u001b[0m\u001b[0;34m(\u001b[0m\u001b[0;34m':'\u001b[0m\u001b[0;34m)\u001b[0m\u001b[0;34m[\u001b[0m\u001b[0;36m1\u001b[0m\u001b[0;34m]\u001b[0m\u001b[0;34m.\u001b[0m\u001b[0mstrip\u001b[0m\u001b[0;34m(\u001b[0m\u001b[0;34m)\u001b[0m\u001b[0;34m\u001b[0m\u001b[0;34m\u001b[0m\u001b[0m\n\u001b[0m\u001b[1;32m     38\u001b[0m \u001b[0mlike\u001b[0m \u001b[0;34m=\u001b[0m \u001b[0mdriver\u001b[0m\u001b[0;34m.\u001b[0m\u001b[0mfind_element_by_id\u001b[0m\u001b[0;34m(\u001b[0m\u001b[0;34m'conLike'\u001b[0m\u001b[0;34m)\u001b[0m\u001b[0;34m.\u001b[0m\u001b[0mtext\u001b[0m\u001b[0;34m\u001b[0m\u001b[0;34m\u001b[0m\u001b[0m\n\u001b[1;32m     39\u001b[0m \u001b[0mshare\u001b[0m \u001b[0;34m=\u001b[0m \u001b[0mdriver\u001b[0m\u001b[0;34m.\u001b[0m\u001b[0mfind_element_by_id\u001b[0m\u001b[0;34m(\u001b[0m\u001b[0;34m'conShare'\u001b[0m\u001b[0;34m)\u001b[0m\u001b[0;34m.\u001b[0m\u001b[0mtext\u001b[0m\u001b[0;34m\u001b[0m\u001b[0;34m\u001b[0m\u001b[0m\n",
      "\u001b[0;31mIndexError\u001b[0m: list index out of range"
     ]
    }
   ],
   "source": [
    "from selenium import webdriver\n",
    "from selenium.webdriver.common.keys import Keys\n",
    "import time\n",
    "import pandas as pd\n",
    "from selenium.webdriver.support.ui import WebDriverWait #특정조건을 기다린 뒤 만족하면 넘어가는 기능을 사용하기 위해 사용 (인터넷속도, 사용자이용급증)\n",
    "from selenium.webdriver.support import expected_conditions as EC\n",
    "from selenium.webdriver.common.by import By\n",
    "\n",
    "path = '/Users/donguri/Workspace/데이터청년캠퍼스/wc/chromedriver'\n",
    "\n",
    "\n",
    "driver = webdriver.Chrome(path)\n",
    "driver.maximize_window() \n",
    "driver.get('https://korean.visitkorea.or.kr/detail/rem_detail.do?cotid=ad86f4b4-6549-4da8-bf5c-0de3eb86f16a&con_type=11300')\n",
    "\n",
    "ul = driver.find_element_by_id('contents')\n",
    "\n",
    "\n",
    "# title = driver.find_element_by_id('topTitle').text\n",
    "# topAddr = driver.find_element_by_id('topAddr').text\n",
    "# location = topAddr.split('\\n')[0]\n",
    "# date = topAddr.split('\\n')[1].split(':')[1].strip()\n",
    "# like = driver.find_element_by_id('conLike').text\n",
    "# share = driver.find_element_by_id('conShare').text\n",
    "# view = driver.find_element_by_id('conRead').text\n",
    "# content_list = driver.find_element_by_class_name('wrap_contView')\n",
    "# content = content_list[0].text\n",
    "# editor = content_list[1].find_element_by_css_selector('div.picture > p.txt_name').text\n",
    "# editor = editor.split(':')[1].strip()\n",
    "# data = {'title':title, 'location':location, 'date':date, 'like':like, 'share':share, 'view':view, 'content':content, 'editor':editor}\n",
    "\n",
    "\n",
    "title = driver.find_element_by_id('topTitle').text\n",
    "topAddr = driver.find_element_by_id('topAddr').text\n",
    "location = topAddr.split('\\n')[0]\n",
    "#date = topAddr.split('\\n')[1].replace('수정일 : ', '')\n",
    "date = topAddr.split('\\n')[1].split(':')[1].strip()\n",
    "like = driver.find_element_by_id('conLike').text\n",
    "share = driver.find_element_by_id('conShare').text\n",
    "view = driver.find_element_by_id('conRead').text\n",
    "content_list = driver.find_elements_by_class_name('wrap_contView')\n",
    "content = content_list[0].text\n",
    "editor = content_list[1].find_element_by_css_selector('div.pictureInfo > p.txt_name').text\n",
    "editor = editor.split(':')[1].strip()\n",
    "data = {'title' : title, 'location' : location, 'date' : date, 'like': like, \n",
    "        'share' : share, 'view' : view, 'content' : content, 'editor': editor}\n",
    "print(data)\n",
    "\n",
    "print(data)"
   ]
  },
  {
   "cell_type": "markdown",
   "metadata": {},
   "source": [
    "# 네이버 view 크롤링"
   ]
  },
  {
   "cell_type": "code",
   "execution_count": null,
   "metadata": {},
   "outputs": [],
   "source": [
    "from selenium import webdriver\n",
    "from selenium.webdriver.common.keys import Keys\n",
    "import time\n",
    "path = '/Users/donguri/Workspace/데이터청년캠퍼스/wc/chromedriver'\n",
    "keyword = input('크롤링할 키워드는 무엇입니까? : ')\n",
    "driver = webdriver.Chrome(path)\n",
    "driver.maximize_window()\n",
    "driver.get('https://www.naver.com')\n",
    "driver.find_element_by_id('query').send_keys(keyword)\n",
    "driver.find_element_by_id('search_btn').click()\n",
    "time.sleep(2)\n",
    "tab = driver.find_element_by_css_selector('div.lnb_menu > ul.base')\n",
    "'''\n",
    "tab_list = tab.find_elements_by_css_selector('li')\n",
    "for tab in tab_list:\n",
    "    if tab.text=='VIEW':\n",
    "        tab.click()\n",
    "        break\n",
    "'''\n",
    "view_tab = tab.find_elements_by_css_selector('li')[1].click()\n",
    "time.sleep(2)\n",
    "main_pack = driver.find_element_by_id('main_pack')\n",
    "subject_list = main_pack.find_element_by_class_name('api_subject_bx')\n",
    "content_list = subject_list.find_element_by_class_name('_list')\n",
    "data_list = content_list.find_elements_by_css_selector('panel-list > div')\n",
    "for data in data_list:\n",
    "    print(data.text)"
   ]
  },
  {
   "cell_type": "markdown",
   "metadata": {},
   "source": [
    "# 구글"
   ]
  },
  {
   "cell_type": "code",
   "execution_count": 42,
   "metadata": {},
   "outputs": [
    {
     "name": "stdin",
     "output_type": "stream",
     "text": [
      "입력할 키워드는 무엇인가요? :  여름여행\n"
     ]
    },
    {
     "ename": "NameError",
     "evalue": "name 'TimeoutException' is not defined",
     "output_type": "error",
     "traceback": [
      "\u001b[0;31m---------------------------------------------------------------------------\u001b[0m",
      "\u001b[0;31mNoSuchWindowException\u001b[0m                     Traceback (most recent call last)",
      "\u001b[0;32m<ipython-input-42-f5e6384124e6>\u001b[0m in \u001b[0;36m<module>\u001b[0;34m\u001b[0m\n\u001b[1;32m     22\u001b[0m     \u001b[0;32mtry\u001b[0m\u001b[0;34m:\u001b[0m\u001b[0;34m\u001b[0m\u001b[0;34m\u001b[0m\u001b[0m\n\u001b[0;32m---> 23\u001b[0;31m         \u001b[0melement\u001b[0m \u001b[0;34m=\u001b[0m \u001b[0mwait\u001b[0m\u001b[0;34m.\u001b[0m\u001b[0muntil\u001b[0m\u001b[0;34m(\u001b[0m\u001b[0mEC\u001b[0m\u001b[0;34m.\u001b[0m\u001b[0mpresence_of_all_elements_located\u001b[0m\u001b[0;34m(\u001b[0m\u001b[0;34m(\u001b[0m\u001b[0mBy\u001b[0m\u001b[0;34m.\u001b[0m\u001b[0mID\u001b[0m\u001b[0;34m,\u001b[0m\u001b[0;34m\"pnnext\"\u001b[0m\u001b[0;34m)\u001b[0m\u001b[0;34m)\u001b[0m\u001b[0;34m)\u001b[0m\u001b[0;34m\u001b[0m\u001b[0;34m\u001b[0m\u001b[0m\n\u001b[0m\u001b[1;32m     24\u001b[0m         \u001b[0mdriver\u001b[0m\u001b[0;34m.\u001b[0m\u001b[0mfind_element_by_id\u001b[0m\u001b[0;34m(\u001b[0m\u001b[0;34m'pnnext'\u001b[0m\u001b[0;34m)\u001b[0m\u001b[0;34m.\u001b[0m\u001b[0mclick\u001b[0m\u001b[0;34m(\u001b[0m\u001b[0;34m)\u001b[0m\u001b[0;34m\u001b[0m\u001b[0;34m\u001b[0m\u001b[0m\n",
      "\u001b[0;32m~/anaconda3/lib/python3.8/site-packages/selenium/webdriver/support/wait.py\u001b[0m in \u001b[0;36muntil\u001b[0;34m(self, method, message)\u001b[0m\n\u001b[1;32m     70\u001b[0m             \u001b[0;32mtry\u001b[0m\u001b[0;34m:\u001b[0m\u001b[0;34m\u001b[0m\u001b[0;34m\u001b[0m\u001b[0m\n\u001b[0;32m---> 71\u001b[0;31m                 \u001b[0mvalue\u001b[0m \u001b[0;34m=\u001b[0m \u001b[0mmethod\u001b[0m\u001b[0;34m(\u001b[0m\u001b[0mself\u001b[0m\u001b[0;34m.\u001b[0m\u001b[0m_driver\u001b[0m\u001b[0;34m)\u001b[0m\u001b[0;34m\u001b[0m\u001b[0;34m\u001b[0m\u001b[0m\n\u001b[0m\u001b[1;32m     72\u001b[0m                 \u001b[0;32mif\u001b[0m \u001b[0mvalue\u001b[0m\u001b[0;34m:\u001b[0m\u001b[0;34m\u001b[0m\u001b[0;34m\u001b[0m\u001b[0m\n",
      "\u001b[0;32m~/anaconda3/lib/python3.8/site-packages/selenium/webdriver/support/expected_conditions.py\u001b[0m in \u001b[0;36m__call__\u001b[0;34m(self, driver)\u001b[0m\n\u001b[1;32m    160\u001b[0m     \u001b[0;32mdef\u001b[0m \u001b[0m__call__\u001b[0m\u001b[0;34m(\u001b[0m\u001b[0mself\u001b[0m\u001b[0;34m,\u001b[0m \u001b[0mdriver\u001b[0m\u001b[0;34m)\u001b[0m\u001b[0;34m:\u001b[0m\u001b[0;34m\u001b[0m\u001b[0;34m\u001b[0m\u001b[0m\n\u001b[0;32m--> 161\u001b[0;31m         \u001b[0;32mreturn\u001b[0m \u001b[0m_find_elements\u001b[0m\u001b[0;34m(\u001b[0m\u001b[0mdriver\u001b[0m\u001b[0;34m,\u001b[0m \u001b[0mself\u001b[0m\u001b[0;34m.\u001b[0m\u001b[0mlocator\u001b[0m\u001b[0;34m)\u001b[0m\u001b[0;34m\u001b[0m\u001b[0;34m\u001b[0m\u001b[0m\n\u001b[0m\u001b[1;32m    162\u001b[0m \u001b[0;34m\u001b[0m\u001b[0m\n",
      "\u001b[0;32m~/anaconda3/lib/python3.8/site-packages/selenium/webdriver/support/expected_conditions.py\u001b[0m in \u001b[0;36m_find_elements\u001b[0;34m(driver, by)\u001b[0m\n\u001b[1;32m    421\u001b[0m     \u001b[0;32mexcept\u001b[0m \u001b[0mWebDriverException\u001b[0m \u001b[0;32mas\u001b[0m \u001b[0me\u001b[0m\u001b[0;34m:\u001b[0m\u001b[0;34m\u001b[0m\u001b[0;34m\u001b[0m\u001b[0m\n\u001b[0;32m--> 422\u001b[0;31m         \u001b[0;32mraise\u001b[0m \u001b[0me\u001b[0m\u001b[0;34m\u001b[0m\u001b[0;34m\u001b[0m\u001b[0m\n\u001b[0m",
      "\u001b[0;32m~/anaconda3/lib/python3.8/site-packages/selenium/webdriver/support/expected_conditions.py\u001b[0m in \u001b[0;36m_find_elements\u001b[0;34m(driver, by)\u001b[0m\n\u001b[1;32m    419\u001b[0m     \u001b[0;32mtry\u001b[0m\u001b[0;34m:\u001b[0m\u001b[0;34m\u001b[0m\u001b[0;34m\u001b[0m\u001b[0m\n\u001b[0;32m--> 420\u001b[0;31m         \u001b[0;32mreturn\u001b[0m \u001b[0mdriver\u001b[0m\u001b[0;34m.\u001b[0m\u001b[0mfind_elements\u001b[0m\u001b[0;34m(\u001b[0m\u001b[0;34m*\u001b[0m\u001b[0mby\u001b[0m\u001b[0;34m)\u001b[0m\u001b[0;34m\u001b[0m\u001b[0;34m\u001b[0m\u001b[0m\n\u001b[0m\u001b[1;32m    421\u001b[0m     \u001b[0;32mexcept\u001b[0m \u001b[0mWebDriverException\u001b[0m \u001b[0;32mas\u001b[0m \u001b[0me\u001b[0m\u001b[0;34m:\u001b[0m\u001b[0;34m\u001b[0m\u001b[0;34m\u001b[0m\u001b[0m\n",
      "\u001b[0;32m~/anaconda3/lib/python3.8/site-packages/selenium/webdriver/remote/webdriver.py\u001b[0m in \u001b[0;36mfind_elements\u001b[0;34m(self, by, value)\u001b[0m\n\u001b[1;32m   1004\u001b[0m         \u001b[0;31m# See https://github.com/SeleniumHQ/selenium/issues/4555\u001b[0m\u001b[0;34m\u001b[0m\u001b[0;34m\u001b[0m\u001b[0;34m\u001b[0m\u001b[0m\n\u001b[0;32m-> 1005\u001b[0;31m         return self.execute(Command.FIND_ELEMENTS, {\n\u001b[0m\u001b[1;32m   1006\u001b[0m             \u001b[0;34m'using'\u001b[0m\u001b[0;34m:\u001b[0m \u001b[0mby\u001b[0m\u001b[0;34m,\u001b[0m\u001b[0;34m\u001b[0m\u001b[0;34m\u001b[0m\u001b[0m\n",
      "\u001b[0;32m~/anaconda3/lib/python3.8/site-packages/selenium/webdriver/remote/webdriver.py\u001b[0m in \u001b[0;36mexecute\u001b[0;34m(self, driver_command, params)\u001b[0m\n\u001b[1;32m    320\u001b[0m         \u001b[0;32mif\u001b[0m \u001b[0mresponse\u001b[0m\u001b[0;34m:\u001b[0m\u001b[0;34m\u001b[0m\u001b[0;34m\u001b[0m\u001b[0m\n\u001b[0;32m--> 321\u001b[0;31m             \u001b[0mself\u001b[0m\u001b[0;34m.\u001b[0m\u001b[0merror_handler\u001b[0m\u001b[0;34m.\u001b[0m\u001b[0mcheck_response\u001b[0m\u001b[0;34m(\u001b[0m\u001b[0mresponse\u001b[0m\u001b[0;34m)\u001b[0m\u001b[0;34m\u001b[0m\u001b[0;34m\u001b[0m\u001b[0m\n\u001b[0m\u001b[1;32m    322\u001b[0m             response['value'] = self._unwrap_value(\n",
      "\u001b[0;32m~/anaconda3/lib/python3.8/site-packages/selenium/webdriver/remote/errorhandler.py\u001b[0m in \u001b[0;36mcheck_response\u001b[0;34m(self, response)\u001b[0m\n\u001b[1;32m    241\u001b[0m             \u001b[0;32mraise\u001b[0m \u001b[0mexception_class\u001b[0m\u001b[0;34m(\u001b[0m\u001b[0mmessage\u001b[0m\u001b[0;34m,\u001b[0m \u001b[0mscreen\u001b[0m\u001b[0;34m,\u001b[0m \u001b[0mstacktrace\u001b[0m\u001b[0;34m,\u001b[0m \u001b[0malert_text\u001b[0m\u001b[0;34m)\u001b[0m\u001b[0;34m\u001b[0m\u001b[0;34m\u001b[0m\u001b[0m\n\u001b[0;32m--> 242\u001b[0;31m         \u001b[0;32mraise\u001b[0m \u001b[0mexception_class\u001b[0m\u001b[0;34m(\u001b[0m\u001b[0mmessage\u001b[0m\u001b[0;34m,\u001b[0m \u001b[0mscreen\u001b[0m\u001b[0;34m,\u001b[0m \u001b[0mstacktrace\u001b[0m\u001b[0;34m)\u001b[0m\u001b[0;34m\u001b[0m\u001b[0;34m\u001b[0m\u001b[0m\n\u001b[0m\u001b[1;32m    243\u001b[0m \u001b[0;34m\u001b[0m\u001b[0m\n",
      "\u001b[0;31mNoSuchWindowException\u001b[0m: Message: no such window: target window already closed\nfrom unknown error: web view not found\n  (Session info: chrome=91.0.4472.114)\n",
      "\nDuring handling of the above exception, another exception occurred:\n",
      "\u001b[0;31mNameError\u001b[0m                                 Traceback (most recent call last)",
      "\u001b[0;32m<ipython-input-42-f5e6384124e6>\u001b[0m in \u001b[0;36m<module>\u001b[0;34m\u001b[0m\n\u001b[1;32m     23\u001b[0m         \u001b[0melement\u001b[0m \u001b[0;34m=\u001b[0m \u001b[0mwait\u001b[0m\u001b[0;34m.\u001b[0m\u001b[0muntil\u001b[0m\u001b[0;34m(\u001b[0m\u001b[0mEC\u001b[0m\u001b[0;34m.\u001b[0m\u001b[0mpresence_of_all_elements_located\u001b[0m\u001b[0;34m(\u001b[0m\u001b[0;34m(\u001b[0m\u001b[0mBy\u001b[0m\u001b[0;34m.\u001b[0m\u001b[0mID\u001b[0m\u001b[0;34m,\u001b[0m\u001b[0;34m\"pnnext\"\u001b[0m\u001b[0;34m)\u001b[0m\u001b[0;34m)\u001b[0m\u001b[0;34m)\u001b[0m\u001b[0;34m\u001b[0m\u001b[0;34m\u001b[0m\u001b[0m\n\u001b[1;32m     24\u001b[0m         \u001b[0mdriver\u001b[0m\u001b[0;34m.\u001b[0m\u001b[0mfind_element_by_id\u001b[0m\u001b[0;34m(\u001b[0m\u001b[0;34m'pnnext'\u001b[0m\u001b[0;34m)\u001b[0m\u001b[0;34m.\u001b[0m\u001b[0mclick\u001b[0m\u001b[0;34m(\u001b[0m\u001b[0;34m)\u001b[0m\u001b[0;34m\u001b[0m\u001b[0;34m\u001b[0m\u001b[0m\n\u001b[0;32m---> 25\u001b[0;31m     \u001b[0;32mexcept\u001b[0m \u001b[0mTimeoutException\u001b[0m\u001b[0;34m:\u001b[0m\u001b[0;34m\u001b[0m\u001b[0;34m\u001b[0m\u001b[0m\n\u001b[0m\u001b[1;32m     26\u001b[0m         \u001b[0mprint\u001b[0m\u001b[0;34m(\u001b[0m\u001b[0;34m'페이지 이동 종료'\u001b[0m\u001b[0;34m)\u001b[0m\u001b[0;34m\u001b[0m\u001b[0;34m\u001b[0m\u001b[0m\n\u001b[1;32m     27\u001b[0m         \u001b[0;32mbreak\u001b[0m\u001b[0;34m\u001b[0m\u001b[0;34m\u001b[0m\u001b[0m\n",
      "\u001b[0;31mNameError\u001b[0m: name 'TimeoutException' is not defined"
     ]
    }
   ],
   "source": [
    "from selenium import webdriver\n",
    "from selenium.webdriver.common.keys import Keys\n",
    "import time\n",
    "import pandas as pd\n",
    "from selenium.webdriver.support.ui import WebDriverWait #특정조건을 기다린 뒤 만족하면 넘어가는 기능을 사용하기 위해 사용 (인터넷속도, 사용자이용급증)\n",
    "from selenium.webdriver.support import expected_conditions as EC\n",
    "from selenium.webdriver.common.by import By\n",
    "from selenium.common.exceptions import TimeoutException\n",
    "\n",
    "path = '/Users/donguri/Workspace/데이터청년캠퍼스/wc/chromedriver'\n",
    "\n",
    "keyword = input('입력할 키워드는 무엇인가요? : ')\n",
    "\n",
    "driver = webdriver.Chrome(path)\n",
    "driver.maximize_window() \n",
    "driver.get('https://www.google.com')\n",
    "driver.find_element_by_class_name('gLFyf.gsfi').send_keys(keyword)\n",
    "driver.find_element_by_class_name('gLFyf').send_keys(Keys.RETURN)\n",
    "\n",
    "wait = WebDriverWait(driver, 5)\n",
    "\n",
    "while True:\n",
    "    try:\n",
    "        element = wait.until(EC.presence_of_all_elements_located((By.ID,\"pnnext\")))\n",
    "        driver.find_element_by_id('pnnext').click()\n",
    "    except TimeoutException:\n",
    "        print('페이지 이동 종료')\n",
    "        break\n",
    "print('프로그램 종료')"
   ]
  },
  {
   "cell_type": "code",
   "execution_count": null,
   "metadata": {},
   "outputs": [],
   "source": []
  }
 ],
 "metadata": {
  "kernelspec": {
   "display_name": "Python 3",
   "language": "python",
   "name": "python3"
  },
  "language_info": {
   "codemirror_mode": {
    "name": "ipython",
    "version": 3
   },
   "file_extension": ".py",
   "mimetype": "text/x-python",
   "name": "python",
   "nbconvert_exporter": "python",
   "pygments_lexer": "ipython3",
   "version": "3.8.5"
  }
 },
 "nbformat": 4,
 "nbformat_minor": 4
}
