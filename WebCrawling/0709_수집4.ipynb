{
 "cells": [
  {
   "cell_type": "markdown",
   "metadata": {},
   "source": [
    "# 유튜브 댓글"
   ]
  },
  {
   "cell_type": "code",
   "execution_count": 5,
   "metadata": {},
   "outputs": [],
   "source": [
    "from selenium import webdriver\n",
    "import time\n",
    "from selenium.webdriver.common.keys import Keys\n",
    "from selenium.webdriver.support.wait import WebDriverWait\n",
    "from selenium.webdriver.support import expected_conditions as EC\n",
    "from selenium.webdriver.common.by import By\n",
    "\n",
    "\n",
    "driver = webdriver.Chrome('/Users/donguri/Workspace/데이터청년캠퍼스/wc/chromedriver')\n",
    "driver.get('https://www.youtube.com/watch?v=83InZHaHrTg')\n",
    "driver.maximize_window()\n",
    "time.sleep(2)\n",
    "\n",
    "driver.find_element_by_css_selector('body').send_keys(Keys.PAGE_DOWN)\n",
    "driver.find_element_by_css_selector('body').send_keys(Keys.PAGE_DOWN)\n",
    "wait = WebDriverWait(driver, 10)\n",
    "wait_state = wait.until(EC.presence_of_element_located((By.ID, 'sections')))\n",
    "comment_section = driver.find_element_by_id('sections')\n",
    "\n",
    "\n",
    "total_comment = driver.find_element_by_css_selector('#title > #count')\n",
    "total_comment = total_comment.find_elements_by_css_selector('span')[1].text\n",
    "total_comment = int(total_comment.replace(\",\",\"\"))\n"
   ]
  },
  {
   "cell_type": "code",
   "execution_count": 7,
   "metadata": {},
   "outputs": [
    {
     "data": {
      "text/plain": [
       "int"
      ]
     },
     "execution_count": 7,
     "metadata": {},
     "output_type": "execute_result"
    }
   ],
   "source": [
    "type(total_comment)"
   ]
  },
  {
   "cell_type": "markdown",
   "metadata": {},
   "source": [
    "# 네이버 로그인"
   ]
  },
  {
   "cell_type": "code",
   "execution_count": null,
   "metadata": {},
   "outputs": [],
   "source": [
    "from selenium import webdriver\n",
    "import time\n",
    "from selenium.webdriver.common.keys import Keys\n",
    "from selenium.webdriver.support.wait import WebDriverWait\n",
    "from selenium.webdriver.support import expected_conditions as EC\n",
    "from selenium.webdriver.common.by import By\n",
    "\n",
    "\n",
    "driver.get('https://nid.naver.com/nidlogin.login?mode=form&url=https%3A%2F%2Fwww.naver.comdriver.get')\n",
    "\n",
    "time.sleep(10)\n",
    "\n"
   ]
  },
  {
   "cell_type": "markdown",
   "metadata": {},
   "source": [
    "# iframe"
   ]
  },
  {
   "cell_type": "code",
   "execution_count": null,
   "metadata": {},
   "outputs": [],
   "source": [
    "from selenium import webdriver\n",
    "import time\n",
    "from selenium.webdriver.common.keys import Keys\n",
    "from selenium.webdriver.support.wait import WebDriverWait\n",
    "from selenium.webdriver.support import expected_conditions as EC\n",
    "from selenium.webdriver.common.by import By\n",
    "\n",
    "\n",
    "driver = webdriver.Chrome('/Users/donguri/Workspace/데이터청년캠퍼스/wc/chromedriver')\n",
    "\n",
    "driver.get('https://cafe.naver.com/joonggonara')\n",
    "driver.find_element_by_id('topLayerQueryInput').send_keys('노트북')\n",
    "driver.find_element_by_id('topLayerQueryInput').send_keys(Keys.RETURN)\n",
    "\n",
    "driver.switchTo().frame('cafe_main')\n",
    "board = driver.find_elements_by_css_selector('div.article-board.m-tcol-c')[-1]\n",
    "print(board)"
   ]
  }
 ],
 "metadata": {
  "kernelspec": {
   "display_name": "Python 3",
   "language": "python",
   "name": "python3"
  },
  "language_info": {
   "codemirror_mode": {
    "name": "ipython",
    "version": 3
   },
   "file_extension": ".py",
   "mimetype": "text/x-python",
   "name": "python",
   "nbconvert_exporter": "python",
   "pygments_lexer": "ipython3",
   "version": "3.8.5"
  }
 },
 "nbformat": 4,
 "nbformat_minor": 4
}
