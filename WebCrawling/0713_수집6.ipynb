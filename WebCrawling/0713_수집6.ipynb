{
 "cells": [
  {
   "cell_type": "markdown",
   "metadata": {},
   "source": [
    "# 인스타그램 크롤링"
   ]
  },
  {
   "cell_type": "code",
   "execution_count": 26,
   "metadata": {},
   "outputs": [],
   "source": [
    "from selenium import webdriver\n",
    "from selenium.webdriver.common.keys import Keys\n",
    "import time\n",
    "\n",
    "\n",
    "driver = webdriver.Chrome('/Users/donguri/Workspace/데이터청년캠퍼스/wc/chromedriver')\n",
    "driver.get('https://www.instagram.com')"
   ]
  },
  {
   "cell_type": "code",
   "execution_count": 27,
   "metadata": {},
   "outputs": [
    {
     "name": "stdin",
     "output_type": "stream",
     "text": [
      "검색어를 입력해주세요 : 빅데이터\n",
      "스크롤 횟수를 정해주세요 :  3\n"
     ]
    },
    {
     "name": "stdout",
     "output_type": "stream",
     "text": [
      "['https://www.instagram.com/p/COb9VGsBdLI/', 'https://www.instagram.com/p/CRN0dEBjtJh/', 'https://www.instagram.com/p/CRP4yippGTn/', 'https://www.instagram.com/p/CROC2zKh83U/', 'https://www.instagram.com/p/CRO1O6rBNLJ/', 'https://www.instagram.com/p/CRPuipRDx4Q/', 'https://www.instagram.com/p/CRN9mPkplRD/', 'https://www.instagram.com/p/CROGURcssmL/', 'https://www.instagram.com/p/CPaI3LXgm6V/', 'https://www.instagram.com/p/CRJlk0zHhQ0/', 'https://www.instagram.com/p/CFEoNYvFkYA/', 'https://www.instagram.com/p/COMMBo0DMiK/', 'https://www.instagram.com/p/CRPj0imrLSH/', 'https://www.instagram.com/p/CRPjveAnto9/', 'https://www.instagram.com/p/CRNxx6QMeNR/', 'https://www.instagram.com/p/CRPyAeOFWz8/', 'https://www.instagram.com/p/CRN8_i8nWfa/', 'https://www.instagram.com/p/CKkUEg5nqNy/', 'https://www.instagram.com/p/CLeRfQRJ7VA/', 'https://www.instagram.com/p/CROCHVlFfBe/', 'https://www.instagram.com/p/CRP7CwGBd_9/', 'https://www.instagram.com/p/CROPH-lHhEu/', 'https://www.instagram.com/p/CRPCGMtHVjH/', 'https://www.instagram.com/p/CRP31aWpfqU/', 'https://www.instagram.com/p/CRJe_gQMo8O/', 'https://www.instagram.com/p/CRN0PpSlj5e/', 'https://www.instagram.com/p/CLQf2Nah710/', 'https://www.instagram.com/p/CRPsICnh3cr/', 'https://www.instagram.com/p/CRN81MrnVv0/', 'https://www.instagram.com/p/CRO0wLghafc/']\n"
     ]
    }
   ],
   "source": [
    "keyword = input('검색어를 입력해주세요 :')\n",
    "url = 'https://www.instagram.com/explore/tags/' + keyword\n",
    "num_of_scroll = int((input('스크롤 횟수를 정해주세요 : ')))\n",
    "driver.get(url)\n",
    "\n",
    "url_list = []\n",
    "\n",
    "for i in range(num_of_scroll):\n",
    "    time.sleep(1.5)\n",
    "    driver.find_element_by_css_selector('body').send_keys(Keys.PAGE_DOWN)\n",
    "    post_list = driver.find_elements_by_class_name('v1Nh3.kIKUG._bz0w')\n",
    "    for post in post_list:\n",
    "        url = post.find_element_by_css_selector('a').get_attribute('href')\n",
    "        url_list.append(url)\n",
    "        \n",
    "url_list = list(set(url_list))\n",
    "print(url_list)"
   ]
  },
  {
   "cell_type": "code",
   "execution_count": 32,
   "metadata": {},
   "outputs": [],
   "source": [
    "import re\n",
    "char = re.compile('[^ 0-9a-zA-Zr-ㅣ가-힣!?#.]')\n",
    "\n",
    "for url in url_list:\n",
    "    driver.get(url)\n",
    "    insta_id = driver.find_element_by_class_name('e1e1d').text\n",
    "    hash_text_area = driver.find_element_by_class_name('EtaWk')\n",
    "    hash_text = hash_text_area.text\n",
    "    \n",
    "    hash_text = char.sub('', hash_text)\n",
    "    heart = \"\"\n",
    "    try:\n",
    "        heart = driver.find_element_by_class_name('Nm9Fw').text\n",
    "        heart = heart.split(' ')[-1][:-1].replace(\",\",\"\")\n",
    "    except:\n",
    "        heart = \"0\"\n",
    "    date = driver.find_element_by_class_name('k_Q0X.NnvRN').text\n",
    "    published_date = \"\"\n",
    "    \n",
    "    if \"시간 전 \" in date:\n",
    "        import datetime\n",
    "        now = datetime.datetime.now()\n",
    "        hours = date.split('시간 전')[0]\n",
    "        published_date = now - datetime.timedelta(hours=int(hours))\n",
    "        published_date = published_date.strftime('%m월 %일'.encode('unicode-escape').decode()).encode().decode('unicode-escape')\n",
    "        \n",
    "    elif \"일 전\" in date:\n",
    "        import datetime\n",
    "        now = datetime.datetime.now()\n",
    "        days = date.split('일 전')[0]\n",
    "        published_date = now - datetime.timedelta(days=int(days))\n",
    "        published_date = published_date.strftime('%m월 %일'.encode('unicode-escape').decode()).encode().decode('unicode-escape')\n",
    "    \n",
    "    else:\n",
    "        pass"
   ]
  },
  {
   "cell_type": "markdown",
   "metadata": {},
   "source": [
    "# G마켓 베스트 상품 크롤링"
   ]
  },
  {
   "cell_type": "code",
   "execution_count": 3,
   "metadata": {},
   "outputs": [
    {
     "name": "stdout",
     "output_type": "stream",
     "text": [
      "\u001b[31mERROR: Could not find a version that satisfies the requirement io (from versions: none)\u001b[0m\n",
      "\u001b[31mERROR: No matching distribution found for io\u001b[0m\n"
     ]
    }
   ],
   "source": [
    "!pip install io"
   ]
  },
  {
   "cell_type": "code",
   "execution_count": 6,
   "metadata": {
    "ExecuteTime": {
     "end_time": "2021-07-13T03:08:10.719640Z",
     "start_time": "2021-07-13T03:07:48.040939Z"
    }
   },
   "outputs": [
    {
     "name": "stdout",
     "output_type": "stream",
     "text": [
      "수집 종료\n"
     ]
    }
   ],
   "source": [
    "from selenium import webdriver\n",
    "import time\n",
    "from selenium.webdriver.support.wait import WebDriverWait\n",
    "from selenium.webdriver.support import expected_conditions as EC\n",
    "from selenium.webdriver.common.by import By\n",
    "from selenium.webdriver.common.keys import Keys\n",
    "\n",
    "# 엑셀 저장을 위한 준비\n",
    "import xlsxwriter\n",
    "from datetime import datetime\n",
    "import requests\n",
    "from io import BytesIO\n",
    "\n",
    "today = datetime.today().strftime(\"%Y%m%d\")\n",
    "\n",
    "file_name = 'gmarket.xlsx'\n",
    "workbook = xlsxwriter.Workbook(file_name)\n",
    "ws = workbook.add_worksheet()\n",
    "ws.write(0,0,'상품 이미지')\n",
    "ws.write(0,1,'상품 명')\n",
    "ws.write(0,2,'상품 원가')\n",
    "ws.write(0,3,'상품 할인가')\n",
    "ws.write(0,4,'상품 할인률')\n",
    "#행 열 크기 지정\n",
    "ws.set_column(0,0,100)\n",
    "ws.set_column(1,1,100)\n",
    "ws.set_default_row(100)\n",
    "\n",
    "\n",
    "\n",
    "driver = webdriver.Chrome('/Users/donguri/Workspace/데이터청년캠퍼스/wc/chromedriver')\n",
    "driver.get('http://corners.gmarket.co.kr/Bestsellers')\n",
    "time.sleep(1)\n",
    "\n",
    "wait = WebDriverWait(driver, 10)\n",
    "for i in range(30):\n",
    "    driver.find_element_by_css_selector('body').send_keys(Keys.PAGE_DOWN)\n",
    "wait_state = wait.until(EC.presence_of_all_elements_located((By.TAG_NAME, \"img\")))\n",
    "best_list = driver.find_elements_by_css_selector('div.best-list')[1].find_elements_by_css_selector('ul > li')\n",
    "count = 1\n",
    "\n",
    "for item in best_list:\n",
    "    thumb = item.find_element_by_class_name('thumb')\n",
    "    thumb_img = thumb.find_element_by_css_selector('img.lazy').get_attribute('src')\n",
    "    item_name = item.find_element_by_class_name('itemname').text\n",
    "    item_price = item.find_element_by_class_name('item_price')\n",
    "    o_price = item_price.find_element_by_class_name('o-price').text\n",
    "    s_price = item_price.find_element_by_class_name('s-price').text\n",
    "\n",
    "    try:\n",
    "        sale = s_price.split(' ')[1]\n",
    "    except:\n",
    "        sale = '0%'\n",
    "    s_price = s_price.split(' ')[0]\n",
    "    if o_price == \"\":\n",
    "        o_price = s_price\n",
    "    \n",
    "    ws.write(count, 1, item_name)\n",
    "    ws.write(count, 2, o_price)\n",
    "    ws.write(count, 3, s_price)\n",
    "    ws.write(count, 4, sale)\n",
    "    \n",
    "    \n",
    "    try:\n",
    "        res = requests.get(thumb_img)\n",
    "        image_data = BytesIO(res.content)\n",
    "        image_size = len(image_data.getvalue())\n",
    "        if image_size > 0:\n",
    "            cell = 'A'+str(count)\n",
    "            ws.insert_image(cell, thumb_img, {'image_data':image_data, 'x_scale':0.3, 'y_scale':0.3})\n",
    "    except:\n",
    "        pass\n",
    "    \n",
    "    count += 1\n",
    "    \n",
    "workbook.close()\n",
    "print('수집 종료')    "
   ]
  },
  {
   "cell_type": "markdown",
   "metadata": {
    "ExecuteTime": {
     "end_time": "2021-07-13T02:49:40.169058Z",
     "start_time": "2021-07-13T02:49:40.144993Z"
    }
   },
   "source": [
    "# 네이버 뉴스 웹 크롤링"
   ]
  },
  {
   "cell_type": "code",
   "execution_count": 19,
   "metadata": {
    "scrolled": true
   },
   "outputs": [
    {
     "name": "stdin",
     "output_type": "stream",
     "text": [
      "키워드 입력 : 경제\n"
     ]
    },
    {
     "name": "stdout",
     "output_type": "stream",
     "text": [
      "['https://news.naver.com/main/read.nhn?mode=LSD&mid=sec&sid1=101&oid=421&aid=0005474480', 'https://news.naver.com/main/read.nhn?mode=LSD&mid=sec&sid1=102&oid=421&aid=0005471282', 'https://news.naver.com/main/read.nhn?mode=LSD&mid=sec&sid1=101&oid=001&aid=0012520626', 'https://news.naver.com/main/read.nhn?mode=LSD&mid=sec&sid1=102&oid=011&aid=0003935197', 'https://news.naver.com/main/read.nhn?mode=LSD&mid=sec&sid1=101&oid=417&aid=0000713872', 'http://www.newsway.co.kr/news/view?tp=1&ud=2021071216505218567', 'https://news.naver.com/main/read.nhn?mode=LSD&mid=sec&sid1=100&oid=003&aid=0010603974', 'https://news.naver.com/main/read.nhn?mode=LSD&mid=sec&sid1=100&oid=001&aid=0012521158', 'https://news.naver.com/main/read.nhn?mode=LSD&mid=sec&sid1=101&oid=001&aid=0012520638', 'https://news.naver.com/main/read.nhn?mode=LSD&mid=sec&sid1=100&oid=003&aid=0010603813', 'https://news.naver.com/main/read.nhn?mode=LSD&mid=sec&sid1=104&oid=001&aid=0012517806', 'https://search.naver.com/search.naver?where=news&sm=tab_pge&query=%EA%B2%BD%EC%A0%9C&sort=0&photo=0&field=0&pd=0&ds=&de=&cluster_rank=46&mynews=0&office_type=0&office_section_code=0&news_office_checked=&nso=so:r,p:all,a:all&start=21#', 'https://news.naver.com/main/read.nhn?mode=LSD&mid=sec&sid1=101&oid=003&aid=0010601963', 'https://news.naver.com/main/read.nhn?mode=LSD&mid=sec&sid1=101&oid=056&aid=0011081029', 'https://www.etoday.co.kr/news/view/2043964', 'http://www.kbiznews.co.kr/news/articleView.html?idxno=83923', 'https://news.naver.com/main/read.nhn?mode=LSD&mid=sec&sid1=102&oid=421&aid=0005472665', 'https://search.naver.com/search.naver?where=news&sm=tab_pge&query=%EA%B2%BD%EC%A0%9C&sort=0&photo=0&field=0&pd=0&ds=&de=&cluster_rank=26&mynews=0&office_type=0&office_section_code=0&news_office_checked=&nso=so:r,p:all,a:all&start=11#', 'https://news.naver.com/main/read.nhn?mode=LSD&mid=sec&sid1=100&oid=056&aid=0011081881', 'https://news.naver.com/main/read.nhn?mode=LSD&mid=sec&sid1=100&oid=586&aid=0000026707', 'https://news.naver.com/main/read.nhn?mode=LSD&mid=sec&sid1=100&oid=001&aid=0012521591', 'https://news.naver.com/main/read.nhn?mode=LSD&mid=sec&sid1=100&oid=003&aid=0010603500', 'https://news.naver.com/main/read.nhn?mode=LSD&mid=sec&sid1=102&oid=005&aid=0001455984', 'http://www.kbanker.co.kr/news/articleView.html?idxno=99846', 'https://news.naver.com/main/read.nhn?mode=LSD&mid=sec&sid1=102&oid=003&aid=0010602826', 'https://news.naver.com/main/read.nhn?mode=LSD&mid=sec&sid1=104&oid=011&aid=0003935135', 'https://news.naver.com/main/read.nhn?mode=LSD&mid=sec&sid1=101&oid=056&aid=0011081584', 'https://search.naver.com/search.naver?where=news&sm=tab_pge&query=%EA%B2%BD%EC%A0%9C&sort=0&photo=0&field=0&pd=0&ds=&de=&cluster_rank=83&mynews=0&office_type=0&office_section_code=0&news_office_checked=&nso=so:r,p:all,a:all&start=41#', 'https://news.naver.com/main/read.nhn?mode=LSD&mid=sec&sid1=102&oid=001&aid=0012519512', 'https://news.naver.com/main/read.nhn?mode=LSD&mid=sec&sid1=101&oid=001&aid=0012520636', 'https://news.naver.com/main/read.nhn?mode=LSD&mid=sec&sid1=105&oid=030&aid=0002957018', 'https://news.naver.com/main/read.nhn?mode=LSD&mid=sec&sid1=101&oid=421&aid=0005471895', 'https://news.naver.com/main/read.nhn?mode=LSD&mid=sec&sid1=102&oid=025&aid=0003117585', 'https://news.naver.com/main/read.nhn?mode=LSD&mid=sec&sid1=101&oid=015&aid=0004577254', 'https://news.naver.com/main/read.nhn?mode=LSD&mid=sec&sid1=100&oid=003&aid=0010603502', 'https://news.naver.com/main/read.nhn?mode=LSD&mid=sec&sid1=100&oid=003&aid=0010603499', 'https://news.naver.com/main/read.nhn?mode=LSD&mid=sec&sid1=102&oid=028&aid=0002552214', 'https://news.naver.com/main/read.nhn?mode=LSD&mid=sec&sid1=103&oid=092&aid=0002227493', 'https://news.naver.com/main/read.nhn?mode=LSD&mid=sec&sid1=102&oid=417&aid=0000714133', 'http://www.newspim.com/news/view/20210712000061', 'https://news.naver.com/main/read.nhn?mode=LSD&mid=sec&sid1=100&oid=003&aid=0010603890', 'http://www.kyeongin.com/main/view.php?key=20210712010001985', 'https://news.bbsi.co.kr/news/articleView.html?idxno=3038081', 'https://search.naver.com/search.naver?where=news&sm=tab_pge&query=%EA%B2%BD%EC%A0%9C&sort=0&photo=0&field=0&pd=0&ds=&de=&cluster_rank=145&mynews=0&office_type=0&office_section_code=0&news_office_checked=&nso=so:r,p:all,a:all&start=71#', 'https://news.naver.com/main/read.nhn?mode=LSD&mid=sec&sid1=101&oid=123&aid=0002250107', 'https://news.naver.com/main/read.nhn?mode=LSD&mid=sec&sid1=100&oid=001&aid=0012521293', 'https://search.naver.com/search.naver?where=news&sm=tab_pge&query=%EA%B2%BD%EC%A0%9C&sort=0&photo=0&field=0&pd=0&ds=&de=&cluster_rank=62&mynews=0&office_type=0&office_section_code=0&news_office_checked=&nso=so:r,p:all,a:all&start=31#', 'https://news.naver.com/main/read.nhn?mode=LSD&mid=sec&sid1=100&oid=079&aid=0003527433', 'http://sjbnews.com/news/news.php?number=718290', 'https://news.naver.com/main/read.nhn?mode=LSD&mid=sec&sid1=102&oid=417&aid=0000714451', 'http://tbs.seoul.kr/news/newsView.do?typ_800=1&idx_800=3442614&seq_800=20435191', 'https://news.naver.com/main/read.nhn?mode=LSD&mid=sec&sid1=106&oid=609&aid=0000467255', 'https://news.naver.com/main/read.nhn?mode=LSD&mid=sec&sid1=101&oid=119&aid=0002510726', 'https://news.naver.com/main/read.nhn?mode=LSD&mid=sec&sid1=100&oid=003&aid=0010603882', 'https://search.naver.com/search.naver?where=news&sm=tab_jum&query=%EA%B2%BD%EC%A0%9C#', 'https://news.naver.com/main/read.nhn?mode=LSD&mid=sec&sid1=102&oid=003&aid=0010602680', 'https://www.ekn.kr/web/view.php?key=20210712010001966', 'http://www.newspim.com/news/view/20210712000578', 'https://news.naver.com/main/read.nhn?mode=LSD&mid=sec&sid1=102&oid=079&aid=0003527004', 'https://news.naver.com/main/read.nhn?mode=LSD&mid=sec&sid1=100&oid=421&aid=0005473983', 'https://news.naver.com/main/read.nhn?mode=LSD&mid=sec&sid1=100&oid=421&aid=0005473982', 'https://news.naver.com/main/read.nhn?mode=LSD&mid=sec&sid1=101&oid=001&aid=0012520621', 'https://news.naver.com/main/read.nhn?mode=LSD&mid=sec&sid1=102&oid=001&aid=0012519990', 'https://news.naver.com/main/read.nhn?mode=LSD&mid=sec&sid1=101&oid=277&aid=0004936499', 'https://news.naver.com/main/read.nhn?mode=LSD&mid=sec&sid1=100&oid=008&aid=0004614761', 'http://www.ftoday.co.kr/news/articleView.html?idxno=219428', 'http://www.queen.co.kr/news/articleView.html?idxno=363878', 'https://news.naver.com/main/read.nhn?mode=LSD&mid=sec&sid1=102&oid=421&aid=0005472219', 'https://news.naver.com/main/read.nhn?mode=LSD&mid=sec&sid1=100&oid=421&aid=0005473984', 'https://news.naver.com/main/read.nhn?mode=LSD&mid=sec&sid1=004&oid=079&aid=0003527089', 'https://search.naver.com/search.naver?where=news&sm=tab_pge&query=%EA%B2%BD%EC%A0%9C&sort=0&photo=0&field=0&pd=0&ds=&de=&cluster_rank=99&mynews=0&office_type=0&office_section_code=0&news_office_checked=&nso=so:r,p:all,a:all&start=51#', 'https://news.naver.com/main/read.nhn?mode=LSD&mid=sec&sid1=100&oid=001&aid=0012521159', 'https://news.naver.com/main/read.nhn?mode=LSD&mid=sec&sid1=101&oid=448&aid=0000333677', 'https://news.naver.com/main/read.nhn?mode=LSD&mid=sec&sid1=101&oid=001&aid=0012518931', 'https://news.naver.com/main/read.nhn?mode=LSD&mid=sec&sid1=101&oid=001&aid=0012517254', 'https://search.naver.com/search.naver?where=news&sm=tab_pge&query=%EA%B2%BD%EC%A0%9C&sort=0&photo=0&field=0&pd=0&ds=&de=&cluster_rank=120&mynews=0&office_type=0&office_section_code=0&news_office_checked=&nso=so:r,p:all,a:all&start=61#', 'https://news.naver.com/main/read.nhn?mode=LSD&mid=sec&sid1=101&oid=629&aid=0000094585', 'https://news.naver.com/main/read.nhn?mode=LSD&mid=sec&sid1=100&oid=421&aid=0005473988', 'https://news.naver.com/main/read.nhn?mode=LSD&mid=sec&sid1=104&oid=214&aid=0001135065', 'https://news.naver.com/main/read.nhn?mode=LSD&mid=sec&sid1=101&oid=022&aid=0003599711', 'https://news.naver.com/main/read.nhn?mode=LSD&mid=sec&sid1=101&oid=014&aid=0004673305', 'https://news.naver.com/main/read.nhn?mode=LSD&mid=sec&sid1=101&oid=001&aid=0012520630', 'https://news.naver.com/main/read.nhn?mode=LSD&mid=sec&sid1=100&oid=003&aid=0010603887', 'https://news.naver.com/main/read.nhn?mode=LSD&mid=sec&sid1=101&oid=001&aid=0012520637', 'https://search.naver.com/search.naver?where=news&sm=tab_pge&query=%EA%B2%BD%EC%A0%9C&sort=0&photo=0&field=0&pd=0&ds=&de=&cluster_rank=161&mynews=0&office_type=0&office_section_code=0&news_office_checked=&nso=so:r,p:all,a:all&start=81#', 'https://news.naver.com/main/read.nhn?mode=LSD&mid=sec&sid1=100&oid=001&aid=0012521160', 'https://news.naver.com/main/read.nhn?mode=LSD&mid=sec&sid1=100&oid=079&aid=0003527396', 'http://www.ajunews.com/view/20210712091005004', 'https://news.naver.com/main/read.nhn?mode=LSD&mid=sec&sid1=104&oid=002&aid=0002199474']\n"
     ]
    }
   ],
   "source": [
    "from selenium import webdriver\n",
    "import time\n",
    "from selenium.webdriver.support.wait import WebDriverWait\n",
    "from selenium.webdriver.support import expected_conditions as EC\n",
    "from selenium.webdriver.common.by import By\n",
    "from selenium.webdriver.common.keys import Keys\n",
    "\n",
    "\n",
    "keyword = input('키워드 입력 :')\n",
    "driver = webdriver.Chrome('/Users/donguri/Workspace/데이터청년캠퍼스/wc/chromedriver')\n",
    "driver.get('https://search.naver.com/search.naver?where=news&sm=tab_jum&query='+keyword)\n",
    "\n",
    "now_page = driver.find_element_by_css_selector('div.sc_page > div.sc_page_inner > a').get_attribute('href')\n",
    "\n",
    "url_list = []\n",
    "\n",
    "\n",
    "cnt = 0\n",
    "\n",
    "while True:\n",
    "    cnt += 1\n",
    "    if cnt >= 10:\n",
    "        break\n",
    "        \n",
    "    time.sleep(1)\n",
    "    news_group = driver.find_element_by_css_selector('div.group_news > ul.list_news')\n",
    "    news_list = news_group.find_elements_by_css_selector('li')\n",
    "    \n",
    "    for news in news_list:\n",
    "        url = news.find_element_by_css_selector('a').get_attribute('href')\n",
    "        url_list.append(url)\n",
    "    \n",
    "    time.sleep(1)\n",
    "    next_page = driver.find_element_by_css_selector('div.sc_page > a.btn_next').get_attribute('href')\n",
    "    driver.get(next_page)\n",
    "\n",
    "    \n",
    "url_list = list(set(url_list))\n",
    "print(url_list)"
   ]
  },
  {
   "cell_type": "code",
   "execution_count": 20,
   "metadata": {},
   "outputs": [
    {
     "data": {
      "text/plain": [
       "89"
      ]
     },
     "execution_count": 20,
     "metadata": {},
     "output_type": "execute_result"
    }
   ],
   "source": [
    "len(url_list)"
   ]
  },
  {
   "cell_type": "code",
   "execution_count": 25,
   "metadata": {
    "scrolled": true
   },
   "outputs": [],
   "source": [
    "from selenium import webdriver\n",
    "import time\n",
    "\n",
    "driver = webdriver.Chrome('/Users/donguri/Workspace/데이터청년캠퍼스/wc/chromedriver')\n",
    "def NaverNewsGetDate(driver, url):\n",
    "    driver.get(url)\n",
    "    content = driver.find_element_by_class_name('content')\n",
    "    article_info = driver.find_element_by_class_name('article_info')\n",
    "    article_title = article_info.find_element_by_id('articleTitle')\n",
    "        \n",
    "        \n",
    "    title = article_title.text\n",
    "    sponsor = article_info.find_element_by_class_name('sponsor')\n",
    "    date = sponsor.find_element_class_name('t11').text\n",
    "        \n",
    "        \n",
    "    article_body = content.find_element_by_class_name('article_body')\n",
    "    article_content = article_body.find_element_by_id('articleBodyContents')\n",
    "        \n",
    "    content = article_content.text\n",
    "        \n",
    "    return title, date, content\n",
    "    \n",
    "\n",
    "for url in url_list:\n",
    "    if 'news.naver.com' in url:\n",
    "        try:\n",
    "            title, date,content = NaverNewsGetDate(driver, url)\n",
    "            data = {'title':title, 'date':date, 'content':content}\n",
    "        except:\n",
    "            pass\n",
    "    elif 'app.yonhapnews.co.kr' in url:\n",
    "        print('연합신문')\n",
    "            \n",
    "    elif 'news.hankyung.com' in url:\n",
    "        print('한경신문')\n",
    "            "
   ]
  },
  {
   "cell_type": "code",
   "execution_count": null,
   "metadata": {},
   "outputs": [],
   "source": []
  }
 ],
 "metadata": {
  "kernelspec": {
   "display_name": "Python 3",
   "language": "python",
   "name": "python3"
  },
  "language_info": {
   "codemirror_mode": {
    "name": "ipython",
    "version": 3
   },
   "file_extension": ".py",
   "mimetype": "text/x-python",
   "name": "python",
   "nbconvert_exporter": "python",
   "pygments_lexer": "ipython3",
   "version": "3.8.5"
  },
  "varInspector": {
   "cols": {
    "lenName": 16,
    "lenType": 16,
    "lenVar": 40
   },
   "kernels_config": {
    "python": {
     "delete_cmd_postfix": "",
     "delete_cmd_prefix": "del ",
     "library": "var_list.py",
     "varRefreshCmd": "print(var_dic_list())"
    },
    "r": {
     "delete_cmd_postfix": ") ",
     "delete_cmd_prefix": "rm(",
     "library": "var_list.r",
     "varRefreshCmd": "cat(var_dic_list()) "
    }
   },
   "types_to_exclude": [
    "module",
    "function",
    "builtin_function_or_method",
    "instance",
    "_Feature"
   ],
   "window_display": false
  }
 },
 "nbformat": 4,
 "nbformat_minor": 4
}
